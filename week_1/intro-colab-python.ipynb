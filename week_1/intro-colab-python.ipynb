{
 "cells": [
  {
   "cell_type": "markdown",
   "metadata": {},
   "source": [
    "# Introduction to Colab and Python\n",
    "\n",
    "[![Open In Colab](https://colab.research.google.com/assets/colab-badge.svg)](https://colab.research.google.com/github/shinchu/dataviz-notebooks/blob/main/week_1/intro-colab-python.ipynb)"
   ]
  },
  {
   "cell_type": "markdown",
   "metadata": {
    "id": "pC69f-JXVOjF"
   },
   "source": [
    "<h1>Colab とは</h1>\n",
    "\n",
    "この部分は、Colabの<a href=\"https://colab.research.google.com/notebooks/welcome.ipynb?hl=ja#scrollTo=5fCEDCU_qrC0\n",
    "\"> 公式インストラクション</a>から一部抜粋しています。\n",
    "\n",
    "\n",
    "Colab（正式名称「Colaboratory」）では、ブラウザ上で Python を記述、実行できます。以下の機能を使用できます。 \n",
    "- 環境構築が不要\n",
    "- GPU への無料アクセス\n",
    "- 簡単に共有\n",
    "\n",
    "Colab は、<strong>学生</strong>から<strong>データ サイエンティスト</strong>、<strong>AI リサーチャー</strong>まで、皆さんの作業を効率化します。詳しくは、<a href=\"https://www.youtube.com/watch?v=inN8seMm7UI\">Colab の紹介動画</a>をご覧ください。"
   ]
  },
  {
   "cell_type": "markdown",
   "metadata": {
    "id": "GJBs_flRovLc"
   },
   "source": [
    "## はじめに\n",
    "\n",
    "このドキュメントは静的なウェブページではなく、<strong>Colab ノートブック</strong>という、コードを記述して実行できるインタラクティブな環境です。\n",
    "\n",
    "たとえば次の<strong>コードセル</strong>には、値を計算して変数に保存し、結果を出力する短い Python スクリプトが記述されています。"
   ]
  },
  {
   "cell_type": "code",
   "execution_count": null,
   "metadata": {
    "id": "ZJVFvlP9UJCy"
   },
   "outputs": [],
   "source": [
    "seconds_in_a_day = 24 * 60 * 60\n",
    "seconds_in_a_day"
   ]
  },
  {
   "cell_type": "markdown",
   "metadata": {
    "id": "PsddLUAZV6Mp"
   },
   "source": [
    "上記のセルのコードを実行するには、セルをクリックして選択し、コードの左側にある実行ボタンをクリックするか、キーボード ショートカット「command+return」または「Ctrl+Enter」を使用します。コードはセルをクリックしてそのまま編集できます。\n",
    "\n",
    "1 つのセルで定義した変数は、後で他のセルで使用できます。"
   ]
  },
  {
   "cell_type": "code",
   "execution_count": null,
   "metadata": {
    "id": "-l7ynNKzV8vv"
   },
   "outputs": [],
   "source": [
    "seconds_in_a_week = 7 * seconds_in_a_day\n",
    "seconds_in_a_week"
   ]
  },
  {
   "cell_type": "markdown",
   "metadata": {
    "id": "tupGqfGkV9N4"
   },
   "source": [
    "Colab ノートブックを使用すると、実行可能コードとリッチテキスト（画像、HTML、LaTeX なども可）を 1 つのドキュメントで記述できます。自分の Colab ノートブックを作成すると、Google ドライブ アカウントに保存されます。Colab ノートブックは、同僚や友人と簡単に共有し、コメントの記入や編集をしてもらうことができます。"
   ]
  },
  {
   "cell_type": "markdown",
   "metadata": {
    "id": "MsGOX4HNWCTH"
   },
   "source": [
    "# Pythonを使ってみよう\n",
    "\n",
    "この部分は、Pythonドキュメントを基に作成しています。  \n",
    "https://docs.python.org/ja/3/tutorial/introduction.html"
   ]
  },
  {
   "cell_type": "markdown",
   "metadata": {
    "id": "lcv6PNeReg-d"
   },
   "source": [
    "# Pythonで簡単な計算をしてみよう\n",
    "\n",
    "## Python変数\n",
    "\n",
    "Pythonでは、計算の結果に名前をつけて参照できます。名前をつけるときは、 = 記号を使って、次の形式で記述します。\n",
    "\n",
    "```\n",
    "名前 = 式\n",
    "```\n",
    "\n",
    "この名前のことを**変数**といい、`=`を使った行を**代入文**といいます。\n",
    "\n",
    "## Pythonのコメントの入れ方\n",
    "\n",
    "Python におけるコメント文は、ハッシュ文字 # で始まり、物理行の終わりまで続きます。コメントは行の先頭にも、空白やコードの後にも書くことができますが、文字列リテラルの内部に置くことはできません。文字列リテラル中のハッシュ文字はただのハッシュ文字です。コメントはコードを明快にするためのものであり、Pythonはコメントを解釈しません。なので、サンプルコードを実際に入力して試して見るときは、コメントを省いても大丈夫です。\n",
    "\n",
    "まずは実行してみましょう.comleteが表示されたら、実行できています。"
   ]
  },
  {
   "cell_type": "code",
   "execution_count": null,
   "metadata": {
    "colab": {
     "base_uri": "https://localhost:8080/"
    },
    "executionInfo": {
     "elapsed": 4,
     "status": "ok",
     "timestamp": 1655902726574,
     "user": {
      "displayName": "Yuki Taoka",
      "userId": "12869930129614921083"
     },
     "user_tz": -540
    },
    "id": "KMoMwuf4exTS",
    "outputId": "8f76e17f-c743-4254-889a-af338a399e85"
   },
   "outputs": [],
   "source": [
    "# this is the first comment\n",
    "spam = 1  # and this is the second comment\n",
    "          # ... and now a third!\n",
    "text = \"# This is not a comment because it's inside quotes.\"\n",
    "print(\"complete\")"
   ]
  },
  {
   "cell_type": "markdown",
   "metadata": {
    "id": "VUqk6faTfn-y"
   },
   "source": [
    "## 途中経過を表示しよう\n",
    "\n",
    "`print(\"出力したい文字列\")` の形式で「出力したい文字列」の部分に、出力したい文字や変数を入れます。printごとに自動的に改行されます"
   ]
  },
  {
   "cell_type": "code",
   "execution_count": null,
   "metadata": {
    "id": "8nCmOfo6fnb5"
   },
   "outputs": [],
   "source": [
    "print(\"Hello world!\")     #Hello world!が表示されます\n",
    "print(spam)             #spam変数が表示されます\n",
    "print(text)              #test変数が表示されます"
   ]
  },
  {
   "cell_type": "markdown",
   "metadata": {
    "id": "Dd1NUT1ngQUb"
   },
   "source": [
    "変数と文字列を表示したい場合は、%を用いて、変数部分を置き換えます。\n",
    "\n",
    "*   print('任意の文字列%s任意の文字列') % 変数 #変数の中身が文字列のとき\n",
    "*   print('任意の文字列%d任意の文字列') % 変数 #変数の中身が整数のとき"
   ]
  },
  {
   "cell_type": "code",
   "execution_count": null,
   "metadata": {
    "id": "jCkniJfmgPgU"
   },
   "outputs": [],
   "source": [
    "print(\"spam:%d\" % spam)\n",
    "print(\"text:%s\" % text)"
   ]
  },
  {
   "cell_type": "markdown",
   "metadata": {},
   "source": [
    "同じことを、以下のように表記することもできます"
   ]
  },
  {
   "cell_type": "code",
   "execution_count": null,
   "metadata": {},
   "outputs": [],
   "source": [
    "print(f\"spam:{spam}\")\n",
    "print(f\"text:{text}\")"
   ]
  },
  {
   "cell_type": "markdown",
   "metadata": {},
   "source": [
    "Pythonではシングルクォーテーション（'）とダブルクォーテーション（\"）を区別しません。\n",
    "\n",
    "\n",
    "【演習】上のセルのコードをシングルクォーテーションに直し、同じように動くことを確認しましょう。"
   ]
  },
  {
   "cell_type": "code",
   "execution_count": null,
   "metadata": {},
   "outputs": [],
   "source": [
    "# your code goes here"
   ]
  },
  {
   "cell_type": "code",
   "execution_count": null,
   "metadata": {},
   "outputs": [],
   "source": [
    "# answer\n",
    "\n",
    "print(f'spam:{spam}')\n",
    "print(f'text:{text}')"
   ]
  },
  {
   "cell_type": "markdown",
   "metadata": {
    "id": "Oxp20RB2iu56"
   },
   "source": [
    "## Pythonを電卓として使う\n",
    "簡単な電卓のように動作します: 式を入力すると、その結果が表示されます。\n",
    "\n",
    "式の文法は素直なものです: 演算子 +, -, *, / は (Pascal や C といった) 他のほとんどの言語と同じように動作します; 丸括弧 (()) をグループ化に使うこともできます。いくつか実施してみましょう。"
   ]
  },
  {
   "cell_type": "code",
   "execution_count": null,
   "metadata": {
    "colab": {
     "base_uri": "https://localhost:8080/"
    },
    "executionInfo": {
     "elapsed": 225,
     "status": "ok",
     "timestamp": 1655903461541,
     "user": {
      "displayName": "Yuki Taoka",
      "userId": "12869930129614921083"
     },
     "user_tz": -540
    },
    "id": "2IImLIXeiZbA",
    "outputId": "8159dbe9-961d-40c1-db02-492e57758b53"
   },
   "outputs": [],
   "source": [
    "2 + 2"
   ]
  },
  {
   "cell_type": "code",
   "execution_count": null,
   "metadata": {
    "id": "o48bIUj7ibYc"
   },
   "outputs": [],
   "source": [
    "50 - 5*6"
   ]
  },
  {
   "cell_type": "code",
   "execution_count": null,
   "metadata": {
    "id": "WFjtPaoKidKT"
   },
   "outputs": [],
   "source": [
    "(50 - 5*6) / 4"
   ]
  },
  {
   "cell_type": "code",
   "execution_count": null,
   "metadata": {
    "id": "LCBOVNSZigDz"
   },
   "outputs": [],
   "source": [
    "8 / 5  # division always returns a floating point number"
   ]
  },
  {
   "cell_type": "markdown",
   "metadata": {
    "id": "7MFczemoiZDs"
   },
   "source": [
    "整数 (例えば、 2 、 4 、 20) は int 型であり、小数部を持つ数 (例えば、 5.0 、 1.6) は float 型です。\n",
    "\n",
    "除算 (/) は常に浮動小数点数を返します。 // 演算子は 整数除算 を行い、(小数部を切り捨てた) 整数値を返します; 剰余は、% で求めます。"
   ]
  },
  {
   "cell_type": "code",
   "execution_count": null,
   "metadata": {
    "id": "xF1wleo_i9GB"
   },
   "outputs": [],
   "source": [
    "17/3"
   ]
  },
  {
   "cell_type": "code",
   "execution_count": null,
   "metadata": {
    "colab": {
     "base_uri": "https://localhost:8080/"
    },
    "executionInfo": {
     "elapsed": 3,
     "status": "ok",
     "timestamp": 1655903663147,
     "user": {
      "displayName": "Yuki Taoka",
      "userId": "12869930129614921083"
     },
     "user_tz": -540
    },
    "id": "LZMuXOJ1jI2-",
    "outputId": "697aeb2f-316f-4723-c62f-578aab273443"
   },
   "outputs": [],
   "source": [
    "17//3"
   ]
  },
  {
   "cell_type": "markdown",
   "metadata": {
    "id": "w-i--a2NiPmM"
   },
   "source": [
    "冪乗を計算するのに ** 演算子が使えます"
   ]
  },
  {
   "cell_type": "code",
   "execution_count": null,
   "metadata": {
    "colab": {
     "base_uri": "https://localhost:8080/"
    },
    "executionInfo": {
     "elapsed": 259,
     "status": "ok",
     "timestamp": 1655903726430,
     "user": {
      "displayName": "Yuki Taoka",
      "userId": "12869930129614921083"
     },
     "user_tz": -540
    },
    "id": "6VByABD1jZBV",
    "outputId": "97d79137-d191-4bda-c7a6-5846d31ce913"
   },
   "outputs": [],
   "source": [
    "5 * 2"
   ]
  },
  {
   "cell_type": "code",
   "execution_count": null,
   "metadata": {
    "colab": {
     "base_uri": "https://localhost:8080/"
    },
    "executionInfo": {
     "elapsed": 232,
     "status": "ok",
     "timestamp": 1655903711048,
     "user": {
      "displayName": "Yuki Taoka",
      "userId": "12869930129614921083"
     },
     "user_tz": -540
    },
    "id": "7AdpDaMdjTcp",
    "outputId": "000038d5-cb28-4306-ce2e-3aeaaa9a5a69"
   },
   "outputs": [],
   "source": [
    "5 ** 2"
   ]
  },
  {
   "cell_type": "markdown",
   "metadata": {
    "id": "o-B1_PK4jfop"
   },
   "source": [
    "等号 (=) は変数に値を代入するときに使います。代入を行っても、結果は出力されず、次の入力プロンプトが表示されます。\n",
    "変数が \"定義\" されていない (つまり値が代入されていない) 場合、その変数を使おうとするとエラーが発生します:"
   ]
  },
  {
   "cell_type": "code",
   "execution_count": null,
   "metadata": {
    "colab": {
     "base_uri": "https://localhost:8080/"
    },
    "executionInfo": {
     "elapsed": 435,
     "status": "ok",
     "timestamp": 1655904146848,
     "user": {
      "displayName": "Yuki Taoka",
      "userId": "12869930129614921083"
     },
     "user_tz": -540
    },
    "id": "0dz8tj_cjjr6",
    "outputId": "9384014c-c81b-4c3c-a2f5-4d28359f2148"
   },
   "outputs": [],
   "source": [
    "width = 20\n",
    "height = 5 * 9\n",
    "width * height"
   ]
  },
  {
   "cell_type": "code",
   "execution_count": null,
   "metadata": {
    "colab": {
     "base_uri": "https://localhost:8080/"
    },
    "executionInfo": {
     "elapsed": 226,
     "status": "ok",
     "timestamp": 1655904149783,
     "user": {
      "displayName": "Yuki Taoka",
      "userId": "12869930129614921083"
     },
     "user_tz": -540
    },
    "id": "rqGA1PORj68K",
    "outputId": "316841b1-de04-40f1-c844-38d453217016"
   },
   "outputs": [],
   "source": [
    "depth * width * height  #depthが定義されていないので、エラーが出ます."
   ]
  },
  {
   "cell_type": "markdown",
   "metadata": {
    "id": "Yj3WZsSvkQTl"
   },
   "source": [
    "エラー文には、コードを修正するためのヒントがあります。（英語ですが）きちんと文章を読みましょう。"
   ]
  },
  {
   "cell_type": "code",
   "execution_count": null,
   "metadata": {
    "colab": {
     "base_uri": "https://localhost:8080/"
    },
    "executionInfo": {
     "elapsed": 226,
     "status": "ok",
     "timestamp": 1655904155575,
     "user": {
      "displayName": "Yuki Taoka",
      "userId": "12869930129614921083"
     },
     "user_tz": -540
    },
    "id": "R0bjcV9nkEAC",
    "outputId": "6131ad65-b27e-4df9-bef3-8801b690afb6"
   },
   "outputs": [],
   "source": [
    "depth = 10 # depthを定義すると計算できるようになります。\n",
    "depth * width * height"
   ]
  },
  {
   "cell_type": "markdown",
   "metadata": {
    "id": "bfOp8u_0lMEg"
   },
   "source": [
    "最後に表示された結果は変数 _ に代入されます。このことを利用すると、Python を電卓として使うときに、計算を連続して行う作業が多少楽になります。以下に例を示します:"
   ]
  },
  {
   "cell_type": "code",
   "execution_count": null,
   "metadata": {
    "colab": {
     "base_uri": "https://localhost:8080/"
    },
    "executionInfo": {
     "elapsed": 237,
     "status": "ok",
     "timestamp": 1655904365121,
     "user": {
      "displayName": "Yuki Taoka",
      "userId": "12869930129614921083"
     },
     "user_tz": -540
    },
    "id": "EPVYAoY4k6Ba",
    "outputId": "93dd95ea-13c9-4e15-aa1a-f0d493d49d71"
   },
   "outputs": [],
   "source": [
    "_"
   ]
  },
  {
   "cell_type": "markdown",
   "metadata": {
    "id": "EN9FUkQTlXHv"
   },
   "source": [
    "int と float に加え、 Python は Decimal や Fraction などの他の数値型もサポートしています。 複素数 も組み込み型としてサポートしており、 j もしくは J 接尾辞を使って虚部を示します (例: 3+5j)。"
   ]
  },
  {
   "cell_type": "markdown",
   "metadata": {
    "id": "22CLjnJUlgOs"
   },
   "source": [
    "## 文字列を扱う\n",
    "\n",
    "数だけではなく、文字列も操作できます。文字列を記述する方法は複数あり、単引用符 ('...') で囲むか、もしくは二重引用符 (\"...\") で囲みます。結果はどちらも同じ文字列になります。\n",
    "引用符（', \"）は、\\ でエスケープできます。"
   ]
  },
  {
   "cell_type": "code",
   "execution_count": null,
   "metadata": {
    "colab": {
     "base_uri": "https://localhost:8080/",
     "height": 35
    },
    "executionInfo": {
     "elapsed": 229,
     "status": "ok",
     "timestamp": 1655904368322,
     "user": {
      "displayName": "Yuki Taoka",
      "userId": "12869930129614921083"
     },
     "user_tz": -540
    },
    "id": "kVpOqCMHlYNa",
    "outputId": "933a12de-e3b2-49df-aa67-5c3e16485be3"
   },
   "outputs": [],
   "source": [
    "'spam eggs'  # single quotes"
   ]
  },
  {
   "cell_type": "code",
   "execution_count": null,
   "metadata": {
    "colab": {
     "base_uri": "https://localhost:8080/",
     "height": 35
    },
    "executionInfo": {
     "elapsed": 6,
     "status": "ok",
     "timestamp": 1655904371248,
     "user": {
      "displayName": "Yuki Taoka",
      "userId": "12869930129614921083"
     },
     "user_tz": -540
    },
    "id": "Uaej3hENlktg",
    "outputId": "1b84258a-dd42-49e0-deb1-8164a6eb02ad"
   },
   "outputs": [],
   "source": [
    "'doesn\\'t'  # use \\' to escape the single quote..."
   ]
  },
  {
   "cell_type": "code",
   "execution_count": null,
   "metadata": {
    "colab": {
     "base_uri": "https://localhost:8080/",
     "height": 35
    },
    "executionInfo": {
     "elapsed": 5,
     "status": "ok",
     "timestamp": 1655904374180,
     "user": {
      "displayName": "Yuki Taoka",
      "userId": "12869930129614921083"
     },
     "user_tz": -540
    },
    "id": "LjR29xLSlpXb",
    "outputId": "252f96df-a6a7-4f41-a8f3-f89356135fb6"
   },
   "outputs": [],
   "source": [
    "\"doesn't\"  # ...or use double quotes instead"
   ]
  },
  {
   "cell_type": "code",
   "execution_count": null,
   "metadata": {
    "colab": {
     "base_uri": "https://localhost:8080/",
     "height": 35
    },
    "executionInfo": {
     "elapsed": 257,
     "status": "ok",
     "timestamp": 1655904377999,
     "user": {
      "displayName": "Yuki Taoka",
      "userId": "12869930129614921083"
     },
     "user_tz": -540
    },
    "id": "yuWB26Rvlr0_",
    "outputId": "e8fa6de4-b19c-4c8c-8dae-743958f9bad3"
   },
   "outputs": [],
   "source": [
    "'\"Yes,\" they said.'"
   ]
  },
  {
   "cell_type": "code",
   "execution_count": null,
   "metadata": {
    "colab": {
     "base_uri": "https://localhost:8080/",
     "height": 35
    },
    "executionInfo": {
     "elapsed": 236,
     "status": "ok",
     "timestamp": 1655904380596,
     "user": {
      "displayName": "Yuki Taoka",
      "userId": "12869930129614921083"
     },
     "user_tz": -540
    },
    "id": "oYJzi01mlu32",
    "outputId": "b4e2373a-aeb4-490c-fbb8-6d88fceb1164"
   },
   "outputs": [],
   "source": [
    "'\"Yes,\" they said.'"
   ]
  },
  {
   "cell_type": "code",
   "execution_count": null,
   "metadata": {
    "id": "Araudv3nlwjZ"
   },
   "outputs": [],
   "source": [
    "\"\\\"Yes,\\\" they said.\""
   ]
  },
  {
   "cell_type": "code",
   "execution_count": null,
   "metadata": {
    "id": "mA1yVnp6lyvZ"
   },
   "outputs": [],
   "source": [
    "'\"Isn\\'t,\" they said.'"
   ]
  },
  {
   "cell_type": "markdown",
   "metadata": {
    "id": "jnPdKn4lnsjS"
   },
   "source": [
    "出力文字列は引用符に囲まれ、特殊文字はバックスラッシュでエスケープされます。出力文字が入力とは違って見える (囲っている引用符が変わる) こともありますが、その 2 つの文字列は同じ文字列です。文字列が単引用符を含み二重引用符を含まない場合、二重引用符で囲われ、それ以外の場合は単引用符で囲われます。"
   ]
  },
  {
   "cell_type": "code",
   "execution_count": null,
   "metadata": {
    "id": "LwgT6t96ntWu"
   },
   "outputs": [],
   "source": [
    "'\"Isn\\'t,\" they said.'"
   ]
  },
  {
   "cell_type": "code",
   "execution_count": null,
   "metadata": {
    "id": "H5xB2lgqnuyt"
   },
   "outputs": [],
   "source": [
    "print('\"Isn\\'t,\" they said.')"
   ]
  },
  {
   "cell_type": "code",
   "execution_count": null,
   "metadata": {
    "id": "y0Y8mE84nygM"
   },
   "outputs": [],
   "source": [
    "s = 'First line.\\nSecond line.'  # \\n means newline"
   ]
  },
  {
   "cell_type": "code",
   "execution_count": null,
   "metadata": {
    "id": "pPQMx4JUn0Hg"
   },
   "outputs": [],
   "source": [
    "s  # without print(), \\n is included in the output"
   ]
  },
  {
   "cell_type": "code",
   "execution_count": null,
   "metadata": {
    "id": "GvoMqQx8n2BC"
   },
   "outputs": [],
   "source": [
    "print(s)  # with print(), \\n produces a new line"
   ]
  },
  {
   "cell_type": "markdown",
   "metadata": {
    "id": "3EWlr_yPn4Nx"
   },
   "source": [
    "\\ に続く文字を特殊文字として解釈されたくない場合は、最初の引用符の前に r を付けた raw strings が使えます。要注意は、改行を意味する \\n です。"
   ]
  },
  {
   "cell_type": "code",
   "execution_count": null,
   "metadata": {
    "id": "Uj0F9rSWn4vy"
   },
   "outputs": [],
   "source": [
    "print('C:\\some\\name')  # here \\n means newline!"
   ]
  },
  {
   "cell_type": "code",
   "execution_count": null,
   "metadata": {
    "id": "4YJkzZ-6n7dz"
   },
   "outputs": [],
   "source": [
    "print(r'C:\\some\\name')  # note the r before the quote"
   ]
  },
  {
   "cell_type": "markdown",
   "metadata": {
    "id": "6WtwwIGOn-b4"
   },
   "source": [
    "文字列リテラルは複数行にまたがって書けます。1 つの方法は三連引用符 (\"\"\"...\"\"\" や '''...''') を使うことです。改行文字は自動的に文字列に含まれますが、行末に \\ を付けることで含めないようにすることもできます。\n",
    "(最初の改行文字は含まれていないことに注意してください)"
   ]
  },
  {
   "cell_type": "code",
   "execution_count": null,
   "metadata": {
    "colab": {
     "base_uri": "https://localhost:8080/"
    },
    "executionInfo": {
     "elapsed": 671,
     "status": "ok",
     "timestamp": 1655905020351,
     "user": {
      "displayName": "Yuki Taoka",
      "userId": "12869930129614921083"
     },
     "user_tz": -540
    },
    "id": "f-IjAwqSoO0L",
    "outputId": "5d658e7c-c72c-404e-900b-cc6e88e23b69"
   },
   "outputs": [],
   "source": [
    "print(\"\"\"\\\n",
    "Usage: thingy [OPTIONS]\n",
    "     -h                        Display this usage message\n",
    "     -H hostname               Hostname to connect to\n",
    "\"\"\")"
   ]
  },
  {
   "cell_type": "markdown",
   "metadata": {
    "id": "mMMtsp63ob0g"
   },
   "source": [
    "文字列は + 演算子で連結させる (くっつけて一つにする) ことができ、* 演算子で反復させることができます:"
   ]
  },
  {
   "cell_type": "code",
   "execution_count": null,
   "metadata": {
    "id": "J4AQ6GTZofwG"
   },
   "outputs": [],
   "source": [
    "# 3 times 'un', followed by 'ium'\n",
    "# 'unununium'が表示されます\n",
    "3 * 'un' + 'ium'"
   ]
  },
  {
   "cell_type": "markdown",
   "metadata": {
    "id": "8Zhnt6HFoqps"
   },
   "source": [
    "連続して並んでいる複数の 文字列リテラル (つまり、引用符に囲われた文字列) は、自動的に連結されます。"
   ]
  },
  {
   "cell_type": "code",
   "execution_count": null,
   "metadata": {
    "id": "EIEiV7hEokMy"
   },
   "outputs": [],
   "source": [
    "'Py' 'thon'"
   ]
  },
  {
   "cell_type": "markdown",
   "metadata": {
    "id": "cFsOlE3-o84o"
   },
   "source": [
    "この機能は、長い文字列を改行したいときにとても役に立ちます:"
   ]
  },
  {
   "cell_type": "code",
   "execution_count": null,
   "metadata": {
    "colab": {
     "base_uri": "https://localhost:8080/",
     "height": 35
    },
    "executionInfo": {
     "elapsed": 381,
     "status": "ok",
     "timestamp": 1655905200610,
     "user": {
      "displayName": "Yuki Taoka",
      "userId": "12869930129614921083"
     },
     "user_tz": -540
    },
    "id": "ComDQvPmo9Q3",
    "outputId": "8774b905-7869-435c-cf4a-307f6096e500"
   },
   "outputs": [],
   "source": [
    "text = ('Put several strings within parentheses '\n",
    "'to have them joined together.')\n",
    "text"
   ]
  },
  {
   "cell_type": "markdown",
   "metadata": {
    "id": "RPPuo6nqpRPR"
   },
   "source": [
    "これは2つのリテラルどうしに対してのみ働き、変数や式には働きません。下の例はどちらもエラーがでます。"
   ]
  },
  {
   "cell_type": "code",
   "execution_count": null,
   "metadata": {},
   "outputs": [],
   "source": [
    "prefix = 'Py'"
   ]
  },
  {
   "cell_type": "code",
   "execution_count": null,
   "metadata": {
    "id": "Z4netcw2pTrA"
   },
   "outputs": [],
   "source": [
    "prefix 'thon'  # can't concatenate a variable and a string literal"
   ]
  },
  {
   "cell_type": "code",
   "execution_count": null,
   "metadata": {
    "id": "JwH1TegMpWUb"
   },
   "outputs": [],
   "source": [
    "('un' * 3) 'ium'"
   ]
  },
  {
   "cell_type": "markdown",
   "metadata": {},
   "source": [
    "文章を単語に分解しリスト化することもできます。"
   ]
  },
  {
   "cell_type": "code",
   "execution_count": null,
   "metadata": {},
   "outputs": [],
   "source": [
    "words = \"Hello World\"\n",
    "words = words.split()\n",
    "print(words)"
   ]
  },
  {
   "cell_type": "markdown",
   "metadata": {
    "id": "sq22YVPDpeG3"
   },
   "source": [
    "変数どうしや変数とリテラルを連結したい場合は、+ を使ってください"
   ]
  },
  {
   "cell_type": "code",
   "execution_count": null,
   "metadata": {
    "id": "e9Uj-4EKpdrd"
   },
   "outputs": [],
   "source": [
    "prefix + 'thon'"
   ]
  },
  {
   "cell_type": "markdown",
   "metadata": {
    "id": "ykI3IfqQqKH_"
   },
   "source": [
    "## リスト(list) を使う\n",
    "Pythonは多くの 複合 (compound) データ型を備えており、複数の値をまとめるのに使われます。最も汎用性が高いのは リスト (list) で、コンマ区切りの値 (要素) の並びを角括弧で囲んだものとして書き表されます。リストは異なる型の要素を含むこともありますが、通常は同じ型の要素のみを持ちます。"
   ]
  },
  {
   "cell_type": "code",
   "execution_count": null,
   "metadata": {
    "colab": {
     "base_uri": "https://localhost:8080/"
    },
    "executionInfo": {
     "elapsed": 3,
     "status": "ok",
     "timestamp": 1655905602946,
     "user": {
      "displayName": "Yuki Taoka",
      "userId": "12869930129614921083"
     },
     "user_tz": -540
    },
    "id": "vrXtaVUnqWQV",
    "outputId": "320c28f0-7f36-401d-92fc-5a0b04e2b531"
   },
   "outputs": [],
   "source": [
    "squares = [1, 4, 9, 16, 25]\n",
    "squares"
   ]
  },
  {
   "cell_type": "markdown",
   "metadata": {
    "id": "cBnaMzZ0q8Hz"
   },
   "source": [
    "インデックス (添字) を指定して文字を取得できます。最初の文字のインデックスは 0 になります。インデックスには、負の値も指定できまます。この場合、右から数えていきます. -0 は 0 と区別できないので、負のインデックスは -1 から始まります。"
   ]
  },
  {
   "cell_type": "code",
   "execution_count": null,
   "metadata": {
    "id": "Z9XMjw-pqp1Q"
   },
   "outputs": [],
   "source": [
    "squares[0]  # indexing returns the item"
   ]
  },
  {
   "cell_type": "code",
   "execution_count": null,
   "metadata": {
    "id": "xjFAuHeGqqa9"
   },
   "outputs": [],
   "source": [
    "squares[-1]"
   ]
  },
  {
   "cell_type": "code",
   "execution_count": null,
   "metadata": {
    "colab": {
     "base_uri": "https://localhost:8080/"
    },
    "executionInfo": {
     "elapsed": 624,
     "status": "ok",
     "timestamp": 1655906051214,
     "user": {
      "displayName": "Yuki Taoka",
      "userId": "12869930129614921083"
     },
     "user_tz": -540
    },
    "id": "mY1AavIJqr6H",
    "outputId": "13f0ccee-ceb9-430a-c0fe-858bfaf77c9a"
   },
   "outputs": [],
   "source": [
    "squares[-3:]  # slicing returns a new list"
   ]
  },
  {
   "cell_type": "markdown",
   "metadata": {
    "id": "vfgJKN4BsD0o"
   },
   "source": [
    "リストは、リストの連結などもサポートしています"
   ]
  },
  {
   "cell_type": "code",
   "execution_count": null,
   "metadata": {
    "id": "Udt6uwK_sDaB"
   },
   "outputs": [],
   "source": [
    "squares + [36, 49, 64, 81, 100]"
   ]
  },
  {
   "cell_type": "markdown",
   "metadata": {
    "id": "rKsQrmHqsGYd"
   },
   "source": [
    "リストは 可変型ですので、要素を入れ替えられます:"
   ]
  },
  {
   "cell_type": "code",
   "execution_count": null,
   "metadata": {
    "id": "kdRTXLiXsIoE"
   },
   "outputs": [],
   "source": [
    "cubes = [1, 8, 27, 65, 125]  # something's wrong here\n",
    "4 ** 3  # the cube of 4 is 64, not 65!"
   ]
  },
  {
   "cell_type": "code",
   "execution_count": null,
   "metadata": {
    "id": "TA9f9gu9sNaB"
   },
   "outputs": [],
   "source": [
    "cubes[3] = 64  # replace the wrong value\n",
    "cubes"
   ]
  },
  {
   "cell_type": "markdown",
   "metadata": {
    "id": "1EbylhpysuWA"
   },
   "source": [
    "append() を使って、リストの末尾に新しい要素を追加できます (このメソッドについては後で詳しく見ていきます):"
   ]
  },
  {
   "cell_type": "code",
   "execution_count": null,
   "metadata": {
    "id": "0fltvJJfsv_t"
   },
   "outputs": [],
   "source": [
    "cubes.append(216)  # add the cube of 6\n",
    "cubes.append(7 ** 3)  # and the cube of 7\n",
    "cubes"
   ]
  },
  {
   "cell_type": "markdown",
   "metadata": {
    "id": "3lcSh_UFs3b2"
   },
   "source": [
    "スライスには、代入もできます。スライスの代入で、リストのサイズを変更したり、全てを削除したりもできます:"
   ]
  },
  {
   "cell_type": "code",
   "execution_count": null,
   "metadata": {
    "colab": {
     "base_uri": "https://localhost:8080/"
    },
    "executionInfo": {
     "elapsed": 249,
     "status": "ok",
     "timestamp": 1655906300693,
     "user": {
      "displayName": "Yuki Taoka",
      "userId": "12869930129614921083"
     },
     "user_tz": -540
    },
    "id": "CVdOIC1As6qY",
    "outputId": "6e7418b0-4d68-4879-ff77-06a2923a2a8c"
   },
   "outputs": [],
   "source": [
    "letters = ['a', 'b', 'c', 'd', 'e', 'f', 'g']\n",
    "letters"
   ]
  },
  {
   "cell_type": "markdown",
   "metadata": {},
   "source": [
    "スライスでは、start:stop:stepの形で範囲と増分を指定できます。startが始点、stopが終点となります。文字そのものではなく、文字と文字の間を指し、最初の文字の左端が0です。また、stepは省略できます。"
   ]
  },
  {
   "cell_type": "code",
   "execution_count": null,
   "metadata": {
    "colab": {
     "base_uri": "https://localhost:8080/"
    },
    "executionInfo": {
     "elapsed": 323,
     "status": "ok",
     "timestamp": 1655906303351,
     "user": {
      "displayName": "Yuki Taoka",
      "userId": "12869930129614921083"
     },
     "user_tz": -540
    },
    "id": "mjkGEHbCs9Ex",
    "outputId": "d54e8bcc-d93e-4e1e-9099-28dd9373499e"
   },
   "outputs": [],
   "source": [
    "# replace some values\n",
    "letters[2:5] = ['C', 'D', 'E']\n",
    "letters"
   ]
  },
  {
   "cell_type": "code",
   "execution_count": null,
   "metadata": {
    "colab": {
     "base_uri": "https://localhost:8080/"
    },
    "executionInfo": {
     "elapsed": 226,
     "status": "ok",
     "timestamp": 1655906306017,
     "user": {
      "displayName": "Yuki Taoka",
      "userId": "12869930129614921083"
     },
     "user_tz": -540
    },
    "id": "epm8fd3ftCu2",
    "outputId": "22e63266-58ab-4ebf-de6f-5461c83f2797"
   },
   "outputs": [],
   "source": [
    "# now remove them\n",
    "letters[2:5] = []\n",
    "letters"
   ]
  },
  {
   "cell_type": "markdown",
   "metadata": {},
   "source": [
    "始点・終点を省略すると自動的に、先頭もしくは末尾となります。"
   ]
  },
  {
   "cell_type": "code",
   "execution_count": null,
   "metadata": {
    "colab": {
     "base_uri": "https://localhost:8080/"
    },
    "executionInfo": {
     "elapsed": 614,
     "status": "ok",
     "timestamp": 1655906310971,
     "user": {
      "displayName": "Yuki Taoka",
      "userId": "12869930129614921083"
     },
     "user_tz": -540
    },
    "id": "XffZ3WmstEQx",
    "outputId": "9ae02474-87bb-419d-9bec-f3d37b9a6b19"
   },
   "outputs": [],
   "source": [
    "# clear the list by replacing all the elements with an empty list\n",
    "letters[:] = []\n",
    "letters"
   ]
  },
  {
   "cell_type": "markdown",
   "metadata": {},
   "source": [
    "負の数字を入れることもできます。その場合、右端が0となります"
   ]
  },
  {
   "cell_type": "code",
   "execution_count": null,
   "metadata": {},
   "outputs": [],
   "source": [
    "letters = ['a', 'b', 'c', 'd', 'e', 'f', 'g']\n",
    "letters[-3:-1]"
   ]
  },
  {
   "cell_type": "markdown",
   "metadata": {},
   "source": [
    "stepを負にすると逆順に呼び出せます"
   ]
  },
  {
   "cell_type": "code",
   "execution_count": null,
   "metadata": {},
   "outputs": [],
   "source": [
    "letters[::-1]"
   ]
  },
  {
   "cell_type": "markdown",
   "metadata": {
    "id": "YSjq5ugLtWwn"
   },
   "source": [
    "組込み関数 len() はリストにも使えます:"
   ]
  },
  {
   "cell_type": "code",
   "execution_count": null,
   "metadata": {
    "colab": {
     "base_uri": "https://localhost:8080/"
    },
    "executionInfo": {
     "elapsed": 238,
     "status": "ok",
     "timestamp": 1655906315293,
     "user": {
      "displayName": "Yuki Taoka",
      "userId": "12869930129614921083"
     },
     "user_tz": -540
    },
    "id": "bNzHomW4tNYB",
    "outputId": "58608b37-1067-4ce2-e1a1-c866f2e53630"
   },
   "outputs": [],
   "source": [
    "letters = ['a', 'b', 'c', 'd']\n",
    "len(letters)"
   ]
  },
  {
   "cell_type": "markdown",
   "metadata": {
    "id": "EEw6t49jtafU"
   },
   "source": [
    "リストを入れ子 (ほかのリストを含むリストを造る) にできます。例えば:"
   ]
  },
  {
   "cell_type": "code",
   "execution_count": null,
   "metadata": {
    "id": "zMFkuCf9tbBR"
   },
   "outputs": [],
   "source": [
    "a = ['a', 'b', 'c']\n",
    "n = [1, 2, 3]\n",
    "x = [a, n]\n",
    "x"
   ]
  },
  {
   "cell_type": "code",
   "execution_count": null,
   "metadata": {
    "id": "qd24zqI_tgaQ"
   },
   "outputs": [],
   "source": [
    "x[0]"
   ]
  },
  {
   "cell_type": "code",
   "execution_count": null,
   "metadata": {
    "id": "nNW-3ZsOtiQI"
   },
   "outputs": [],
   "source": [
    "x[0][1]"
   ]
  },
  {
   "cell_type": "markdown",
   "metadata": {},
   "source": [
    "## 辞書（dictionary）を使う"
   ]
  },
  {
   "cell_type": "markdown",
   "metadata": {},
   "source": [
    "辞書は、キー（key）と値（value）を対応付けるデータです。キーとしては、文字列・数値など変更不可能なデータを使うことができますが、変更可能なデータであるリスト・辞書を使うことはできません。値としては、変更の可否にかかわらずあらゆる種類のデータを指定できます。"
   ]
  },
  {
   "cell_type": "code",
   "execution_count": null,
   "metadata": {},
   "outputs": [],
   "source": [
    "fruit = {'apple': 3, 'banana': 2, 'orange': 10}"
   ]
  },
  {
   "cell_type": "code",
   "execution_count": null,
   "metadata": {},
   "outputs": [],
   "source": [
    "fruit"
   ]
  },
  {
   "cell_type": "code",
   "execution_count": null,
   "metadata": {},
   "outputs": [],
   "source": [
    "type(fruit)"
   ]
  },
  {
   "cell_type": "markdown",
   "metadata": {},
   "source": [
    "辞書のキーに対応する値を得るには、リストにおけるインデックスと同様に、\n",
    "\n",
    "`辞書[キー]`\n",
    "\n",
    "とします。"
   ]
  },
  {
   "cell_type": "code",
   "execution_count": null,
   "metadata": {},
   "outputs": [],
   "source": [
    "fruit['apple']"
   ]
  },
  {
   "cell_type": "markdown",
   "metadata": {},
   "source": [
    "辞書に登録されていないキーを指定すると、エラーになります。"
   ]
  },
  {
   "cell_type": "code",
   "execution_count": null,
   "metadata": {},
   "outputs": [],
   "source": [
    "fruit['mango']"
   ]
  },
  {
   "cell_type": "markdown",
   "metadata": {},
   "source": [
    "キーに対する値を変更したり、新たなキーとして値を登録するには、代入文を使います。"
   ]
  },
  {
   "cell_type": "code",
   "execution_count": null,
   "metadata": {},
   "outputs": [],
   "source": [
    "fruit['apple'] = 5\n",
    "fruit"
   ]
  },
  {
   "cell_type": "markdown",
   "metadata": {},
   "source": [
    "キーが辞書に登録されているかどうかは、演算子`in`を使って調べることができます"
   ]
  },
  {
   "cell_type": "code",
   "execution_count": null,
   "metadata": {},
   "outputs": [],
   "source": [
    "'orange' in fruit"
   ]
  },
  {
   "cell_type": "code",
   "execution_count": null,
   "metadata": {},
   "outputs": [],
   "source": [
    "'lime' in fruit"
   ]
  },
  {
   "cell_type": "markdown",
   "metadata": {},
   "source": [
    "組み込み関数`len`を使って、辞書に登録されている要素の数が得られます。"
   ]
  },
  {
   "cell_type": "code",
   "execution_count": null,
   "metadata": {},
   "outputs": [],
   "source": [
    "len(fruit)"
   ]
  },
  {
   "cell_type": "markdown",
   "metadata": {},
   "source": [
    "`del`文を使って、登録されている要素を削除することができます。"
   ]
  },
  {
   "cell_type": "code",
   "execution_count": null,
   "metadata": {},
   "outputs": [],
   "source": [
    "del fruit['apple']\n",
    "fruit"
   ]
  },
  {
   "cell_type": "markdown",
   "metadata": {},
   "source": [
    "空のリストと同様に、空の辞書を作ることもできます。このような空のデータは繰り返し処理でよく使われます。"
   ]
  },
  {
   "cell_type": "code",
   "execution_count": null,
   "metadata": {},
   "outputs": [],
   "source": [
    "empty = {}\n",
    "empty"
   ]
  },
  {
   "cell_type": "markdown",
   "metadata": {
    "id": "RLvMJGSStsNI"
   },
   "source": [
    "## if 文\n",
    "最もおなじみの文型は if 文です。ゼロ個以上の elif 部を使うことができ、 else 部を付けることもできます。キーワード 'elif' は 'else if' を短くしたものです。一連の if ... elif ... elif ... は、他の言語における switch 文や case 文の代用となります。"
   ]
  },
  {
   "cell_type": "code",
   "execution_count": null,
   "metadata": {
    "id": "hgWEIUHntwRX"
   },
   "outputs": [],
   "source": [
    "x = int(input(\"Please enter an integer: \"))\n",
    "\n",
    "if x < 0:\n",
    "    x = 0\n",
    "    print('Negative changed to zero')\n",
    "elif x == 0:\n",
    "    print('Zero')\n",
    "elif x == 1:\n",
    "    print('Single')\n",
    "else:\n",
    "    print('More')"
   ]
  },
  {
   "cell_type": "markdown",
   "metadata": {},
   "source": [
    "【演習】xが0以上の時に、 \"Hello World!\" が表示されるようにしましょう"
   ]
  },
  {
   "cell_type": "code",
   "execution_count": null,
   "metadata": {},
   "outputs": [],
   "source": [
    "# your code goes here"
   ]
  },
  {
   "cell_type": "code",
   "execution_count": null,
   "metadata": {},
   "outputs": [],
   "source": [
    "# answer\n",
    "\n",
    "x = int(input(\"Please enter an integer: \"))\n",
    "\n",
    "if x >= 0:\n",
    "    print(\"Hello World!\")"
   ]
  },
  {
   "cell_type": "markdown",
   "metadata": {},
   "source": [
    "【演習】変数heightが120以上の時は、「乗れます」、120未満の時は「乗れません」を表示してください"
   ]
  },
  {
   "cell_type": "code",
   "execution_count": null,
   "metadata": {},
   "outputs": [],
   "source": [
    "# your code goes here"
   ]
  },
  {
   "cell_type": "code",
   "execution_count": null,
   "metadata": {},
   "outputs": [],
   "source": [
    "# answer\n",
    "\n",
    "height = int(input(\"Please enter an integer: \")) #hogehoge を実際の数字に変更してください\n",
    "\n",
    "if height >= 120:\n",
    "    print(\"乗れます\")\n",
    "else:\n",
    "    print(\"乗れません\")"
   ]
  },
  {
   "cell_type": "markdown",
   "metadata": {
    "id": "ZsNhpd-Gt0Dw"
   },
   "source": [
    "## for 文\n",
    "\n",
    "Python の for 文は、C 言語のfor 文とは違います。 Python の for 文は、任意のリストまたは文字列にわたって反復を行います。反復の順番はシーケンス中に要素が現れる順番です。例えば:"
   ]
  },
  {
   "cell_type": "code",
   "execution_count": null,
   "metadata": {
    "id": "7AZsZc74t7QW"
   },
   "outputs": [],
   "source": [
    "# Measure some strings:\n",
    "words = ['cat', 'window', 'defenestrate']\n",
    "for w in words:\n",
    "    print(w)"
   ]
  },
  {
   "cell_type": "markdown",
   "metadata": {},
   "source": [
    "【演習】wordsリストの中の要素の文字数を、順番に表示してください。文字数のカウントにはlen()が便利です。\n",
    "\n",
    "以下の様な出力を期待します。\n",
    "\n",
    "```\n",
    "cat 3\n",
    "window 6\n",
    "defenestrate 12\n",
    "```"
   ]
  },
  {
   "cell_type": "code",
   "execution_count": null,
   "metadata": {},
   "outputs": [],
   "source": [
    "word = \"Hello\"\n",
    "n_word = len(word)\n",
    "print(n_word)"
   ]
  },
  {
   "cell_type": "code",
   "execution_count": null,
   "metadata": {},
   "outputs": [],
   "source": [
    "words = ['cat', 'window', 'defenestrate']\n",
    "\n",
    "# your code goes here"
   ]
  },
  {
   "cell_type": "code",
   "execution_count": null,
   "metadata": {},
   "outputs": [],
   "source": [
    "# answer\n",
    "\n",
    "for w in words:\n",
    "    print(f\"{w} {len(w)}\")"
   ]
  },
  {
   "cell_type": "markdown",
   "metadata": {},
   "source": [
    "【演習】forとappendを使って、[0,1,2,3]というリストを作成してください。"
   ]
  },
  {
   "cell_type": "code",
   "execution_count": null,
   "metadata": {},
   "outputs": [],
   "source": [
    "# your code goes here"
   ]
  },
  {
   "cell_type": "code",
   "execution_count": null,
   "metadata": {},
   "outputs": [],
   "source": [
    "# answer\n",
    "\n",
    "l = []\n",
    "for i in range(4):\n",
    "    l.append(i)\n",
    "\n",
    "l"
   ]
  },
  {
   "cell_type": "markdown",
   "metadata": {},
   "source": [
    "【演習】\n",
    "\n",
    "次のリスト`usa`が与えられた時に、リストの各要素をキー、各要素のリストにおける順番（1から始めるとする）を値とした辞書`usa_d`を作成してください。"
   ]
  },
  {
   "cell_type": "code",
   "execution_count": null,
   "metadata": {},
   "outputs": [],
   "source": [
    "usa = ['george washington', 'john adams', 'thomas jefferson', 'james madison', 'james monroe', 'john quincy adams', 'andrew jackson',  'martin van buren', 'william henry harrison', 'john tyler', 'james knox polk', 'zachary taylor']\n",
    "\n",
    "# your code goes here"
   ]
  },
  {
   "cell_type": "code",
   "execution_count": null,
   "metadata": {},
   "outputs": [],
   "source": [
    "# answer\n",
    "\n",
    "usa_d = {}\n",
    "i = 1\n",
    "for name in usa:\n",
    "    usa_d[name] = i\n",
    "    i += 1\n",
    "\n",
    "usa_d"
   ]
  },
  {
   "cell_type": "markdown",
   "metadata": {
    "id": "zPjPYhHfvDC6"
   },
   "source": [
    "## while 文\n",
    "\n",
    "while は、条件 (ここでは `` a < 10``) が真である限り実行を繰り返し (ループし) ます。条件式には、文字列値やリスト値なども使えます。サンプルで使われている条件テストはシンプルな例です。標準的な比較演算子は C 言語と同様です: < (より小さい)、 > (より大きい)、 == (等しい)、 <= (より小さいか等しい)、 >= (より大きいか等しい)、および != (等しくない)、です。"
   ]
  },
  {
   "cell_type": "code",
   "execution_count": null,
   "metadata": {
    "id": "-NeFdurcvb_d"
   },
   "outputs": [],
   "source": [
    "# Fibonacci series:\n",
    "# the sum of two elements defines the next\n",
    "\n",
    "a, b = 0, 1\n",
    "while a < 10:\n",
    "    print(a)\n",
    "    a, b = b, a + b"
   ]
  },
  {
   "cell_type": "code",
   "execution_count": null,
   "metadata": {
    "id": "Vyygw1b7vguc"
   },
   "outputs": [],
   "source": [
    "a, b = 0, 1\n",
    "while a < 1000:\n",
    "    print(a, end=',')\n",
    "    a, b = b, a + b"
   ]
  },
  {
   "cell_type": "markdown",
   "metadata": {},
   "source": [
    "【演習】上のコードを改変して、aが3000未満の間コードが実行されるようにしてください。 "
   ]
  },
  {
   "cell_type": "code",
   "execution_count": null,
   "metadata": {},
   "outputs": [],
   "source": [
    "# your code goes here"
   ]
  },
  {
   "cell_type": "code",
   "execution_count": null,
   "metadata": {},
   "outputs": [],
   "source": [
    "# answer\n",
    "\n",
    "a, b = 0, 1\n",
    "while a < 3000:\n",
    "    print(a, end=',')\n",
    "    a, b = b, a + b"
   ]
  },
  {
   "cell_type": "markdown",
   "metadata": {},
   "source": [
    "# 自然言語処理をやってみよう\n",
    "\n",
    "この部分は、言語処理100本ノックから抜粋しています。  \n",
    "https://nlp100.github.io/2025/ja/index.html"
   ]
  },
  {
   "cell_type": "markdown",
   "metadata": {},
   "source": [
    "## 文字を逆列にする\n",
    "【演習】文字列”stressed”の文字を逆に（末尾から先頭に向かって）並べた文字列を得よ。"
   ]
  },
  {
   "cell_type": "code",
   "execution_count": null,
   "metadata": {},
   "outputs": [],
   "source": [
    "# your code goes here"
   ]
  },
  {
   "cell_type": "code",
   "execution_count": null,
   "metadata": {},
   "outputs": [],
   "source": [
    "# answer\n",
    "\n",
    "\n",
    "string = 'stressed'\n",
    "string[-1::-1]"
   ]
  },
  {
   "cell_type": "markdown",
   "metadata": {},
   "source": [
    "## 文字列の連結1\n",
    "【演習】「パタトクカシーー」という文字列の1,3,5,7文字目を取り出して連結した文字列を得よ"
   ]
  },
  {
   "cell_type": "code",
   "execution_count": null,
   "metadata": {},
   "outputs": [],
   "source": [
    "# your code goes here"
   ]
  },
  {
   "cell_type": "code",
   "execution_count": null,
   "metadata": {},
   "outputs": [],
   "source": [
    "# answer\n",
    "\n",
    "string = 'パタトクカシーー'\n",
    "string[0::2]"
   ]
  },
  {
   "cell_type": "markdown",
   "metadata": {},
   "source": [
    "## 文字列の連結2\n",
    "【演習】「パトカー」＋「タクシー」の文字を先頭から交互に連結して文字列「パタトクカシーー」を得よ。"
   ]
  },
  {
   "cell_type": "code",
   "execution_count": null,
   "metadata": {},
   "outputs": [],
   "source": [
    "# your code goes here"
   ]
  },
  {
   "cell_type": "code",
   "execution_count": null,
   "metadata": {},
   "outputs": [],
   "source": [
    "# answer\n",
    "\n",
    "word1 = 'パトカー'\n",
    "word2 = 'タクシー'\n",
    "\n",
    "string = ''\n",
    "for i, j in zip(word1, word2):\n",
    "    string += i + j\n",
    "\n",
    "string"
   ]
  },
  {
   "cell_type": "markdown",
   "metadata": {},
   "source": [
    "## 文字数の抽出\n",
    "\n",
    "【演習】\"Now I need a drink, alcoholic of course, after the heavy lectures involving quantum mechanics.\"という文を単語に分解し、各単語の（アルファベットの）文字数を先頭から出現順に並べたリストを作成せよ。"
   ]
  },
  {
   "cell_type": "code",
   "execution_count": null,
   "metadata": {},
   "outputs": [],
   "source": [
    "# your code goes here"
   ]
  },
  {
   "cell_type": "code",
   "execution_count": null,
   "metadata": {},
   "outputs": [],
   "source": [
    "# answer\n",
    "\n",
    "string = 'Now I need a drink, alcoholic of course, after the heavy lectures involving quantum mechanics.'\n",
    "string = string.replace(',', '').replace('.', '')\n",
    "words = string.split()\n",
    "\n",
    "l = []\n",
    "for word in words:\n",
    "    l.append(len(word))\n",
    "\n",
    "l"
   ]
  },
  {
   "cell_type": "code",
   "execution_count": null,
   "metadata": {},
   "outputs": [],
   "source": [
    "list(map(len, words))"
   ]
  },
  {
   "cell_type": "markdown",
   "metadata": {},
   "source": [
    "【演習】\"Hi He Lied Because Boron Could Not Oxidize Fluorine. New Nations Might Also Sign Peace Security Clause. Arthur King Can.\"という文を単語に分解し、1, 5, 6, 7, 8, 9, 15, 16, 19番目の単語は先頭の1文字、それ以外の単語は先頭の2文字を取り出し、取り出した文字列から単語の位置（先頭から何番目の単語か）への連想配列（辞書型）を作成せよ。"
   ]
  },
  {
   "cell_type": "code",
   "execution_count": null,
   "metadata": {},
   "outputs": [],
   "source": [
    "# your code goes here"
   ]
  },
  {
   "cell_type": "code",
   "execution_count": null,
   "metadata": {},
   "outputs": [],
   "source": [
    "# answer\n",
    "\n",
    "string = 'Hi He Lied Because Boron Could Not Oxidize Fluorine. New Nations Might Also Sign Peace Security Clause. Arthur King Can.'\n",
    "string = string.replace('.', '')\n",
    "words = string.split()\n",
    "\n",
    "d = {}\n",
    "for i, word in enumerate(words):\n",
    "    if i + 1 in [1, 5, 6, 7, 8, 9, 15, 16, 19]:\n",
    "        element = word[0]\n",
    "    else:\n",
    "        element = word[:2]\n",
    "\n",
    "    d[element] = i + 1\n",
    "\n",
    "d"
   ]
  },
  {
   "cell_type": "markdown",
   "metadata": {},
   "source": [
    "【演習】引数x, y, zを受け取り「x時のyはz」という文字列を返す関数を実装せよ。さらに、x=12, y=\"気温\", z=22.4として、実行結果を確認せよ。  "
   ]
  },
  {
   "cell_type": "code",
   "execution_count": null,
   "metadata": {},
   "outputs": [],
   "source": [
    "# your code goes here"
   ]
  },
  {
   "cell_type": "code",
   "execution_count": null,
   "metadata": {},
   "outputs": [],
   "source": [
    "# answer\n",
    "\n",
    "def f(x, y, z):\n",
    "    print(f\"{x}時の{y}は{z}\")"
   ]
  },
  {
   "cell_type": "code",
   "execution_count": null,
   "metadata": {},
   "outputs": [],
   "source": [
    "f(12, \"気温\", 22.4)"
   ]
  },
  {
   "cell_type": "markdown",
   "metadata": {},
   "source": [
    "---"
   ]
  },
  {
   "cell_type": "markdown",
   "metadata": {},
   "source": [
    "# 次の一歩"
   ]
  },
  {
   "cell_type": "markdown",
   "metadata": {},
   "source": [
    "ここまで終わったら、新しいファイルを開いて[Python Tutorial](https://docs.python.org/3/tutorial/)にチャレンジしてみてください。"
   ]
  }
 ],
 "metadata": {
  "colab": {
   "collapsed_sections": [
    "22CLjnJUlgOs",
    "ykI3IfqQqKH_",
    "RLvMJGSStsNI",
    "ZsNhpd-Gt0Dw",
    "zPjPYhHfvDC6"
   ],
   "provenance": []
  },
  "kernelspec": {
   "display_name": "Python 3 (ipykernel)",
   "language": "python",
   "name": "python3"
  },
  "language_info": {
   "codemirror_mode": {
    "name": "ipython",
    "version": 3
   },
   "file_extension": ".py",
   "mimetype": "text/x-python",
   "name": "python",
   "nbconvert_exporter": "python",
   "pygments_lexer": "ipython3",
   "version": "3.10.0"
  },
  "vscode": {
   "interpreter": {
    "hash": "b1e65045f1ae96e0640580b26940ed94a750a055d879b6076c56c078e11e4ff1"
   }
  }
 },
 "nbformat": 4,
 "nbformat_minor": 4
}
