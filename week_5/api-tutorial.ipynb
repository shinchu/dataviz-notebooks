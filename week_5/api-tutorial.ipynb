{
 "cells": [
  {
   "cell_type": "markdown",
   "id": "31dca146",
   "metadata": {},
   "source": [
    "# APIを使うチュートリアル\n",
    "\n",
    "[![Open In Colab](https://colab.research.google.com/assets/colab-badge.svg)](https://colab.research.google.com/github/shinchu/dataviz-notebooks/blob/main/week_6/api-tutorial.ipynb)\n",
    "\n",
    "緯度経度情報から、都道府県名を取得するチュートリアルです。  \n",
    "今回は、[HeartRails Geo API](https://geoapi.heartrails.com/)を使ってみます。"
   ]
  },
  {
   "cell_type": "code",
   "execution_count": null,
   "id": "daaafddf",
   "metadata": {},
   "outputs": [],
   "source": [
    "import time\n",
    "import requests\n",
    "from tqdm.notebook import tqdm"
   ]
  },
  {
   "cell_type": "markdown",
   "id": "ea07abc1",
   "metadata": {},
   "source": [
    "## ファイルを読み込み、最初の1行を試す"
   ]
  },
  {
   "cell_type": "code",
   "execution_count": null,
   "id": "4d0079d2",
   "metadata": {},
   "outputs": [],
   "source": [
    "loc_data = \"https://raw.githubusercontent.com/shinchu/dataviz-notebooks/main/data/week_5/loc_data.txt\""
   ]
  },
  {
   "cell_type": "code",
   "execution_count": null,
   "id": "02704eec",
   "metadata": {},
   "outputs": [],
   "source": [
    "response = requests.get(loc_data)\n",
    "data = response.text\n",
    "lines = data.split(\"\\r\\n\")\n",
    "x, y = lines[0].split()"
   ]
  },
  {
   "cell_type": "code",
   "execution_count": null,
   "id": "e95850e5",
   "metadata": {},
   "outputs": [],
   "source": [
    "# ローカルのファイルにはこちらを使う\n",
    "# with open(loc_data, \"r\") as f:\n",
    "#     line = f.readline()\n",
    "#     x, y = line.split()"
   ]
  },
  {
   "cell_type": "code",
   "execution_count": null,
   "id": "16e9b769",
   "metadata": {},
   "outputs": [],
   "source": [
    "# 緯度経度情報を確認\n",
    "\n",
    "print(x, y)"
   ]
  },
  {
   "cell_type": "code",
   "execution_count": null,
   "id": "4b647dad",
   "metadata": {},
   "outputs": [],
   "source": [
    "API_URL = lambda x, y: f\"https://geoapi.heartrails.com/api/json?method=searchByGeoLocation&x={x}&y={y}\""
   ]
  },
  {
   "cell_type": "code",
   "execution_count": null,
   "id": "8b659167",
   "metadata": {},
   "outputs": [],
   "source": [
    "response = requests.get(API_URL(x, y))"
   ]
  },
  {
   "cell_type": "code",
   "execution_count": null,
   "id": "df587e05",
   "metadata": {},
   "outputs": [],
   "source": [
    "response.json()"
   ]
  },
  {
   "cell_type": "code",
   "execution_count": null,
   "id": "54cf4b8f",
   "metadata": {},
   "outputs": [],
   "source": [
    "prefecture = response.json()[\"response\"][\"location\"][0][\"prefecture\"]\n",
    "prefecture"
   ]
  },
  {
   "cell_type": "markdown",
   "id": "d61c8c28",
   "metadata": {},
   "source": [
    "## まとめて処理する"
   ]
  },
  {
   "cell_type": "code",
   "execution_count": null,
   "id": "50c3c4f9",
   "metadata": {},
   "outputs": [],
   "source": [
    "# 保存先ファイルを作る\n",
    "with open(\"./pref_data.txt\", \"w\") as fw:\n",
    "    fw.write(\"\")\n",
    "\n",
    "# ローカルのファイルにはこちらを使い、for文を2つ分インデントする\n",
    "# with open(loc_data, \"r\") as f:\n",
    "#     lines = f.readlines()\n",
    "\n",
    "for line in tqdm(lines): # tqdmを使うと、プログレスバーが表示されて進捗がわかりやすい\n",
    "    time.sleep(0.5) # APIに負担をかけないように、2秒休む\n",
    "    x, y = line.split()\n",
    "    response = requests.get(API_URL(x, y))\n",
    "    try:\n",
    "        prefecture = response.json()[\"response\"][\"location\"][0][\"prefecture\"]\n",
    "    except KeyError as e:\n",
    "        print(x, y, e)\n",
    "    with open(\"./pref_data.txt\", \"a\") as fw:\n",
    "        fw.write(f\"{prefecture}\\n\") # 県名を一行ずつファイルに出力する"
   ]
  },
  {
   "cell_type": "markdown",
   "id": "c82ddc84",
   "metadata": {},
   "source": [
    "これで、`pref_data.txt`というファイルに、APIから取得した都道府県名を保存できました。"
   ]
  }
 ],
 "metadata": {
  "kernelspec": {
   "display_name": "Python 3 (ipykernel)",
   "language": "python",
   "name": "python3"
  },
  "language_info": {
   "codemirror_mode": {
    "name": "ipython",
    "version": 3
   },
   "file_extension": ".py",
   "mimetype": "text/x-python",
   "name": "python",
   "nbconvert_exporter": "python",
   "pygments_lexer": "ipython3",
   "version": "3.10.0"
  }
 },
 "nbformat": 4,
 "nbformat_minor": 5
}
