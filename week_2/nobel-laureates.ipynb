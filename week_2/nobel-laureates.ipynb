{
 "cells": [
  {
   "cell_type": "markdown",
   "id": "98c41ef3",
   "metadata": {},
   "source": [
    "# データ可視化のプロセス（前半）：ノーベル賞受賞者のデータ\n",
    "\n",
    "[![Open In Colab](https://colab.research.google.com/assets/colab-badge.svg)](https://colab.research.google.com/github/shinchu/dataviz-notebooks/blob/main/week_2/nobel-laureates.ipynb)\n",
    "\n",
    "\n",
    "Wikipediaからスクレイピングしてきたノーベル賞受賞者のデータを使って、データ可視化の6ステップのうち、前半の3ステップをたどります。\n",
    "\n",
    "1. 問いの設定\n",
    "2. データの用意\n",
    "3. データの探索\n",
    "\n",
    "(---ここまで---)\n",
    "\n",
    "4. 仮説の設定\n",
    "5. データの分析\n",
    "6. データの説明"
   ]
  },
  {
   "cell_type": "code",
   "execution_count": null,
   "id": "d6e3f43a",
   "metadata": {},
   "outputs": [],
   "source": [
    "# ライブラリをロードする\n",
    "import pandas as pd\n",
    "import numpy as np"
   ]
  },
  {
   "cell_type": "markdown",
   "id": "a10e7d52",
   "metadata": {},
   "source": [
    "## 問いの設定"
   ]
  },
  {
   "cell_type": "markdown",
   "id": "a4d81180",
   "metadata": {},
   "source": [
    "歴代ノーベル賞受賞者の属性に共通するパターンはあるか？"
   ]
  },
  {
   "cell_type": "markdown",
   "id": "77aa9a38",
   "metadata": {},
   "source": [
    "## データの用意\n",
    "\n",
    "スクレイピングはこの講義のスコープを超えるので、手元にすでにスクレイピング済みのデータがあると仮定します。\n",
    "\n",
    "PythonによるWebスクレイピングに有用なライブラリとして、下記があります。\n",
    "\n",
    "* [requests](https://requests-docs-ja.readthedocs.io/en/latest/): HTTP通信用のライブラリ\n",
    "* [BeautifulSoup](https://www.crummy.com/software/BeautifulSoup/bs4/doc/): XMLパース用のライブラリ\n",
    "* [Scrapy](https://scrapy.org/): スクレイピング、クローリング用のフレームワーク"
   ]
  },
  {
   "cell_type": "code",
   "execution_count": null,
   "id": "0cf07dd7",
   "metadata": {},
   "outputs": [],
   "source": [
    "# JSON形式のファイルを読み込む\n",
    "\n",
    "file_url = \"https://raw.githubusercontent.com/shinchu/dataviz-notebooks/main/data/week_2/nobel_winners_dirty.json\"\n",
    "df = pd.read_json(file_url)"
   ]
  },
  {
   "cell_type": "markdown",
   "id": "71879c76",
   "metadata": {},
   "source": [
    "JSONとは、JavaScript Object Notationの略で、以下のような形式のデータです。\n",
    "\n",
    "```\n",
    "[\n",
    "  {\n",
    "    \"born_in\": \"\",\n",
    "    \"category\": \"Physiology or Medicine\",\n",
    "    \"country\": \"Argentina\",\n",
    "    \"date_of_birth\": \"8 October 1927\",\n",
    "    \"date_of_death\": \"24 March 2002\",\n",
    "    \"gender\": \"male\",\n",
    "    \"link\": \"http://en.wikipedia.org/wiki/C%C3%A9sar_Milstein\",\n",
    "    \"name\": \"César Milstein\",\n",
    "    \"place_of_birth\": \"Bahía Blanca ,  Argentina\",\n",
    "    \"place_of_death\": \"Cambridge , England\",\n",
    "    \"text\": \"César Milstein , Physiology or Medicine, 1984\",\n",
    "    \"year\": 1984\n",
    "  },\n",
    "  {\n",
    "    \"born_in\": \"Bosnia and Herzegovina\",\n",
    "    \"category\": \"Literature\",\n",
    "    \"country\": \"\",\n",
    "    \"date_of_birth\": \"9 October 1892\",\n",
    "    \"date_of_death\": \"13 March 1975\",\n",
    "    \"gender\": \"male\",\n",
    "    \"link\": \"http://en.wikipedia.org/wiki/Ivo_Andric\",\n",
    "    \"name\": \"Ivo Andric *\",\n",
    "    \"place_of_birth\": \"Dolac (village near Travnik), Austria-Hungary (present-day Bosnia and Herzegovina)\",\n",
    "    \"place_of_death\": \"Belgrade, SR Serbia, SFR Yugoslavia (present-day Serbia)\",\n",
    "    \"text\": \"Ivo Andric *,  born in then  Austria–Hungary , now Bosnia and Herzegovina , Literature, 1961\",\n",
    "    \"year\": 1961\n",
    "  }\n",
    "]\n",
    "```"
   ]
  },
  {
   "cell_type": "markdown",
   "id": "cffdce6b",
   "metadata": {},
   "source": [
    "### データの確認"
   ]
  },
  {
   "cell_type": "code",
   "execution_count": null,
   "id": "0d2858a5",
   "metadata": {},
   "outputs": [],
   "source": [
    "# まずはデータの形をざっと確認\n",
    "\n",
    "df.head()"
   ]
  },
  {
   "cell_type": "code",
   "execution_count": null,
   "id": "e9cd1570",
   "metadata": {},
   "outputs": [],
   "source": [
    "# 列を見る\n",
    "\n",
    "df.columns"
   ]
  },
  {
   "cell_type": "code",
   "execution_count": null,
   "id": "0ccd5d96",
   "metadata": {},
   "outputs": [],
   "source": [
    "# 行を見る\n",
    "\n",
    "df.index"
   ]
  },
  {
   "cell_type": "code",
   "execution_count": null,
   "id": "f0a153a4",
   "metadata": {},
   "outputs": [],
   "source": [
    "# 概要を見る\n",
    "\n",
    "df.info()"
   ]
  },
  {
   "cell_type": "markdown",
   "id": "c63d1405",
   "metadata": {},
   "source": [
    "ここから、一部のフィールド（性別など）が欠損していることが分かります（1052行のところ、1044要素しかないなど）。\n",
    "\n",
    "また、読み込んだばかりの状態では、`year`のみが数値（`int64`）になっており、他の変数はオブジェクトとして扱われていることが分かります。オブジェクトはpandasのデフォルトのデータ型で、任意の数値、文字列、日時などを表すことができます。"
   ]
  },
  {
   "cell_type": "code",
   "execution_count": null,
   "id": "7c1124cc",
   "metadata": {},
   "outputs": [],
   "source": [
    "# 要約統計量を見る\n",
    "\n",
    "df.describe()"
   ]
  },
  {
   "cell_type": "markdown",
   "id": "d68b8dba",
   "metadata": {},
   "source": [
    "要約統計量は、デフォルトの状態では数値列だけが表示されます。\n",
    "\n",
    "最小値は1809ですが、ノーベル賞の授与は1901年から始まったので明らかに正しくない数値が含まれていることが分かります。最大値は2014で、2014年までの受賞者が含まれているようです。\n",
    "\n",
    "`describe`にパラメータを与えることで、オブジェクトにもアクセスするように指定できます。"
   ]
  },
  {
   "cell_type": "code",
   "execution_count": null,
   "id": "bf8ca62d",
   "metadata": {},
   "outputs": [],
   "source": [
    "df.describe(include=[\"object\"])"
   ]
  },
  {
   "cell_type": "markdown",
   "id": "59e9b04f",
   "metadata": {},
   "source": [
    "ここから、受賞者には59の国籍があり、米国が350で最大のグループであるなどの情報が得られます。\n",
    "\n",
    "また、生年月日は全部で1044ありますが、異なり数は853であることが分かります。複数の受賞者が生まれた縁起の良い日があるか、受賞者のデータが重複している可能性があります。\n",
    "\n",
    "氏名の異なり数が998というのも、受賞者のデータが重複している可能性を示すものです。2つ以上の賞を受賞している人は数名いますが（調べた限りでは4名）、54の重複はそれに対して多すぎます。\n",
    "\n",
    "[Multiple Nobel Prize laureates](https://www.nobelprize.org/prizes/facts/nobel-prize-facts/#:~:text=Linus%20Pauling%20is%20the%20only,the%201962%20Nobel%20Peace%20Prize.)"
   ]
  },
  {
   "cell_type": "code",
   "execution_count": null,
   "id": "9f9520b5",
   "metadata": {},
   "outputs": [],
   "source": [
    "# もう一度、生データを確認\n",
    "\n",
    "df.head(10)"
   ]
  },
  {
   "cell_type": "code",
   "execution_count": null,
   "id": "73899e47",
   "metadata": {},
   "outputs": [],
   "source": [
    "df.tail(5)"
   ]
  },
  {
   "cell_type": "markdown",
   "id": "d4afc5ae",
   "metadata": {},
   "source": [
    "よく見ると、名前の後ろにアスタリスクがついている人がいたり、生年月日のフォーマットが統一されていなかったり、`born_in`の情報がほぼ存在しない、といったことが分かります。"
   ]
  },
  {
   "cell_type": "markdown",
   "id": "775034d1",
   "metadata": {},
   "source": [
    "ここまでの情報をもとに、現時点でのデータ仕様書を作っておきましょう。\n",
    "\n",
    "前処理が終わった後にデータ仕様書をアップデートします。"
   ]
  },
  {
   "cell_type": "code",
   "execution_count": null,
   "id": "81945bb5",
   "metadata": {},
   "outputs": [],
   "source": [
    "# 現時点のデータ仕様書を作る"
   ]
  },
  {
   "cell_type": "markdown",
   "id": "8872c17b",
   "metadata": {},
   "source": [
    "| カラム | カラムの説明 | データ型 | データ型（理想） | 尺度 | 値の説明 | NULL | UNIQ | CHECK |\n",
    "|:--|:--|:--|:--|:--|:--|:--|:--|:--|\n",
    "| born_in | 出生地 | テキスト | カテゴリ | 名義尺度 |  | ✔ |  |  |\n",
    "| category | 賞の種類 | テキスト | カテゴリ | 名義尺度 |  | ✔ |  | | \n",
    "| country | 国籍 | テキスト | カテゴリ | 名義尺度 |  | ✔ |  |  |\n",
    "| date_of_birth | 生年月日 | テキスト | 数値 | 間隔尺度 |  | ✔ |  |  |\n",
    "| date_of_death | 没年月日 | テキスト | 数値 | 間隔尺度 |  | ✔ |  |  |\n",
    "| gender | 性別 | テキスト | カテゴリ | 名義尺度 |  | ✔ |  |  |\n",
    "| link | ウィキペディアへのリンク | テキスト | テキスト | テキスト |  | ✔ |  |  |\n",
    "| name | 氏名 | テキスト | テキスト | テキスト |  | ✔ |  |  |\n",
    "| place_of_birth | 出生地 | テキスト | カテゴリ | 名義尺度 |  | ✔ |  |  |\n",
    "| place_of_death | 死没地 | テキスト | カテゴリ | 名義尺度 |  | ✔ |  |  |\n",
    "| text | 説明 | テキスト | テキスト | テキスト |  | ✔ |  |  |\n",
    "| year | 受賞年 | 数値 | 数値 | 間隔尺度 |  | ✔ |  | 1901 $\\leq$ x $\\leq$ 2022 |\n",
    "\n",
    "* `NULL`: 欠損値が存在する可能性があるか\n",
    "* `UNIQ`: 重複しない値か\n",
    "* `CHECK`: 満たすべき条件"
   ]
  },
  {
   "cell_type": "code",
   "execution_count": null,
   "id": "bda58068",
   "metadata": {},
   "outputs": [],
   "source": [
    "# データの前処理（欠損値、重複、整列されていない行、不統一、エラー値、データの混合などに対処する）"
   ]
  },
  {
   "cell_type": "code",
   "execution_count": null,
   "id": "8694b3fd",
   "metadata": {},
   "outputs": [],
   "source": [
    "# born_in"
   ]
  },
  {
   "cell_type": "markdown",
   "id": "ab17baed",
   "metadata": {},
   "source": [
    "まずは、ほぼ存在しない`born_in`を適切に欠損値として処理できるようにします。\n",
    "\n",
    "`apply`メソッドを使うと、セルに対して同じ処理を繰り返し実行できます。これを使って`born_in`の実際のデータ型（pandasのオブジェクトにラップされているもの）を見てみましょう。"
   ]
  },
  {
   "cell_type": "code",
   "execution_count": null,
   "id": "a6bc7ec3",
   "metadata": {},
   "outputs": [],
   "source": [
    "df[\"born_in\"].apply(type)"
   ]
  },
  {
   "cell_type": "markdown",
   "id": "fbe2c19b",
   "metadata": {},
   "source": [
    "`set`を使って集合をとることで、異なり値だけを取り出します。"
   ]
  },
  {
   "cell_type": "code",
   "execution_count": null,
   "id": "4bbd6d86",
   "metadata": {},
   "outputs": [],
   "source": [
    "set(df[\"born_in\"].apply(type))"
   ]
  },
  {
   "cell_type": "markdown",
   "id": "ae311fba",
   "metadata": {},
   "source": [
    "すべてのデータがテキスト型であることが分かりました。何もないように見えるセルにも空白文字（スペース、タブ、改行など）が入っているようです。\n",
    "\n",
    "空白文字を欠損値（`NaN`）に置換しましょう。"
   ]
  },
  {
   "cell_type": "code",
   "execution_count": null,
   "id": "fc9b835f",
   "metadata": {},
   "outputs": [],
   "source": [
    "df[\"born_in\"].replace(\"\", np.nan, inplace=True)"
   ]
  },
  {
   "cell_type": "code",
   "execution_count": null,
   "id": "d4dac97b",
   "metadata": {},
   "outputs": [],
   "source": [
    "df[\"born_in\"].count()"
   ]
  },
  {
   "cell_type": "markdown",
   "id": "5e363a65",
   "metadata": {},
   "source": [
    "これで空白文字が欠損値に置換され、`born_in`の正しい数が分かるようになりました。\n",
    "\n",
    "同じ要領で、データセット内のすべての空文字列を欠損値に置換します。"
   ]
  },
  {
   "cell_type": "code",
   "execution_count": null,
   "id": "d97973f0",
   "metadata": {},
   "outputs": [],
   "source": [
    "df.replace(\"\", np.nan, inplace=True)"
   ]
  },
  {
   "cell_type": "code",
   "execution_count": null,
   "id": "d8720252",
   "metadata": {},
   "outputs": [],
   "source": [
    "# name"
   ]
  },
  {
   "cell_type": "markdown",
   "id": "25a04b6b",
   "metadata": {},
   "source": [
    "さきほど、アスタリスクが付いた名前がありました。これを整えていきます。\n",
    "\n",
    "まず、アスタリスクが付いた名前の数を調べます。"
   ]
  },
  {
   "cell_type": "code",
   "execution_count": null,
   "id": "34a8f66b",
   "metadata": {},
   "outputs": [],
   "source": [
    "set(df[\"name\"].apply(type))"
   ]
  },
  {
   "cell_type": "markdown",
   "id": "33b66814",
   "metadata": {},
   "source": [
    "`name`も文字列ということが分かります。\n",
    "\n",
    "`name`に`*`が含まれているセルを`str.contains()`で見てみます。\n",
    "\n",
    "`\\*`という風にアスタリスクの前にバックスラッシュをつけるのは、アスタリスクを正規表現の記号（直前の文字の0回以上の繰り返し）ではなく、通常の文字としてのアスタリスクとして扱うためです。これを「エスケープする」と言います。\n",
    "\n",
    "[正規表現](https://ja.wikipedia.org/wiki/%E6%AD%A3%E8%A6%8F%E8%A1%A8%E7%8F%BE)"
   ]
  },
  {
   "cell_type": "code",
   "execution_count": null,
   "id": "7ac2c033",
   "metadata": {},
   "outputs": [],
   "source": [
    "df[\"name\"].str.contains(\"\\*\")"
   ]
  },
  {
   "cell_type": "markdown",
   "id": "4cdc1440",
   "metadata": {},
   "source": [
    "アスタリスクが付いている名前が`True`判定されています。\n",
    "\n",
    "これをデータフレームに代入し、`name`列だけを取り出すことができます。"
   ]
  },
  {
   "cell_type": "code",
   "execution_count": null,
   "id": "de406971",
   "metadata": {},
   "outputs": [],
   "source": [
    "df[df[\"name\"].str.contains(\"\\*\")][\"name\"]"
   ]
  },
  {
   "cell_type": "markdown",
   "id": "17fd275a",
   "metadata": {},
   "source": [
    "142個ありました。\n",
    "\n",
    "把握できたところで、アスタリスクを置換し、前後の空白も取ります。\n",
    "\n",
    "置換には`str.replace()`、前後の空白削除には`str.strip()`を使います。"
   ]
  },
  {
   "cell_type": "code",
   "execution_count": null,
   "id": "64f6d4eb",
   "metadata": {},
   "outputs": [],
   "source": [
    "df[\"name\"] = df[\"name\"].str.replace('*', '', regex=False)"
   ]
  },
  {
   "cell_type": "code",
   "execution_count": null,
   "id": "a92807d4",
   "metadata": {},
   "outputs": [],
   "source": [
    "df[\"name\"] = df[\"name\"].str.strip()"
   ]
  },
  {
   "cell_type": "code",
   "execution_count": null,
   "id": "84fb6494",
   "metadata": {},
   "outputs": [],
   "source": [
    "df[df.name.str.contains(\"\\*\")][\"name\"]"
   ]
  },
  {
   "cell_type": "markdown",
   "id": "527f386c",
   "metadata": {},
   "source": [
    "再度数えてみると、アスタリスク付きの名前がなくなっていることが分かります。"
   ]
  },
  {
   "cell_type": "code",
   "execution_count": null,
   "id": "1b21534a",
   "metadata": {},
   "outputs": [],
   "source": [
    "# 重複"
   ]
  },
  {
   "cell_type": "markdown",
   "id": "a563b247",
   "metadata": {},
   "source": [
    "次に、重複しているデータに対処します。`duplicated`メソッドで重複している行が`True`と判定されます。"
   ]
  },
  {
   "cell_type": "code",
   "execution_count": null,
   "id": "cbcd7905",
   "metadata": {},
   "outputs": [],
   "source": [
    "df.duplicated(\"name\", keep=False)"
   ]
  },
  {
   "cell_type": "markdown",
   "id": "b5f4cfe2",
   "metadata": {},
   "source": [
    "これをデータセット全体の条件にすると、氏名が重複している行のみを抽出できます。"
   ]
  },
  {
   "cell_type": "code",
   "execution_count": null,
   "id": "b6f9db19",
   "metadata": {},
   "outputs": [],
   "source": [
    "all_dupes = df[df.duplicated(\"name\", keep=False)]"
   ]
  },
  {
   "cell_type": "code",
   "execution_count": null,
   "id": "26818e1a",
   "metadata": {},
   "outputs": [],
   "source": [
    "all_dupes"
   ]
  },
  {
   "cell_type": "markdown",
   "id": "53b94158",
   "metadata": {},
   "source": [
    "299行の重複があることが分かりました。重複行を名前で並べ替え、国籍と受賞年を見てみます。"
   ]
  },
  {
   "cell_type": "code",
   "execution_count": null,
   "id": "a01eb55c",
   "metadata": {},
   "outputs": [],
   "source": [
    "all_dupes.sort_values(\"name\")[[\"born_in\", \"name\", \"country\", \"year\"]]"
   ]
  },
  {
   "cell_type": "markdown",
   "id": "9f32891a",
   "metadata": {},
   "source": [
    "同じ年の受賞で異なる国籍になっている人がいますし、国籍が欠損している場合もあります。\n",
    "\n",
    "今回参照したWikipediaでは、国ごとに受賞者のリストが作られているので、受賞者が別の国に移住した場合などは移住前後の国の両方が書かれているようです。\n",
    "\n",
    "また、国籍が欠損してる場合は、`born_in`に国名が入っているようです。"
   ]
  },
  {
   "cell_type": "markdown",
   "id": "55425af9",
   "metadata": {},
   "source": [
    "ここではまず、`born_in`の情報を失くさないために同一受賞者の欠損箇所にコピーします。"
   ]
  },
  {
   "cell_type": "code",
   "execution_count": null,
   "id": "a67cb2d1",
   "metadata": {},
   "outputs": [],
   "source": [
    "pd.set_option('display.max_rows', 300)"
   ]
  },
  {
   "cell_type": "markdown",
   "id": "9fc3220b",
   "metadata": {},
   "source": [
    "`born_in`が欠損していない行のリストを作ります。"
   ]
  },
  {
   "cell_type": "code",
   "execution_count": null,
   "id": "cbee8979",
   "metadata": {},
   "outputs": [],
   "source": [
    "bi_df = all_dupes[~all_dupes[\"born_in\"].isna()]"
   ]
  },
  {
   "cell_type": "code",
   "execution_count": null,
   "id": "608ad507",
   "metadata": {},
   "outputs": [],
   "source": [
    "bi_df.head()"
   ]
  },
  {
   "cell_type": "markdown",
   "id": "668cfe6f",
   "metadata": {},
   "source": [
    "bi_dfに含まれている受賞者を全体から取り出し、`name`と`born_in`で並べ替えます。こうすることで、必ず同一人物の`born_in`が欠損しているデータが欠損していないデータのすぐ後にくることになります。"
   ]
  },
  {
   "cell_type": "code",
   "execution_count": null,
   "id": "2cff7c8f",
   "metadata": {},
   "outputs": [],
   "source": [
    "df[[\"born_in\", \"name\"]][df[\"name\"].isin(bi_df[\"name\"])].sort_values([\"name\", \"born_in\"])"
   ]
  },
  {
   "cell_type": "markdown",
   "id": "59ff8042",
   "metadata": {},
   "source": [
    "`fillna(method=\"ffill\")`で、直前の値で欠損値を埋めます。"
   ]
  },
  {
   "cell_type": "code",
   "execution_count": null,
   "id": "d71ff836",
   "metadata": {},
   "outputs": [],
   "source": [
    "df[[\"born_in\", \"name\"]][df[\"name\"].isin(bi_df[\"name\"])].sort_values([\"name\", \"born_in\"]).fillna(method=\"ffill\")"
   ]
  },
  {
   "cell_type": "markdown",
   "id": "5a0fa28d",
   "metadata": {},
   "source": [
    "再度インデックス順に並べ替え、元のデータフレームに代入します。"
   ]
  },
  {
   "cell_type": "code",
   "execution_count": null,
   "id": "74ca1e4f",
   "metadata": {},
   "outputs": [],
   "source": [
    "df.loc[df[df[\"name\"].isin(bi_df[\"name\"])].index, [\"born_in\", \"name\"]] = df[[\"born_in\", \"name\"]][df[\"name\"].isin(bi_df[\"name\"])].sort_values([\"name\", \"born_in\"]).fillna(method=\"ffill\").sort_index()"
   ]
  },
  {
   "cell_type": "code",
   "execution_count": null,
   "id": "94047515",
   "metadata": {},
   "outputs": [],
   "source": [
    "df.describe(include=[\"object\"])"
   ]
  },
  {
   "cell_type": "markdown",
   "id": "546cab69",
   "metadata": {},
   "source": [
    "`born_in`の値が250個になりました。\n",
    "\n",
    "`all_dupes`を作り直します。"
   ]
  },
  {
   "cell_type": "code",
   "execution_count": null,
   "id": "5896b941",
   "metadata": {},
   "outputs": [],
   "source": [
    "all_dupes = df[df.duplicated(\"name\", keep=False)]"
   ]
  },
  {
   "cell_type": "code",
   "execution_count": null,
   "id": "f14f0d50",
   "metadata": {},
   "outputs": [],
   "source": [
    "all_dupes.sort_values([\"name\", \"born_in\"])[[\"born_in\", \"name\", \"country\", \"year\"]]"
   ]
  },
  {
   "cell_type": "markdown",
   "id": "73eb00f5",
   "metadata": {},
   "source": [
    "`all_dupes`のうち、国籍が欠損しているデータは削除しても構わないようになったので、削除します。"
   ]
  },
  {
   "cell_type": "code",
   "execution_count": null,
   "id": "fbefcd4d",
   "metadata": {},
   "outputs": [],
   "source": [
    "remove_index = all_dupes[all_dupes[\"country\"].isna()].index"
   ]
  },
  {
   "cell_type": "code",
   "execution_count": null,
   "id": "257e1ea8",
   "metadata": {},
   "outputs": [],
   "source": [
    "df = df.drop(remove_index)"
   ]
  },
  {
   "cell_type": "code",
   "execution_count": null,
   "id": "cd5e1481",
   "metadata": {},
   "outputs": [],
   "source": [
    "df.describe(include=[\"object\"])"
   ]
  },
  {
   "cell_type": "markdown",
   "id": "433d2dff",
   "metadata": {},
   "source": [
    "受賞者数が941人になりました。まだ重複が国籍違いによる重複が解消されていないためです。"
   ]
  },
  {
   "cell_type": "code",
   "execution_count": null,
   "id": "79b9397f",
   "metadata": {},
   "outputs": [],
   "source": [
    "all_dupes = df[df.duplicated(\"name\", keep=False)]"
   ]
  },
  {
   "cell_type": "code",
   "execution_count": null,
   "id": "fa3edbca",
   "metadata": {},
   "outputs": [],
   "source": [
    "all_dupes.sort_values([\"name\", \"born_in\"])[[\"born_in\", \"name\", \"country\", \"year\"]]"
   ]
  },
  {
   "cell_type": "markdown",
   "id": "a0ef5936",
   "metadata": {},
   "source": [
    "また、よく見ると\n",
    "\n",
    "* キュリー夫人の名前が2種類（Marie Curie、Marie Skłodowska-Curie）ある\n",
    "* Ragnar Granitが1809年に受賞されたことになっている（ノーベル賞は1901年開始）\n",
    "* Sidney Altmanは一度しか受賞されていないはずなのに、受賞年がずれている\n",
    "\n",
    "ことが分かります。\n",
    "\n",
    "ここは一つずつ修正します。"
   ]
  },
  {
   "cell_type": "code",
   "execution_count": null,
   "id": "0f2eaa32",
   "metadata": {},
   "outputs": [],
   "source": [
    "df.drop(df[df[\"year\"] == 1809].index, inplace=True)"
   ]
  },
  {
   "cell_type": "code",
   "execution_count": null,
   "id": "fed4aa7c",
   "metadata": {},
   "outputs": [],
   "source": [
    "df = df[~(df[\"name\"] == \"Marie Curie\")]"
   ]
  },
  {
   "cell_type": "code",
   "execution_count": null,
   "id": "48a85711",
   "metadata": {},
   "outputs": [],
   "source": [
    "df.loc[(df[\"name\"] == \"Marie Skłodowska-Curie\") & (df[\"year\"] == 1911), \"country\"] = \"France\""
   ]
  },
  {
   "cell_type": "code",
   "execution_count": null,
   "id": "57dfa723",
   "metadata": {},
   "outputs": [],
   "source": [
    "df = df[~((df[\"name\"] == \"Sidney Altman\") & (df[\"year\"] == 1990))]"
   ]
  },
  {
   "cell_type": "code",
   "execution_count": null,
   "id": "3980c55f",
   "metadata": {},
   "outputs": [],
   "source": [
    "all_dupes = df[df.duplicated(\"name\", keep=False)]"
   ]
  },
  {
   "cell_type": "code",
   "execution_count": null,
   "id": "96b28917",
   "metadata": {},
   "outputs": [],
   "source": [
    "all_dupes.sort_values([\"name\", \"born_in\"])[[\"born_in\", \"name\", \"country\", \"year\"]]"
   ]
  },
  {
   "cell_type": "markdown",
   "id": "d3b784d2",
   "metadata": {},
   "source": [
    "残りの重複については、基準を決めて調査してどのデータを残すのかを決めることもできますが、ここでは簡便のために確率的な方法をとります。\n",
    "\n",
    "つまり、重複しているデータの中から無作為に半分を選び取り、残りの半分を削除します。"
   ]
  },
  {
   "cell_type": "markdown",
   "id": "bc8638ba",
   "metadata": {},
   "source": [
    "まず、インデックスをランダムにシャッフルします。"
   ]
  },
  {
   "cell_type": "code",
   "execution_count": null,
   "id": "03a83a77",
   "metadata": {},
   "outputs": [],
   "source": [
    "df = df.reindex(np.random.permutation(df.index))"
   ]
  },
  {
   "cell_type": "code",
   "execution_count": null,
   "id": "8a0963ea",
   "metadata": {},
   "outputs": [],
   "source": [
    "df"
   ]
  },
  {
   "cell_type": "markdown",
   "id": "fe143c82",
   "metadata": {},
   "source": [
    "次に、`drop_duplicates`で重複データのうち、最初に出現したものだけを残します。"
   ]
  },
  {
   "cell_type": "code",
   "execution_count": null,
   "id": "df97b141",
   "metadata": {},
   "outputs": [],
   "source": [
    "df = df.drop_duplicates([\"name\", \"year\"])"
   ]
  },
  {
   "cell_type": "markdown",
   "id": "e9a5aac6",
   "metadata": {},
   "source": [
    "再度インデックスを順番に並べます。"
   ]
  },
  {
   "cell_type": "code",
   "execution_count": null,
   "id": "b1404775",
   "metadata": {},
   "outputs": [],
   "source": [
    "df = df.sort_index()"
   ]
  },
  {
   "cell_type": "code",
   "execution_count": null,
   "id": "50e9435a",
   "metadata": {},
   "outputs": [],
   "source": [
    "all_dupes = df[df.duplicated(\"name\", keep=False)]"
   ]
  },
  {
   "cell_type": "code",
   "execution_count": null,
   "id": "01d3e303",
   "metadata": {},
   "outputs": [],
   "source": [
    "all_dupes.sort_values([\"name\", \"year\"])[[\"born_in\", \"name\", \"country\", \"year\", \"category\"]]"
   ]
  },
  {
   "cell_type": "markdown",
   "id": "fb4d29a5",
   "metadata": {},
   "source": [
    "重複が正しく、実際に2回受賞した人のみになりました。"
   ]
  },
  {
   "cell_type": "code",
   "execution_count": null,
   "id": "7eaa16da",
   "metadata": {},
   "outputs": [],
   "source": [
    "# 更に欠損値の処理"
   ]
  },
  {
   "cell_type": "code",
   "execution_count": null,
   "id": "2d605331",
   "metadata": {},
   "outputs": [],
   "source": [
    "len(df)"
   ]
  },
  {
   "cell_type": "code",
   "execution_count": null,
   "id": "7ae68d35",
   "metadata": {},
   "outputs": [],
   "source": [
    "df.count()"
   ]
  },
  {
   "cell_type": "markdown",
   "id": "10e7da3d",
   "metadata": {},
   "source": [
    "カテゴリがないデータが3つあるようです。\n",
    "\n",
    "ちなみに、カテゴリの名称はこちら。"
   ]
  },
  {
   "cell_type": "code",
   "execution_count": null,
   "id": "5f30fd47",
   "metadata": {},
   "outputs": [],
   "source": [
    "df[\"category\"].value_counts()"
   ]
  },
  {
   "cell_type": "code",
   "execution_count": null,
   "id": "355b32f7",
   "metadata": {},
   "outputs": [],
   "source": [
    "df[df[\"category\"].isnull()]"
   ]
  },
  {
   "cell_type": "markdown",
   "id": "fb2998f0",
   "metadata": {},
   "source": [
    "手動で補完します。"
   ]
  },
  {
   "cell_type": "code",
   "execution_count": null,
   "id": "7782d2e6",
   "metadata": {},
   "outputs": [],
   "source": [
    "df.loc[812, \"category\"] = \"Physiology or Medicine\""
   ]
  },
  {
   "cell_type": "code",
   "execution_count": null,
   "id": "544a479a",
   "metadata": {},
   "outputs": [],
   "source": [
    "df.loc[815, \"category\"] = \"Economics\""
   ]
  },
  {
   "cell_type": "code",
   "execution_count": null,
   "id": "2f1530dc",
   "metadata": {},
   "outputs": [],
   "source": [
    "df.loc[922, \"category\"] = \"Physiology or Medicine\""
   ]
  },
  {
   "cell_type": "code",
   "execution_count": null,
   "id": "d7cb0839",
   "metadata": {},
   "outputs": [],
   "source": [
    "df.count()"
   ]
  },
  {
   "cell_type": "markdown",
   "id": "fe5238e3",
   "metadata": {},
   "source": [
    "更に、ジェンダーも数人欠けています。"
   ]
  },
  {
   "cell_type": "code",
   "execution_count": null,
   "id": "f32290b9",
   "metadata": {},
   "outputs": [],
   "source": [
    "df[df[\"gender\"].isnull()][\"name\"]"
   ]
  },
  {
   "cell_type": "markdown",
   "id": "cf61cfea",
   "metadata": {},
   "source": [
    "これを見ると、Ragnar Granit以外は団体です。今回は個人に着目したいので、団体の受賞者は削除することにします。"
   ]
  },
  {
   "cell_type": "code",
   "execution_count": null,
   "id": "b4331dc2",
   "metadata": {},
   "outputs": [],
   "source": [
    "df.loc[650, \"gender\"] = \"male\""
   ]
  },
  {
   "cell_type": "code",
   "execution_count": null,
   "id": "91e99aa6",
   "metadata": {},
   "outputs": [],
   "source": [
    "df = df[df[\"gender\"].notnull()]"
   ]
  },
  {
   "cell_type": "code",
   "execution_count": null,
   "id": "235b127f",
   "metadata": {},
   "outputs": [],
   "source": [
    "df.count()"
   ]
  },
  {
   "cell_type": "markdown",
   "id": "7be1efe1",
   "metadata": {},
   "source": [
    "欠けているデータをできる限り補完してみます。"
   ]
  },
  {
   "cell_type": "code",
   "execution_count": null,
   "id": "2b74e004",
   "metadata": {},
   "outputs": [],
   "source": [
    "df[df[\"date_of_birth\"].isnull()][\"name\"]"
   ]
  },
  {
   "cell_type": "code",
   "execution_count": null,
   "id": "9d00e328",
   "metadata": {},
   "outputs": [],
   "source": [
    "df.loc[782, \"date_of_birth\"] = \"11 September 1960\""
   ]
  },
  {
   "cell_type": "code",
   "execution_count": null,
   "id": "80dc9012",
   "metadata": {},
   "outputs": [],
   "source": [
    "df[df[\"country\"].isnull()]"
   ]
  },
  {
   "cell_type": "markdown",
   "id": "07a8e7e1",
   "metadata": {},
   "source": [
    "`country`は欠損値が多いので個別に埋めることはせず、`born_in`を持ってくることにします。"
   ]
  },
  {
   "cell_type": "code",
   "execution_count": null,
   "id": "e6eb4a81",
   "metadata": {},
   "outputs": [],
   "source": [
    "df.loc[df[\"country\"].isnull(), \"country\"] = df[df[\"country\"].isnull()][\"born_in\"]"
   ]
  },
  {
   "cell_type": "code",
   "execution_count": null,
   "id": "3594342f",
   "metadata": {},
   "outputs": [],
   "source": [
    "df.count()"
   ]
  },
  {
   "cell_type": "markdown",
   "id": "0b17bba5",
   "metadata": {},
   "source": [
    "これで、`category`、`date_of_birth`、`gender`、`country`、`year`、`text`等主要なデータが揃っているクリーンなデータができました。"
   ]
  },
  {
   "cell_type": "markdown",
   "id": "5a834b0a",
   "metadata": {},
   "source": [
    "また、tidy dataにもなっています。"
   ]
  },
  {
   "cell_type": "markdown",
   "id": "f29db143",
   "metadata": {},
   "source": [
    "最後に日付のフォーマットを整えます。"
   ]
  },
  {
   "cell_type": "code",
   "execution_count": null,
   "id": "14cec06f",
   "metadata": {},
   "outputs": [],
   "source": [
    "# 日付"
   ]
  },
  {
   "cell_type": "code",
   "execution_count": null,
   "id": "799814f6",
   "metadata": {},
   "outputs": [],
   "source": [
    "df[\"date_of_birth\"] = pd.to_datetime(df[\"date_of_birth\"], errors=\"raise\")"
   ]
  },
  {
   "cell_type": "code",
   "execution_count": null,
   "id": "ba3c87e6",
   "metadata": {},
   "outputs": [],
   "source": [
    "pd.to_datetime(df.date_of_death, errors=\"raise\")"
   ]
  },
  {
   "cell_type": "markdown",
   "id": "58e37792",
   "metadata": {},
   "source": [
    "生年月日は無事に変換できましたが、没年月日ではエラーが出ました。\n",
    "\n",
    "エラーを捕捉して修正します。"
   ]
  },
  {
   "cell_type": "code",
   "execution_count": null,
   "id": "e290bc1f",
   "metadata": {},
   "outputs": [],
   "source": [
    "for i, row in df.iterrows():\n",
    "    try:\n",
    "        pd.to_datetime(row.date_of_death, errors=\"raise\")\n",
    "    except:\n",
    "        print(f\"{row.date_of_death.ljust(30)} ({row['name']}, {i})\")"
   ]
  },
  {
   "cell_type": "markdown",
   "id": "a8e9ff9e",
   "metadata": {},
   "source": [
    "エラーが発生している箇所で、日付の様々なフォーマットが確認できます。"
   ]
  },
  {
   "cell_type": "markdown",
   "id": "ac35470b",
   "metadata": {},
   "source": [
    "手動で修正することもできますが、ここでは一律で欠損値に変換したいと思います。"
   ]
  },
  {
   "cell_type": "code",
   "execution_count": null,
   "id": "ed5e43bd",
   "metadata": {},
   "outputs": [],
   "source": [
    "df[\"date_of_death\"] = pd.to_datetime(df.date_of_death, errors=\"coerce\")"
   ]
  },
  {
   "cell_type": "markdown",
   "id": "1c97b999",
   "metadata": {},
   "source": [
    "日付をきちんと変換できたので、ノーベル賞受賞時の受賞者の年齢を計算してみます。"
   ]
  },
  {
   "cell_type": "code",
   "execution_count": null,
   "id": "1d0d4f04",
   "metadata": {},
   "outputs": [],
   "source": [
    "df[\"award_age\"] = df.year - pd.DatetimeIndex(df[\"date_of_birth\"]).year"
   ]
  },
  {
   "cell_type": "markdown",
   "id": "1e2cc087",
   "metadata": {},
   "source": [
    "気になるので、最年少と最高齢受賞者を見てみましょう。"
   ]
  },
  {
   "cell_type": "code",
   "execution_count": null,
   "id": "3b4ac3b8",
   "metadata": {},
   "outputs": [],
   "source": [
    "df.sort_values(\"award_age\")[[\"name\", \"award_age\", \"year\", \"category\"]]"
   ]
  },
  {
   "cell_type": "markdown",
   "id": "6c52fb98",
   "metadata": {},
   "source": [
    "最年少はマララさんですね。比較的最近です。\n",
    "\n",
    "その次は比較的早い時代の、ローレンス・ブラッグ。受賞理由は「X線による結晶構造解析に関する研究」、現代結晶学の創始者だそうです。\n",
    "\n",
    "最高齢は経済学者のレオニード・ハーヴィッツ。「メカニズムデザインの理論の基礎を確立した功績を称えて」とのこと。"
   ]
  },
  {
   "cell_type": "markdown",
   "id": "f62caa6f",
   "metadata": {},
   "source": [
    "ともかくこれで、分析しやすいキレイなデータができました。\n",
    "\n",
    "ファイルに保存しておきます。元のデータがローカルにある時は、フォルダを分けて保存すると良いでしょう。"
   ]
  },
  {
   "cell_type": "code",
   "execution_count": null,
   "id": "42b986af",
   "metadata": {},
   "outputs": [],
   "source": [
    "df.to_csv(\"nobel_prize_data_cleaned.tsv\", index=False, header=True, sep=\"\\t\")"
   ]
  },
  {
   "cell_type": "code",
   "execution_count": null,
   "id": "5d02bb32",
   "metadata": {},
   "outputs": [],
   "source": [
    "# Colabからダウンロードする\n",
    "\n",
    "from google.colab import files\n",
    "\n",
    "files.download(\"nobel_prize_data_cleaned.tsv\")"
   ]
  },
  {
   "cell_type": "code",
   "execution_count": null,
   "id": "2c4f6411",
   "metadata": {},
   "outputs": [],
   "source": [
    "# 最終的なデータ仕様書"
   ]
  },
  {
   "cell_type": "markdown",
   "id": "8e6c694b",
   "metadata": {},
   "source": [
    "| カラム | カラムの説明 | データ型 | 尺度 | 値の説明 | NULL | UNIQ | CHECK |\n",
    "| :-- | :-- | :-- | :-- | :-- | --- | --- | --- |\n",
    "| born_in | 出生地 | カテゴリ | 名義尺度 |  | ✔ |  |  |\n",
    "| category | 賞の種類 | カテゴリ | 名義尺度 |  |  |  |  |\n",
    "| country | 国籍 | カテゴリ | 名義尺度 |  |  |  |  |\n",
    "| date_of_birth | 生年月日 | 数値 | 間隔尺度 |  |  |  |  |\n",
    "| date_of_death | 没年月日 | 数値 | 間隔尺度 |  | ✔ |  |  |\n",
    "| gender | 性別 | カテゴリ | 名義尺度 |  |  |  |  |\n",
    "| link | ウィキペディアへのリンク | テキスト | テキスト |  |  |  |  |\n",
    "| name | 氏名 | テキスト | テキスト |  |  |  |  |\n",
    "| place_of_birth | 出生地 | カテゴリ | 名義尺度 |  | ✔ |  |  |\n",
    "| place_of_death | 死没地 | カテゴリ | 名義尺度 |  | ✔ |  |  |\n",
    "| text | 説明 | テキスト | テキスト |  |  |  |  |\n",
    "| year | 受賞年 | 数値 | 間隔尺度 |  |  |  | 1901 $\\leq$ x $\\leq$ 2014 |\n",
    "| award_age | 受賞年齢 | 数値 | 比例尺度 |  |  |  |  |\n",
    "\n",
    "\n",
    "* `NULL`: 欠損値が存在するか\n",
    "* `UNIQ`: 重複しない値か\n",
    "* `CHECK`: 満たすべき条件"
   ]
  },
  {
   "cell_type": "markdown",
   "id": "db2d2170",
   "metadata": {},
   "source": [
    "## データの探索（探索的可視化）\n",
    "\n",
    "お気づきのように、データの前処理の中である程度データを探索してきました。\n",
    "\n",
    "続けて、いくつかの気になった点について探索的可視化を行い、最初に立てた「問い」に基づいてどのような仮説が設定できそうかを探っていきます。\n",
    "\n",
    "\n",
    "どこから着手してよいかわからない時は、講義で話した6つのアプローチを出発点にしてみましょう。\n",
    "\n",
    "1. データの分布を見る\n",
    "2. データの関係を見る\n",
    "3. データを縮約する\n",
    "4. データを層別にする\n",
    "5. データを詳細化する\n",
    "6. データを時系列で見る\n"
   ]
  },
  {
   "cell_type": "markdown",
   "id": "5b143677",
   "metadata": {},
   "source": [
    "後ほどの演習で練習する、Matplotlib（とそのラッパーのseaborn）というライブラリを使います。"
   ]
  },
  {
   "cell_type": "code",
   "execution_count": null,
   "id": "760fc49a",
   "metadata": {},
   "outputs": [],
   "source": [
    "import matplotlib.pyplot as plt\n",
    "import seaborn as sns"
   ]
  },
  {
   "cell_type": "code",
   "execution_count": null,
   "id": "da5ec6e5",
   "metadata": {},
   "outputs": [],
   "source": [
    "# seabornの見た目を使う\n",
    "\n",
    "sns.set()"
   ]
  },
  {
   "cell_type": "markdown",
   "id": "403354e4",
   "metadata": {},
   "source": [
    "### 男女間の差"
   ]
  },
  {
   "cell_type": "markdown",
   "id": "ba4580ce",
   "metadata": {},
   "source": [
    "実はpandasはplotメソッドでmatplotlibを呼び出すことができるため、自分で見るための図は簡単に作れます。"
   ]
  },
  {
   "cell_type": "code",
   "execution_count": null,
   "id": "3094b699",
   "metadata": {},
   "outputs": [],
   "source": [
    "by_gender = df.groupby(\"gender\")\n",
    "by_gender.size().plot(kind=\"bar\")"
   ]
  },
  {
   "cell_type": "code",
   "execution_count": null,
   "id": "c0aef58d",
   "metadata": {},
   "outputs": [],
   "source": [
    "by_gender.size()"
   ]
  },
  {
   "cell_type": "code",
   "execution_count": null,
   "id": "a259d5d2",
   "metadata": {},
   "outputs": [],
   "source": [
    "by_cat_gen = df.groupby([\"category\", \"gender\"])"
   ]
  },
  {
   "cell_type": "code",
   "execution_count": null,
   "id": "4afa7d29",
   "metadata": {},
   "outputs": [],
   "source": [
    "by_cat_gen.size()"
   ]
  },
  {
   "cell_type": "code",
   "execution_count": null,
   "id": "88dae8f5",
   "metadata": {},
   "outputs": [],
   "source": [
    "by_cat_gen.size().plot(kind=\"barh\")"
   ]
  },
  {
   "cell_type": "markdown",
   "id": "d763303a",
   "metadata": {},
   "source": [
    "データを横持ちにして再度プロットしてみます。"
   ]
  },
  {
   "cell_type": "code",
   "execution_count": null,
   "id": "eb407239",
   "metadata": {},
   "outputs": [],
   "source": [
    "by_cat_gen.size().unstack()"
   ]
  },
  {
   "cell_type": "code",
   "execution_count": null,
   "id": "9906763f",
   "metadata": {},
   "outputs": [],
   "source": [
    "by_cat_gen.size().unstack().plot(kind=\"barh\")"
   ]
  },
  {
   "cell_type": "markdown",
   "id": "46565c9d",
   "metadata": {},
   "source": [
    "受賞者の合計を計算し、女性受賞者の人数順に並べ替えます。"
   ]
  },
  {
   "cell_type": "code",
   "execution_count": null,
   "id": "55e96443",
   "metadata": {},
   "outputs": [],
   "source": [
    "cat_gen_sz = by_cat_gen.size().unstack()\n",
    "cat_gen_sz[\"total\"] = cat_gen_sz.sum(axis=1)\n",
    "cat_gen_sz = cat_gen_sz.sort_values(by=\"female\", ascending=True)\n",
    "cat_gen_sz[[\"female\", \"total\", \"male\"]].plot(kind=\"barh\")"
   ]
  },
  {
   "cell_type": "code",
   "execution_count": null,
   "id": "10020ebc",
   "metadata": {},
   "outputs": [],
   "source": [
    "df[(df.category == 'Physics') & (df.gender == 'female')][['name', 'country','year']]"
   ]
  },
  {
   "cell_type": "markdown",
   "id": "cb02de28",
   "metadata": {},
   "source": [
    "[マリア・ゲッパート＝メイヤー](https://ja.wikipedia.org/wiki/%E3%83%9E%E3%83%AA%E3%82%A2%E3%83%BB%E3%82%B2%E3%83%83%E3%83%91%E3%83%BC%E3%83%88%EF%BC%9D%E3%83%A1%E3%82%A4%E3%83%A4%E3%83%BC)\n",
    "\n",
    "「原子核の殻構造に関する研究」"
   ]
  },
  {
   "cell_type": "markdown",
   "id": "ef11863a",
   "metadata": {},
   "source": [
    "ちょっと予告。インタラクティブな図を作ると、細かい数値が見やすい。"
   ]
  },
  {
   "cell_type": "code",
   "execution_count": null,
   "id": "3cd16d0d",
   "metadata": {},
   "outputs": [],
   "source": [
    "!pip install plotly"
   ]
  },
  {
   "cell_type": "code",
   "execution_count": null,
   "id": "d11ce5ff",
   "metadata": {},
   "outputs": [],
   "source": [
    "import plotly.express as px\n",
    "from plotly import offline"
   ]
  },
  {
   "cell_type": "code",
   "execution_count": null,
   "id": "fdd93a6b",
   "metadata": {},
   "outputs": [],
   "source": [
    "count_df = cat_gen_sz.stack().reset_index()"
   ]
  },
  {
   "cell_type": "code",
   "execution_count": null,
   "id": "99b42df5",
   "metadata": {},
   "outputs": [],
   "source": [
    "count_df = count_df.rename(columns={0: \"count\"})"
   ]
  },
  {
   "cell_type": "code",
   "execution_count": null,
   "id": "b342645d",
   "metadata": {},
   "outputs": [],
   "source": [
    "count_df"
   ]
  },
  {
   "cell_type": "markdown",
   "id": "9b271214",
   "metadata": {},
   "source": [
    "Tidy dataにしてから使う。"
   ]
  },
  {
   "cell_type": "code",
   "execution_count": null,
   "id": "764ab7c3",
   "metadata": {},
   "outputs": [],
   "source": [
    "fig = px.bar(count_df, x=\"count\", y=\"category\", color=\"gender\", barmode=\"group\")\n",
    "offline.iplot(fig)"
   ]
  },
  {
   "cell_type": "markdown",
   "id": "4c707f9e",
   "metadata": {},
   "source": [
    "### 歴史的傾向"
   ]
  },
  {
   "cell_type": "markdown",
   "id": "82728f4a",
   "metadata": {},
   "source": [
    "例えば、女性の受賞者は時間の推移によって増加しているのでしょうか？時系列にプロットすることで見えてきそうです。"
   ]
  },
  {
   "cell_type": "code",
   "execution_count": null,
   "id": "ed251cd0",
   "metadata": {},
   "outputs": [],
   "source": [
    "by_year_gender = df.groupby([\"year\", \"gender\"])\n",
    "year_gen_sz = by_year_gender.size().unstack()\n",
    "year_gen_sz.plot(kind=\"bar\", figsize=(16, 4))"
   ]
  },
  {
   "cell_type": "markdown",
   "id": "8c320d68",
   "metadata": {},
   "source": [
    "だいぶ見づらいので、x軸のラベルを調整します。"
   ]
  },
  {
   "cell_type": "code",
   "execution_count": null,
   "id": "8457e09f",
   "metadata": {},
   "outputs": [],
   "source": [
    "def thin_xticks(ax, tick_gap=10, rotation=45):\n",
    "    ticks = ax.xaxis.get_ticklocs()\n",
    "    ticklabels = [l.get_text() for l in ax.xaxis.get_ticklabels()]\n",
    "    ax.xaxis.set_ticks(ticks[::tick_gap])\n",
    "    ax.xaxis.set_ticklabels(ticklabels[::tick_gap], rotation=rotation)\n",
    "\n",
    "    ax.figure.show()"
   ]
  },
  {
   "cell_type": "markdown",
   "id": "2049ff26",
   "metadata": {},
   "source": [
    "また、欠損している受賞年（1939–1945年の第二次世界大戦中はノーベル賞が授与されませんでした）は飛ばすのではなく、欠損として表示したいと思います。\n",
    "\n",
    "indexを振り直します。"
   ]
  },
  {
   "cell_type": "code",
   "execution_count": null,
   "id": "24442123",
   "metadata": {},
   "outputs": [],
   "source": [
    "new_index = pd.Index(np.arange(1901, 2015), name=\"year\")\n",
    "by_year_gender = df.groupby([\"year\", \"gender\"])\n",
    "year_gen_sz = by_year_gender.size().unstack().reindex(new_index)"
   ]
  },
  {
   "cell_type": "code",
   "execution_count": null,
   "id": "a2105646",
   "metadata": {},
   "outputs": [],
   "source": [
    "year_gen_sz"
   ]
  },
  {
   "cell_type": "markdown",
   "id": "e7c2b08b",
   "metadata": {},
   "source": [
    "更に、見やすくするために図を上下に並べて表示することにします。これにはMatplotlibのサブプロットという機能を使います。"
   ]
  },
  {
   "cell_type": "code",
   "execution_count": null,
   "id": "73959cac",
   "metadata": {},
   "outputs": [],
   "source": [
    "fig, axes = plt.subplots(nrows=2, ncols=1, sharex=True, sharey=True)\n",
    "\n",
    "ax_f = axes[0]\n",
    "ax_m = axes[1]\n",
    "\n",
    "fig.suptitle(\"Nobel Prize laureates by gender\", fontsize=16)\n",
    "\n",
    "ax_f.bar(year_gen_sz.index, year_gen_sz.female)\n",
    "ax_f.set_ylabel(\"Female laureates\")\n",
    "\n",
    "ax_m.bar(year_gen_sz.index, year_gen_sz.male)\n",
    "ax_m.set_ylabel(\"Male laureates\")\n",
    "\n",
    "ax_m.set_xlabel(\"Year\")"
   ]
  },
  {
   "cell_type": "markdown",
   "id": "87f64b11",
   "metadata": {},
   "source": [
    "女性の受賞者が近年増えているような気もしますが、受賞者全体が増加傾向にあるようにも見えます。共同受賞する人数が増えているためでしょうか？\n",
    "\n",
    "これについては、例えば「知識量が爆発的に増え、研究者間・分野間の協力が必須となった現代ではノーベル賞の同時受賞人数が増えている」などと仮説を設定していろいろと探索できそうです。"
   ]
  },
  {
   "cell_type": "markdown",
   "id": "5ee49cee",
   "metadata": {},
   "source": [
    "更に、このデータに関しては、\n",
    "\n",
    "* 国別の傾向\n",
    "    * 人口1人当たりの受賞者数\n",
    "    * 分野別の受賞数\n",
    "    * 受賞分布の歴史的傾向\n",
    "* 受賞者の年齢と没年齢\n",
    "* 受賞者の移住\n",
    "\n",
    "など、様々な側面で探索できそうです。\n",
    "\n",
    "興味があったら問いを立てて、探索してみてください。\n",
    "\n",
    "このデータセットは今後講義でも使っていきます。"
   ]
  }
 ],
 "metadata": {
  "kernelspec": {
   "display_name": "Python 3 (ipykernel)",
   "language": "python",
   "name": "python3"
  },
  "language_info": {
   "codemirror_mode": {
    "name": "ipython",
    "version": 3
   },
   "file_extension": ".py",
   "mimetype": "text/x-python",
   "name": "python",
   "nbconvert_exporter": "python",
   "pygments_lexer": "ipython3",
   "version": "3.10.0"
  }
 },
 "nbformat": 4,
 "nbformat_minor": 5
}
