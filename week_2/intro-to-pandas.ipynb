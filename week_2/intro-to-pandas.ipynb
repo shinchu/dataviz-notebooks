{
 "cells": [
  {
   "cell_type": "markdown",
   "id": "7e594f0a",
   "metadata": {},
   "source": [
    "# Introduction to pandas and tidy data\n",
    "\n",
    "[![Open In Colab](https://colab.research.google.com/assets/colab-badge.svg)](https://colab.research.google.com/github/shinchu/dataviz-notebooks/blob/main/week_2/intro-to-pandas.ipynb)"
   ]
  },
  {
   "cell_type": "markdown",
   "id": "f9bf76d9",
   "metadata": {},
   "source": [
    "# pandas\n",
    "\n",
    "pandasは、ExcelファイルやCSVファイルのような表形式のデータを高速に処理することができるライブラリです。\n",
    "\n",
    "主な機能として、\n",
    "\n",
    "* CSVファイルの読み書き\n",
    "* 統計量の算出\n",
    "* 並べ替え\n",
    "* データの選択\n",
    "* 条件指定による選択\n",
    "* 欠損値の除去／補間\n",
    "\n",
    "があります。\n",
    "\n",
    "pandasにはデータ処理に便利なデータ構造と関数が含まれています。特にDataFrameオブジェクトは、2次元の表形式でデータを保持することができて取り扱いに便利なので、よく使われます。"
   ]
  },
  {
   "cell_type": "markdown",
   "id": "db9babb3",
   "metadata": {},
   "source": [
    "次のようにpandasパッケージを`pd`という名前で呼び出しましょう。\n",
    "\n",
    "以降、`pd.DataFrame()`などと書くことでpandas内で定義されている関数などにアクセスできるようになります。"
   ]
  },
  {
   "cell_type": "code",
   "execution_count": null,
   "id": "c691d233",
   "metadata": {},
   "outputs": [],
   "source": [
    "import pandas as pd"
   ]
  },
  {
   "cell_type": "markdown",
   "id": "ba0e00e3",
   "metadata": {},
   "source": [
    "## pandasの基本"
   ]
  },
  {
   "cell_type": "markdown",
   "id": "05d00c39",
   "metadata": {},
   "source": [
    "###  データ形式"
   ]
  },
  {
   "cell_type": "markdown",
   "id": "733cba9d",
   "metadata": {},
   "source": [
    "pandasが扱う主なデータ構造は、`Series`と`DataFrame`です。"
   ]
  },
  {
   "cell_type": "markdown",
   "id": "88ce11ff",
   "metadata": {},
   "source": [
    "#### Series\n",
    "\n",
    "* 1次元のリストの値とインデックスが付いたオブジェクト\n",
    "* 特別に指定しない限りは、0からインデックスが付与される"
   ]
  },
  {
   "cell_type": "code",
   "execution_count": null,
   "id": "acdd6e54",
   "metadata": {},
   "outputs": [],
   "source": [
    "sample_series = pd.Series([1, 2, 3])"
   ]
  },
  {
   "cell_type": "code",
   "execution_count": null,
   "id": "563a6d9e",
   "metadata": {},
   "outputs": [],
   "source": [
    "sample_series"
   ]
  },
  {
   "cell_type": "code",
   "execution_count": null,
   "id": "4cc07eeb",
   "metadata": {},
   "outputs": [],
   "source": [
    "type(sample_series)"
   ]
  },
  {
   "cell_type": "markdown",
   "id": "f3a7c4d3",
   "metadata": {},
   "source": [
    "#### DataFrame\n",
    "\n",
    "* データ分析に使うデータはDataFrameとして扱うことが多い\n",
    "* Seriesの集合体で、行と列からなる"
   ]
  },
  {
   "cell_type": "code",
   "execution_count": null,
   "id": "30a51c6e",
   "metadata": {},
   "outputs": [],
   "source": [
    "sample_df = pd.DataFrame({\n",
    "    \"名前\": [\"David\", \"Eliza\", \"Fred\"],\n",
    "    \"点数\": [90, 87, 68]\n",
    "})"
   ]
  },
  {
   "cell_type": "code",
   "execution_count": null,
   "id": "1b927902",
   "metadata": {},
   "outputs": [],
   "source": [
    "sample_df"
   ]
  },
  {
   "cell_type": "code",
   "execution_count": null,
   "id": "6c4da25c",
   "metadata": {},
   "outputs": [],
   "source": [
    "type(sample_df)"
   ]
  },
  {
   "cell_type": "markdown",
   "id": "72da5ed6",
   "metadata": {},
   "source": [
    "## 基本的な操作"
   ]
  },
  {
   "cell_type": "markdown",
   "id": "c8e1a0a1",
   "metadata": {},
   "source": [
    "### CSVファイルを読み込む\n",
    "\n",
    "`pd.read_csv()`でカンマ区切りのファイルを読み込みます。区切り文字を指定することで、タブ区切りなどのファイルも読み込むことができます。\n",
    "\n",
    "今回はURLから読み込みますが、PC上に保存されているローカルファイルもパスを指定することで、同じ要領で読み込めます。\n",
    "\n",
    "Google Driveに保存されているファイルを読み込むこともできます。ぜひ方法を調べてみてください。"
   ]
  },
  {
   "cell_type": "code",
   "execution_count": null,
   "id": "47c74ff0",
   "metadata": {},
   "outputs": [],
   "source": [
    "new_data = pd.read_csv(\"https://raw.githubusercontent.com/shinchu/dataviz-notebooks/main/data/week_1/read_sample.csv\")"
   ]
  },
  {
   "cell_type": "code",
   "execution_count": null,
   "id": "4dc2e337",
   "metadata": {},
   "outputs": [],
   "source": [
    "new_data"
   ]
  },
  {
   "cell_type": "markdown",
   "id": "0edfda72",
   "metadata": {},
   "source": [
    "### CSVファイルとして保存する"
   ]
  },
  {
   "cell_type": "markdown",
   "id": "6eccde2e",
   "metadata": {},
   "source": [
    "`DataFrame.to_csv()`でデータフレームをカンマ区切りのファイルとして保存できます。\n",
    "\n",
    "`sep=\"\\t\"`とすると、タブ区切りで保存できます。"
   ]
  },
  {
   "cell_type": "code",
   "execution_count": null,
   "id": "2709e5b5",
   "metadata": {},
   "outputs": [],
   "source": [
    "sample_df.to_csv(\"sample_df.csv\", index=False, header=True, sep=\",\")"
   ]
  },
  {
   "cell_type": "code",
   "execution_count": null,
   "id": "913bff60",
   "metadata": {},
   "outputs": [],
   "source": [
    "# Colabからファイルをダウンロードする\n",
    "\n",
    "from google.colab import files\n",
    "\n",
    "files.download(\"sample_df.csv\")"
   ]
  },
  {
   "cell_type": "markdown",
   "id": "e02fb1a9",
   "metadata": {},
   "source": [
    "## データフレームを扱う"
   ]
  },
  {
   "cell_type": "markdown",
   "id": "6415a9f9",
   "metadata": {},
   "source": [
    "Titanic datasetを使って、pandasの使い方を学びましょう。\n",
    "\n",
    "これは、1912年に北大西洋で氷山に衝突して沈没したタイタニック号の乗客の生存状況に関するデータセットです。"
   ]
  },
  {
   "cell_type": "code",
   "execution_count": null,
   "id": "6494664d",
   "metadata": {},
   "outputs": [],
   "source": [
    "# ライブラリのインポート\n",
    "\n",
    "import pandas as pd\n",
    "import numpy as np"
   ]
  },
  {
   "cell_type": "code",
   "execution_count": null,
   "id": "9c8292a5",
   "metadata": {},
   "outputs": [],
   "source": [
    "# データの読み込み\n",
    "titanic = pd.read_csv(\"https://raw.githubusercontent.com/mwaskom/seaborn-data/master/titanic.csv\")"
   ]
  },
  {
   "cell_type": "code",
   "execution_count": null,
   "id": "53dedf06",
   "metadata": {},
   "outputs": [],
   "source": [
    "# データの確認\n",
    "titanic"
   ]
  },
  {
   "cell_type": "code",
   "execution_count": null,
   "id": "bb21bc3d",
   "metadata": {},
   "outputs": [],
   "source": [
    "titanic[\"deck\"].value_counts()"
   ]
  },
  {
   "cell_type": "markdown",
   "id": "8c3e6958",
   "metadata": {},
   "source": [
    "このデータセットには、891データ（行）、15属性（列）が含まれていることが分かります。\n",
    "\n",
    "15の属性が意味するところは、下記の通りです。\n",
    "各属性の意味はの、データ取得時に整理しておきましょう。\n",
    "\n",
    "オープンデータであれば、カラム情報は通常公開されています。  \n",
    "ログを取得したり、スクレイピングをしたりして自分で作成するデータの場合は、データ仕様書も作りましょう。"
   ]
  },
  {
   "cell_type": "markdown",
   "id": "788a8acd",
   "metadata": {},
   "source": [
    "| カラム | カラムの説明 | 型情報 | 値の説明 | NULL | UNIQ | CHECK |\n",
    "|---|---|---|---|---|---|---|\n",
    "| survived | 生存したかどうか | フラグ | 0=死亡, 1=生存 |  |  |  |\n",
    "| pclass | チケットの等級 | カテゴリ | 1=上層, 2=中級, 3=下層 |  |  |  |\n",
    "| sex | 性別 | カテゴリ | male, female |  |  |  | \n",
    "| age | 年齢 | 数値 |  |  |  | >=0 | \n",
    "| sibsp | 乗船した兄弟、配偶者の数 | 数値 |  |  |  | >=0 |\n",
    "| parch | 乗船した両親、子供の数 | 数値 |  |  |  | >=0 |\n",
    "| fare | 乗船代金 | 数値 |  |  |  | >=0 | \n",
    "| embarked | 出港地 | カテゴリ | C=Cherbourg, Q=Queenstown, S=Southampton |  |  |  |\n",
    "| class | チケットの等級 | カテゴリ | First, Second, Third |  |  |  |\n",
    "| who | 属性 | カテゴリ | man, woman, child |  |  |  |\n",
    "| adult_male | 成人男性かどうか | フラグ | True, False |  |  |  |\n",
    "| deck | 乗船していたデッキ | カテゴリ | A, B, C, D, E, F, G | ✓ |  |  |\n",
    "| embark_town | 出港地 | カテゴリ | Cherbourg, Queenstown, Southampton |  |  |  |\n",
    "| alive | 生存したかどうか | フラグ | yes, no |  |  |  |\n",
    "| alone | 一人で乗船したかどうか | フラグ | True, False |  |  |  |\n"
   ]
  },
  {
   "cell_type": "markdown",
   "id": "e4bf0469",
   "metadata": {},
   "source": [
    "### 1行目の要素を取得する\n",
    "\n",
    "\n",
    "pandasでは、整数の位置インデックスを参照できます。位置インデックスは0から始まる整数です。参照する場合は、`iloc`属性を利用します。"
   ]
  },
  {
   "cell_type": "code",
   "execution_count": null,
   "id": "0f7360c0",
   "metadata": {},
   "outputs": [],
   "source": [
    "titanic.iloc[0]"
   ]
  },
  {
   "cell_type": "markdown",
   "id": "2a22d13d",
   "metadata": {},
   "source": [
    "【演習】3行目の要素を取得してみましょう"
   ]
  },
  {
   "cell_type": "code",
   "execution_count": null,
   "id": "bb33b6e9",
   "metadata": {},
   "outputs": [],
   "source": [
    "# your code goes here\n"
   ]
  },
  {
   "cell_type": "code",
   "execution_count": null,
   "id": "7b1024ca",
   "metadata": {},
   "outputs": [],
   "source": [
    "# answer\n",
    "\n",
    "titanic.iloc[2]"
   ]
  },
  {
   "cell_type": "markdown",
   "id": "8ba418c5",
   "metadata": {},
   "source": [
    "### 特定の列（カラム）を取得する\n",
    "\n",
    "取得したいカラム名を指定することで、特定のカラムをシリーズ形式で抽出できます。"
   ]
  },
  {
   "cell_type": "code",
   "execution_count": null,
   "id": "128635d5",
   "metadata": {},
   "outputs": [],
   "source": [
    "titanic_class = titanic[\"class\"]"
   ]
  },
  {
   "cell_type": "code",
   "execution_count": null,
   "id": "dc581de5",
   "metadata": {},
   "outputs": [],
   "source": [
    "titanic_class"
   ]
  },
  {
   "cell_type": "markdown",
   "id": "2e953e1f",
   "metadata": {},
   "source": [
    "【演習】出港地を示すカラムを取得してみましょう"
   ]
  },
  {
   "cell_type": "code",
   "execution_count": null,
   "id": "c74be85a",
   "metadata": {},
   "outputs": [],
   "source": [
    "# your code goes here\n"
   ]
  },
  {
   "cell_type": "code",
   "execution_count": null,
   "id": "4348a914",
   "metadata": {},
   "outputs": [],
   "source": [
    "# answer\n",
    "\n",
    "titanic[\"embark_town\"]"
   ]
  },
  {
   "cell_type": "markdown",
   "id": "b2381f9c",
   "metadata": {},
   "source": [
    "### データの行数を数える"
   ]
  },
  {
   "cell_type": "markdown",
   "id": "5da9d74b",
   "metadata": {},
   "source": [
    "ヒント：文字列やリストの長さを数えるときは、`len()`関数を使います。"
   ]
  },
  {
   "cell_type": "code",
   "execution_count": null,
   "id": "8ae1f476",
   "metadata": {},
   "outputs": [],
   "source": [
    "len(\"data science\")"
   ]
  },
  {
   "cell_type": "code",
   "execution_count": null,
   "id": "f7574f0a",
   "metadata": {},
   "outputs": [],
   "source": [
    "len([\"apple\", \"orange\", \"mango\", \"banana\"])"
   ]
  },
  {
   "cell_type": "markdown",
   "id": "6efb17af",
   "metadata": {},
   "source": [
    "【演習】データフレーム`titanic`の行数を数えてみましょう"
   ]
  },
  {
   "cell_type": "code",
   "execution_count": null,
   "id": "9d06c7c0",
   "metadata": {},
   "outputs": [],
   "source": [
    "# your code goes here"
   ]
  },
  {
   "cell_type": "code",
   "execution_count": null,
   "id": "d01a3154",
   "metadata": {},
   "outputs": [],
   "source": [
    "# answer\n",
    "\n",
    "len(titanic)"
   ]
  },
  {
   "cell_type": "markdown",
   "id": "823df76f",
   "metadata": {},
   "source": [
    "###  データの集約をする"
   ]
  },
  {
   "cell_type": "markdown",
   "id": "e63f9a33",
   "metadata": {},
   "source": [
    "データを取得した後に、全体像を把握するためにデータを集約することがよくあります。\n",
    "\n",
    "また、データの集約はデータ可視化の準備としても重要です。\n",
    "\n",
    "ここではpandasによるいくつかのデータ集約方法を見ていきましょう。"
   ]
  },
  {
   "cell_type": "markdown",
   "id": "11b2e14e",
   "metadata": {},
   "source": [
    "#### 要約統計量を確認する\n",
    "\n",
    "`DataFrame.describe()`関数を使うと、数値の列の要約統計量が確認できます。概要を把握する時に便利です。"
   ]
  },
  {
   "cell_type": "code",
   "execution_count": null,
   "id": "20c35734",
   "metadata": {},
   "outputs": [],
   "source": [
    "titanic.describe()"
   ]
  },
  {
   "cell_type": "markdown",
   "id": "3cbf9e1f",
   "metadata": {},
   "source": [
    "#### カラム内のデータ数を数える\n",
    "\n",
    "特定のカラムに含まれる値について件数を数える場合、`Series.value_counts()`関数を使います。"
   ]
  },
  {
   "cell_type": "code",
   "execution_count": null,
   "id": "f2821781",
   "metadata": {},
   "outputs": [],
   "source": [
    "titanic[\"class\"].value_counts()"
   ]
  },
  {
   "cell_type": "markdown",
   "id": "758fc9ef",
   "metadata": {},
   "source": [
    "【演習】各出港地から乗船した人がどれくらいいたか数えてみましょう"
   ]
  },
  {
   "cell_type": "code",
   "execution_count": null,
   "id": "2d8dd746",
   "metadata": {},
   "outputs": [],
   "source": [
    "# your code goes here\n"
   ]
  },
  {
   "cell_type": "code",
   "execution_count": null,
   "id": "d1c91fa0",
   "metadata": {},
   "outputs": [],
   "source": [
    "# answer\n",
    "\n",
    "titanic[\"embark_town\"].value_counts()"
   ]
  },
  {
   "cell_type": "markdown",
   "id": "bc6e99fc",
   "metadata": {},
   "source": [
    "#####  列データのユニーク要素数を数える\n",
    "\n",
    "列データの中にどれだけユニークな（重複のない）要素があるのかを調べる場合には、`Series.nunique()`関数を使います。"
   ]
  },
  {
   "cell_type": "code",
   "execution_count": null,
   "id": "136a4ab5",
   "metadata": {},
   "outputs": [],
   "source": [
    "titanic[\"class\"].nunique()"
   ]
  },
  {
   "cell_type": "markdown",
   "id": "e8be96d5",
   "metadata": {},
   "source": [
    "【演習】乗客が乗っていたデッキが何個あったか数えてみましょう"
   ]
  },
  {
   "cell_type": "code",
   "execution_count": null,
   "id": "9eb322c6",
   "metadata": {},
   "outputs": [],
   "source": [
    "# your code goes here\n"
   ]
  },
  {
   "cell_type": "code",
   "execution_count": null,
   "id": "72a59451",
   "metadata": {},
   "outputs": [],
   "source": [
    "# answer\n",
    "\n",
    "titanic[\"deck\"].nunique()"
   ]
  },
  {
   "cell_type": "markdown",
   "id": "373fdbe2",
   "metadata": {},
   "source": [
    "#### グループごとの集約\n",
    "\n",
    "列に条件を付けて集約する必要がある時は（チケットの等級ごとの生存者数を知りたいなど）、`DataFrame.groupby()`関数を使うことができます。"
   ]
  },
  {
   "cell_type": "code",
   "execution_count": null,
   "id": "f6efa405",
   "metadata": {},
   "outputs": [],
   "source": [
    "titanic.groupby(\"sex\")[\"class\"].value_counts()"
   ]
  },
  {
   "cell_type": "markdown",
   "id": "667d048d",
   "metadata": {},
   "source": [
    "【演習】チケットの等級ごとの生存者数を見てみましょう"
   ]
  },
  {
   "cell_type": "code",
   "execution_count": null,
   "id": "ed3488c9",
   "metadata": {},
   "outputs": [],
   "source": [
    "# your code goes here\n"
   ]
  },
  {
   "cell_type": "code",
   "execution_count": null,
   "id": "532771c0",
   "metadata": {},
   "outputs": [],
   "source": [
    "# answer\n",
    "\n",
    "titanic.groupby(\"class\")[\"alive\"].value_counts()"
   ]
  },
  {
   "cell_type": "markdown",
   "id": "a1a3d616",
   "metadata": {},
   "source": [
    "`Series.value_counts()`関数では件数を取得しました。`Series.mean()`関数を使うことで、平均値を出すことができます。"
   ]
  },
  {
   "cell_type": "code",
   "execution_count": null,
   "id": "602d84a9",
   "metadata": {},
   "outputs": [],
   "source": [
    "titanic.groupby(\"sex\").mean(numeric_only=True)"
   ]
  },
  {
   "cell_type": "markdown",
   "id": "4f0a340f",
   "metadata": {},
   "source": [
    "`DataFrame.groupby()`関数を使った出力は、デフォルトでは集約に使ったカラムがインデックスになるため、インデックスにしない場合は、`as_index=False`と引数を指定します。"
   ]
  },
  {
   "cell_type": "code",
   "execution_count": null,
   "id": "1cf13438",
   "metadata": {},
   "outputs": [],
   "source": [
    "titanic.groupby(\"sex\", as_index=False).mean(numeric_only=True)"
   ]
  },
  {
   "cell_type": "markdown",
   "id": "bdec8c11",
   "metadata": {},
   "source": [
    "`DataFrame.groupby()`関数は2つ以上のカラムを指定することもできます。2つ以上の列で集約する場合、リストとして指定します。"
   ]
  },
  {
   "cell_type": "code",
   "execution_count": null,
   "id": "36a2c790",
   "metadata": {},
   "outputs": [],
   "source": [
    "titanic.groupby([\"sex\", \"class\"], as_index=False).mean(numeric_only=True)"
   ]
  },
  {
   "cell_type": "markdown",
   "id": "0b3500b7",
   "metadata": {},
   "source": [
    "ちなみに、集約結果の関数を指定しないと、pandasのオブジェクトが返されます。"
   ]
  },
  {
   "cell_type": "code",
   "execution_count": null,
   "id": "8b885742",
   "metadata": {},
   "outputs": [],
   "source": [
    "titanic.groupby(\"sex\")"
   ]
  },
  {
   "cell_type": "markdown",
   "id": "12ad11d2",
   "metadata": {},
   "source": [
    "### クロス集計を行う"
   ]
  },
  {
   "cell_type": "markdown",
   "id": "ff816336",
   "metadata": {},
   "source": [
    "`pd.crosstab()`関数を使うことで、クロス集計をすることができます。グループの出現頻度を見る時に有用です。"
   ]
  },
  {
   "cell_type": "code",
   "execution_count": null,
   "id": "0eb5f32a",
   "metadata": {},
   "outputs": [],
   "source": [
    "pd.crosstab(titanic[\"who\"], titanic[\"class\"])"
   ]
  },
  {
   "cell_type": "markdown",
   "id": "d9268b6f",
   "metadata": {},
   "source": [
    "絶対数ではなく比率が知りたい時は、`normalize=\"index\"`という引数を指定します。"
   ]
  },
  {
   "cell_type": "code",
   "execution_count": null,
   "id": "c90ce6af",
   "metadata": {},
   "outputs": [],
   "source": [
    "pd.crosstab(titanic[\"who\"], titanic[\"class\"], normalize=\"index\")"
   ]
  },
  {
   "cell_type": "markdown",
   "id": "7286bcae",
   "metadata": {},
   "source": [
    "### 条件に該当したデータを抽出する\n",
    "\n",
    "カラムに含まれる値が特定の条件を満たした行を取得する方法はいくつかあります。"
   ]
  },
  {
   "cell_type": "code",
   "execution_count": null,
   "id": "19886750",
   "metadata": {},
   "outputs": [],
   "source": [
    "titanic[titanic[\"who\"] == \"child\"]"
   ]
  },
  {
   "cell_type": "markdown",
   "id": "0932e8e9",
   "metadata": {},
   "source": [
    "`DataFrame.query()`関数を使うと、複数の条件を簡便に指定できます。"
   ]
  },
  {
   "cell_type": "code",
   "execution_count": null,
   "id": "7e29f822",
   "metadata": {},
   "outputs": [],
   "source": [
    "titanic.query(\"who == 'child' & pclass > 1\")"
   ]
  },
  {
   "cell_type": "markdown",
   "id": "79ff8a32",
   "metadata": {},
   "source": [
    "### データの並べ替えを行う\n",
    "\n",
    "昇順や降順にデータを並べ替える時には、`DataFrame.sort()`関数を使います。"
   ]
  },
  {
   "cell_type": "code",
   "execution_count": null,
   "id": "3afac882",
   "metadata": {},
   "outputs": [],
   "source": [
    "titanic.sort_values(\"fare\", ascending=False)"
   ]
  },
  {
   "cell_type": "markdown",
   "id": "335977c3",
   "metadata": {},
   "source": [
    "【演習】乗客の年齢の昇順にデータを並び替えてみましょう"
   ]
  },
  {
   "cell_type": "code",
   "execution_count": null,
   "id": "4ff43941",
   "metadata": {},
   "outputs": [],
   "source": [
    "# your code goes here\n",
    "\n"
   ]
  },
  {
   "cell_type": "code",
   "execution_count": null,
   "id": "156640e3",
   "metadata": {},
   "outputs": [],
   "source": [
    "# answer\n",
    "\n",
    "titanic.sort_values(\"age\", ascending=True)"
   ]
  },
  {
   "cell_type": "markdown",
   "id": "4248884e",
   "metadata": {},
   "source": [
    "### カラム名の変更を行う"
   ]
  },
  {
   "cell_type": "markdown",
   "id": "2779b0fa",
   "metadata": {},
   "source": [
    "`DataFrame.rename()`関数を使うことで、カラム名を変更することができます。"
   ]
  },
  {
   "cell_type": "code",
   "execution_count": null,
   "id": "6d8a5b2b",
   "metadata": {},
   "outputs": [],
   "source": [
    "titanic.rename(columns={\"age\": \"年齢\"})"
   ]
  },
  {
   "cell_type": "code",
   "execution_count": null,
   "id": "17c70372",
   "metadata": {},
   "outputs": [],
   "source": [
    "titanic"
   ]
  },
  {
   "cell_type": "markdown",
   "id": "d6dabf84",
   "metadata": {},
   "source": [
    "いずれの変更も、もとのDataFrameを変えているわけではないことに注意してください。  \n",
    "変更を保持したい場合は、新しい変数（またはもとの変数）に代入する必要があります。"
   ]
  },
  {
   "cell_type": "code",
   "execution_count": null,
   "id": "10e74cfd",
   "metadata": {},
   "outputs": [],
   "source": [
    "titanic_renamed = titanic.rename(columns={\"age\": \"年齢\"})"
   ]
  },
  {
   "cell_type": "code",
   "execution_count": null,
   "id": "1d48517f",
   "metadata": {},
   "outputs": [],
   "source": [
    "titanic_renamed.head(1)"
   ]
  },
  {
   "cell_type": "code",
   "execution_count": null,
   "id": "57e35857",
   "metadata": {},
   "outputs": [],
   "source": [
    "titanic.head(1)"
   ]
  },
  {
   "cell_type": "markdown",
   "id": "ad344d18",
   "metadata": {},
   "source": [
    "pandasの基本的な操作は以上です。\n",
    "\n",
    "以上の操作を応用して、messy data（雑然データ）をtidy data（整然データ）にしてみましょう。"
   ]
  },
  {
   "cell_type": "markdown",
   "id": "66a9b95c",
   "metadata": {},
   "source": [
    "# Tidy data（整然データ）"
   ]
  },
  {
   "cell_type": "markdown",
   "id": "b2246108",
   "metadata": {},
   "source": [
    "整然データは、次の4つの条件を満たすデータなのでした。\n",
    "\n",
    "1. 1つの列は、1つの変数を表す。\n",
    "2. 1つの行は、1つの観測を表す。\n",
    "3. 1つのセル（特定の列の特定の行）は、1つの値を表す。\n",
    "4. 1つの表は、1つの観測単位を持つ（異なる観察単位が混ざっていない）。"
   ]
  },
  {
   "cell_type": "markdown",
   "id": "74d5f987",
   "metadata": {},
   "source": [
    "たとえば、2020年1月1〜3日の各都市の平均気温データでデータセットを作ってみます。"
   ]
  },
  {
   "cell_type": "code",
   "execution_count": null,
   "id": "6d66bbfa",
   "metadata": {},
   "outputs": [],
   "source": [
    "import datetime # 日付や時間を扱うライブラリ\n",
    "\n",
    "wide_df = pd.DataFrame(\n",
    "    [\n",
    "        [\"Tokyo\", 5.8, 5.7, 5.6],\n",
    "        [\"Osaka\", 6.8, 6.7, 6.6],\n",
    "        [\"Nagoya\", 5.1, 5.1, 5.0]\n",
    "    ],\n",
    "    columns=[\"Location\"] + pd.date_range(\"2020-01-01\", periods=3).tolist()\n",
    ")\n",
    "\n",
    "wide_df"
   ]
  },
  {
   "cell_type": "markdown",
   "id": "0b3ed3df",
   "metadata": {},
   "source": [
    "このデータでは、各行が複数の日付で構成（観測が複数）されています。また、各列が日付と気温の2つの変数で構成（変数が複数）されています。\n",
    "\n",
    "整然データの条件1と条件2を満たさないため、雑然データであると言えます。\n",
    "\n",
    "DataFrameの`melt`メソッドを使うと、このデータを整然データへ変換できます。次の引数を渡します。\n",
    "\n",
    "- `id_vars`: 基本となる列名を指定\n",
    "- `var_name`: 変数となる列名を指定\n",
    "- `value_name`: 値となる列名を指定"
   ]
  },
  {
   "cell_type": "code",
   "execution_count": null,
   "id": "b462eb69",
   "metadata": {},
   "outputs": [],
   "source": [
    "tidy_df = wide_df.melt(id_vars=\"Location\", var_name=\"Date\", value_name=\"Temperature\")\n",
    "tidy_df"
   ]
  },
  {
   "cell_type": "markdown",
   "id": "05412d1f",
   "metadata": {},
   "source": [
    "これで整然データを作ることができました。\n",
    "\n",
    "整然データは最もコンパクトなデータ形式ではありません。また、雑然データが間違っているデータ形式ということでもありません。むしろ、自分で数字を見たい／人に数字を見せたいだけであれば、雑然データの方が分かりやすいこともあります。\n",
    "\n",
    "しかし、データ可視化を行う際に、最も直接的に扱う優れたデータは整然データです。データ処理を通して整然データを作成してから次のステップへ進むことをおすすめします。"
   ]
  },
  {
   "cell_type": "markdown",
   "id": "ee44348d",
   "metadata": {},
   "source": [
    "# おまけ：Plotlyを使った可視化"
   ]
  },
  {
   "cell_type": "markdown",
   "id": "61c26ab8",
   "metadata": {},
   "source": [
    "今日のおまけとして、Plotlyというパッケージを使ってデータ可視化を行います。\n",
    "\n",
    "詳しくは次回の講義で説明しますが、データセット中の変数を図の要素に明示的に割り当てることで、可視化を作成します。"
   ]
  },
  {
   "cell_type": "code",
   "execution_count": null,
   "id": "9deb2b2c",
   "metadata": {},
   "outputs": [],
   "source": [
    "# Plotlyパッケージのインストール（初回のみ実行）\n",
    "!pip install plotly"
   ]
  },
  {
   "cell_type": "code",
   "execution_count": null,
   "id": "8e07b77f",
   "metadata": {},
   "outputs": [],
   "source": [
    "import plotly.express as px\n",
    "\n",
    "px.bar(tidy_df, x=\"Date\", y=\"Temperature\", color=\"Location\", barmode=\"group\").show()"
   ]
  },
  {
   "cell_type": "markdown",
   "id": "5efb7100",
   "metadata": {},
   "source": [
    "---"
   ]
  },
  {
   "cell_type": "markdown",
   "id": "19265d86",
   "metadata": {},
   "source": [
    "pandasを使っていくうちにもっと複雑な処理をしたくなると思うので、そんな時は公式ドキュメントを調べてみましょう。\n",
    "\n",
    "* [10 minutes to pandas](https://pandas.pydata.org/docs/user_guide/10min.html)\n",
    "* [pandas documentation](https://pandas.pydata.org/docs/index.html)"
   ]
  }
 ],
 "metadata": {
  "kernelspec": {
   "display_name": "Python 3",
   "language": "python",
   "name": "python3"
  },
  "language_info": {
   "codemirror_mode": {
    "name": "ipython",
    "version": 3
   },
   "file_extension": ".py",
   "mimetype": "text/x-python",
   "name": "python",
   "nbconvert_exporter": "python",
   "pygments_lexer": "ipython3",
   "version": "3.13.3"
  }
 },
 "nbformat": 4,
 "nbformat_minor": 5
}
