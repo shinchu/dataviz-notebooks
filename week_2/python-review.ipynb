{
 "cells": [
  {
   "cell_type": "markdown",
   "id": "6f5d2ce1",
   "metadata": {},
   "source": [
    "# Review of Python\n",
    "\n",
    "[![Open In Colab](https://colab.research.google.com/assets/colab-badge.svg)](https://colab.research.google.com/github/shinchu/dataviz-notebooks/blob/main/week_2/python-review.ipynb)"
   ]
  },
  {
   "cell_type": "markdown",
   "id": "e48d0411",
   "metadata": {},
   "source": [
    "# 関数を使う"
   ]
  },
  {
   "cell_type": "markdown",
   "id": "d10fad47",
   "metadata": {},
   "source": [
    "先週練習したPythonの復習をしますが、その前に **関数** の書き方を学びましょう。\n",
    "\n",
    "関数は、さまざまなケースに対して同じ処理を行うための機能です。たとえば、Aさん、Bさん、Cさんに対してBMIを計算する、などの場面で使うことができます。\n",
    "\n",
    "変数と同じく、関数もまず定義してから、後でそれを利用します。"
   ]
  },
  {
   "cell_type": "code",
   "execution_count": 1,
   "id": "460389d5",
   "metadata": {},
   "outputs": [],
   "source": [
    "def bmi(height, weight):\n",
    "    return weight / height ** 2"
   ]
  },
  {
   "cell_type": "code",
   "execution_count": 2,
   "id": "59c5e700",
   "metadata": {},
   "outputs": [
    {
     "data": {
      "text/plain": [
       "22.49134948096886"
      ]
     },
     "execution_count": 2,
     "metadata": {},
     "output_type": "execute_result"
    }
   ],
   "source": [
    "bmi(1.70, 65)"
   ]
  },
  {
   "cell_type": "code",
   "execution_count": 3,
   "id": "a5f723d6",
   "metadata": {},
   "outputs": [
    {
     "data": {
      "text/plain": [
       "20.061728395061728"
      ]
     },
     "execution_count": 3,
     "metadata": {},
     "output_type": "execute_result"
    }
   ],
   "source": [
    "bmi(1.80, 65)"
   ]
  },
  {
   "cell_type": "markdown",
   "id": "02b9c81b",
   "metadata": {},
   "source": [
    "【演習】（再掲）\n",
    "\n",
    "引数x, y, zを受け取り「x時のyはz」という文字列を返す関数を実装せよ。さらに、x=12, y=\"気温\", z=22.4として、実行結果を確認せよ。"
   ]
  },
  {
   "cell_type": "code",
   "execution_count": 4,
   "id": "a7fd596a",
   "metadata": {},
   "outputs": [],
   "source": [
    "# your code goes here"
   ]
  },
  {
   "cell_type": "markdown",
   "id": "530ffb75",
   "metadata": {},
   "source": [
    "# Pythonの復習\n",
    "\n",
    "参考：[前回の演習](https://github.com/shinchu/dataviz-notebooks/blob/main/week_1/intro-colab-python.ipynb)\n",
    "\n",
    "下記内容と前回の演習内容を参考にしながら、演習を解いてください。"
   ]
  },
  {
   "cell_type": "markdown",
   "id": "ce04870e",
   "metadata": {},
   "source": [
    "5人の生徒の数学の点数をまとめたリストAと、英語の点数をまとめたリストBがあります。"
   ]
  },
  {
   "cell_type": "code",
   "execution_count": 6,
   "id": "8fd870ce",
   "metadata": {},
   "outputs": [],
   "source": [
    "A = [80, 59, 64, 97, 89]\n",
    "B = [30, 70, 90, 94, 89]"
   ]
  },
  {
   "cell_type": "markdown",
   "id": "77221b14",
   "metadata": {},
   "source": [
    "それぞれの科目の合計点を求める関数`total`は次のように書けます。"
   ]
  },
  {
   "cell_type": "code",
   "execution_count": 7,
   "id": "700e4fdf",
   "metadata": {},
   "outputs": [],
   "source": [
    "def total(scores):\n",
    "    s = 0\n",
    "    for score in scores:\n",
    "        s = s + score\n",
    "    return s"
   ]
  },
  {
   "cell_type": "markdown",
   "id": "2b105e51",
   "metadata": {},
   "source": [
    "【演習】\n",
    "\n",
    "`total`を使って、リストAとリストBの合計をそれぞれ求めてください。また、組み込み関数`sum`と同じ結果になることを確認してください。"
   ]
  },
  {
   "cell_type": "code",
   "execution_count": 8,
   "id": "a2a460c1",
   "metadata": {},
   "outputs": [],
   "source": [
    "# your code goes here"
   ]
  },
  {
   "cell_type": "markdown",
   "id": "f3197a1b",
   "metadata": {},
   "source": [
    "【演習】\n",
    "\n",
    "それぞれの科目の平均点を求める関数`average`を書いてください。"
   ]
  },
  {
   "cell_type": "code",
   "execution_count": 13,
   "id": "e181fa40",
   "metadata": {},
   "outputs": [],
   "source": [
    "# your code goes here"
   ]
  },
  {
   "cell_type": "markdown",
   "id": "bfec8e9c",
   "metadata": {},
   "source": [
    "ところで、与えられた2つの数字のうち、大きい方を返す関数`larger`を次のように定義します。"
   ]
  },
  {
   "cell_type": "code",
   "execution_count": 17,
   "id": "3c0d09aa",
   "metadata": {},
   "outputs": [],
   "source": [
    "def larger(a, b):\n",
    "    if a > b:\n",
    "        return a\n",
    "    else:\n",
    "        return b"
   ]
  },
  {
   "cell_type": "markdown",
   "id": "dbcf9657",
   "metadata": {},
   "source": [
    "これを利用すると、それぞれの科目の最高点を求める関数`maximum`は次のように書けます。"
   ]
  },
  {
   "cell_type": "code",
   "execution_count": 18,
   "id": "834e8109",
   "metadata": {},
   "outputs": [],
   "source": [
    "def maximum(scores):\n",
    "    m = scores[0]\n",
    "    for i in range(1, len(scores)):\n",
    "        m = larger(m, scores[i])\n",
    "    return m"
   ]
  },
  {
   "cell_type": "markdown",
   "id": "b8790e70",
   "metadata": {},
   "source": [
    "【演習】\n",
    "\n",
    "`maximum`を使って、リストAとリストBの最高点をそれぞれ求めてください。また、組み込み関数`max`と同じ結果になることを確認してください。"
   ]
  },
  {
   "cell_type": "code",
   "execution_count": 19,
   "id": "3843241f",
   "metadata": {},
   "outputs": [],
   "source": [
    "# your code goes here"
   ]
  },
  {
   "cell_type": "markdown",
   "id": "6a60fc16",
   "metadata": {},
   "source": [
    "【演習】\n",
    "\n",
    "それぞれの科目の最低点を求める関数`minimum`を書いてください。"
   ]
  },
  {
   "cell_type": "code",
   "execution_count": 24,
   "id": "e7ef96c9",
   "metadata": {},
   "outputs": [],
   "source": [
    "# your code goes here"
   ]
  },
  {
   "cell_type": "markdown",
   "id": "efb8941a-7af9-47ad-aacf-d928ad46d571",
   "metadata": {},
   "source": [
    "---"
   ]
  },
  {
   "cell_type": "markdown",
   "id": "9bd00c21",
   "metadata": {},
   "source": [
    "【演習】\n",
    "\n",
    "任意のリストに対して、最大値のインデックスを返す関数`maxind`を書いてください。最大値が複数ある場合、最も先頭に近いものの位置を返します。以下は実行例です。\n",
    "\n",
    "```\n",
    "> maxind([4, 1, 2, 9, 6, 9])\n",
    "3\n",
    "```"
   ]
  },
  {
   "cell_type": "code",
   "execution_count": 30,
   "id": "d2c17f98",
   "metadata": {},
   "outputs": [],
   "source": [
    "# your code goes here"
   ]
  },
  {
   "cell_type": "markdown",
   "id": "07e81768",
   "metadata": {},
   "source": [
    "【演習】\n",
    "\n",
    "任意のリストの各要素の絶対値の和を求める関数`absum`を書いてください。以下は実行例です。\n",
    "\n",
    "```\n",
    "> absum([-2, 1, 6, -5])\n",
    "14\n",
    "```"
   ]
  },
  {
   "cell_type": "code",
   "execution_count": 32,
   "id": "6f1731db",
   "metadata": {},
   "outputs": [],
   "source": [
    "# your code goes here"
   ]
  },
  {
   "cell_type": "markdown",
   "id": "cb15e7e6-2ac6-4950-b0bf-997ff75f9e1b",
   "metadata": {},
   "source": [
    "---"
   ]
  },
  {
   "cell_type": "markdown",
   "id": "a0cbad0d",
   "metadata": {},
   "source": [
    "【演習】\n",
    "\n",
    "10進数の各桁が要素となったリストが与えられたとき、これを数値に戻す関数`digit`を書いてください。以下は実行例です。\n",
    "\n",
    "```\n",
    "> digit([])\n",
    "0\n",
    "\n",
    "> digit([6])\n",
    "6\n",
    "\n",
    "> digit([6, 3])\n",
    "63\n",
    "\n",
    "> digit([6, 3, 4])\n",
    "634\n",
    "```"
   ]
  },
  {
   "cell_type": "code",
   "execution_count": 34,
   "id": "780a1a7d",
   "metadata": {},
   "outputs": [],
   "source": [
    "# your code goes here"
   ]
  }
 ],
 "metadata": {
  "kernelspec": {
   "display_name": "Python 3 (ipykernel)",
   "language": "python",
   "name": "python3"
  },
  "language_info": {
   "codemirror_mode": {
    "name": "ipython",
    "version": 3
   },
   "file_extension": ".py",
   "mimetype": "text/x-python",
   "name": "python",
   "nbconvert_exporter": "python",
   "pygments_lexer": "ipython3",
   "version": "3.10.0"
  }
 },
 "nbformat": 4,
 "nbformat_minor": 5
}
