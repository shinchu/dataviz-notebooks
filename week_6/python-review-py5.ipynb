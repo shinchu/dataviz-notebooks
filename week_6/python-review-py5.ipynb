{
 "cells": [
  {
   "cell_type": "markdown",
   "id": "5634f1af",
   "metadata": {},
   "source": [
    "# Review of Python (py5版)\n",
    "\n",
    "[py5](https://py5coding.org/index.html) パッケージを使ってPythonの練習をしてみましょう。\n",
    "\n",
    "`py5`は、クリエイティブコーディング（プログラミングを使った（芸術）表現活動）でよく使われるソフトウェアである[p5.js](https://p5js.org/)をPythonに移植したものです。\n",
    "\n",
    "`p5.js`自体も、[Processing](https://processing.org/)というプログラミング言語をJavaScriptに移植したもので、後者はプログラミングによる映像表現の先駆的な試みの一つです。\n",
    "\n",
    "参考: [A Modern Prometheus](https://medium.com/processing-foundation/a-modern-prometheus-59aed94abe85)"
   ]
  },
  {
   "cell_type": "code",
   "execution_count": 2,
   "id": "d66c42e9",
   "metadata": {},
   "outputs": [],
   "source": [
    "import sys\n",
    "import os\n",
    "\n",
    "# macOSだったら以下のコマンドを実行する\n",
    "if sys.platform == \"darwin\":\n",
    "    get_ipython().run_line_magic('gui', 'osx')\n",
    "    # os.environ['JAVA_TOOL_OPTIONS'] = '--enable-native-access=ALL-UNNAMED'"
   ]
  },
  {
   "cell_type": "code",
   "execution_count": 3,
   "id": "2f4c0035",
   "metadata": {},
   "outputs": [
    {
     "name": "stderr",
     "output_type": "stream",
     "text": [
      "WARNING: A restricted method in java.lang.System has been called\n",
      "WARNING: java.lang.System::load has been called by org.jpype.JPypeContext in an unnamed module (file:/Users/zhu/.virtualenvs/datatools/lib/python3.13/site-packages/org.jpype.jar)\n",
      "WARNING: Use --enable-native-access=ALL-UNNAMED to avoid a warning for callers in this module\n",
      "WARNING: Restricted methods will be blocked in a future release unless native access is enabled\n",
      "\n"
     ]
    }
   ],
   "source": [
    "import py5"
   ]
  },
  {
   "cell_type": "code",
   "execution_count": null,
   "id": "cb23cbd3",
   "metadata": {},
   "outputs": [
    {
     "name": "stdout",
     "output_type": "stream",
     "text": [
      "start pause\n",
      "end pause\n"
     ]
    },
    {
     "ename": "",
     "evalue": "",
     "output_type": "error",
     "traceback": [
      "\u001b[1;31mThe Kernel crashed while executing code in the current cell or a previous cell. \n",
      "\u001b[1;31mPlease review the code in the cell(s) to identify a possible cause of the failure. \n",
      "\u001b[1;31mClick <a href='https://aka.ms/vscodeJupyterKernelCrash'>here</a> for more info. \n",
      "\u001b[1;31mView Jupyter <a href='command:jupyter.viewOutput'>log</a> for further details."
     ]
    }
   ],
   "source": [
    "import time\n",
    "\n",
    "def setup():\n",
    "    py5.size(200, 200, py5.P2D)\n",
    "\n",
    "\n",
    "def draw():\n",
    "    if py5.frame_count % 50 == 0:\n",
    "        py5.println(py5.frame_count)\n",
    "    py5.square(py5.random_int(py5.width), py5.random_int(py5.height), 10)\n",
    "\n",
    "\n",
    "py5.run_sketch(block=False)\n",
    "\n",
    "print('start pause')\n",
    "time.sleep(3)\n",
    "print('end pause')"
   ]
  }
 ],
 "metadata": {
  "kernelspec": {
   "display_name": "Python 3",
   "language": "python",
   "name": "python3"
  },
  "language_info": {
   "codemirror_mode": {
    "name": "ipython",
    "version": 3
   },
   "file_extension": ".py",
   "mimetype": "text/x-python",
   "name": "python",
   "nbconvert_exporter": "python",
   "pygments_lexer": "ipython3",
   "version": "3.13.3"
  }
 },
 "nbformat": 4,
 "nbformat_minor": 5
}
