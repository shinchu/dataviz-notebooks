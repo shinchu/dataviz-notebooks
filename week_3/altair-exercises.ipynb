{
 "cells": [
  {
   "cell_type": "markdown",
   "id": "a4ebe38f",
   "metadata": {},
   "source": [
    "# Altairの練習\n",
    "\n",
    "[![Open In Colab](https://colab.research.google.com/assets/colab-badge.svg)](https://colab.research.google.com/github/shinchu/dataviz-notebooks/blob/main/week_3/altair-exercises.ipynb)"
   ]
  },
  {
   "cell_type": "markdown",
   "id": "152ab331",
   "metadata": {},
   "source": [
    "Altairを使って、ノーベル賞受賞者のデータを自由に可視化をしてみましょう。\n",
    "\n",
    "データの読み込み方法と探索的可視化の観点については、[このノートブック](https://nbviewer.org/github/shinchu/dataviz-notebooks/blob/main/week_2/nobel-laureates.ipynb)を参考にしてみてください（リンクにアクセスできなかったら、[こちら](https://github.com/shinchu/dataviz-notebooks/blob/main/week_2/nobel-laureates.ipynb)を見てください）。"
   ]
  },
  {
   "cell_type": "code",
   "execution_count": 2,
   "id": "5fb0fd14",
   "metadata": {},
   "outputs": [],
   "source": [
    "import pandas as pd\n",
    "import altair as alt\n",
    "\n",
    "# 必要であれば、ここでライブラリをインストール\n",
    "\n"
   ]
  },
  {
   "cell_type": "markdown",
   "id": "8bbfef37",
   "metadata": {},
   "source": [
    "## データの読み込み"
   ]
  },
  {
   "cell_type": "code",
   "execution_count": 7,
   "id": "9fe285af",
   "metadata": {},
   "outputs": [],
   "source": [
    "# 注意：このデータはタブ区切りです。区切り文字を指定して読み込みましょう\n",
    "\n",
    "nobel_data = \"https://raw.githubusercontent.com/shinchu/dataviz-notebooks/main/data/week_2/nobel_prize_data_cleaned.tsv\""
   ]
  },
  {
   "cell_type": "markdown",
   "id": "cf8343a5",
   "metadata": {},
   "source": [
    "## 読み込んだデータがtidy dataになっているかを確認"
   ]
  },
  {
   "cell_type": "markdown",
   "id": "ca739eb5",
   "metadata": {},
   "source": [
    "コードと合わせて、メモも残していきましょう。"
   ]
  },
  {
   "cell_type": "code",
   "execution_count": 1,
   "id": "299426d4",
   "metadata": {},
   "outputs": [],
   "source": [
    "# your code goes here"
   ]
  },
  {
   "cell_type": "markdown",
   "id": "03ae5560",
   "metadata": {},
   "source": [
    "## データ変数の性質を確認\n",
    "\n"
   ]
  },
  {
   "cell_type": "code",
   "execution_count": 2,
   "id": "fbe8adc0",
   "metadata": {},
   "outputs": [],
   "source": [
    "# your code goes here"
   ]
  },
  {
   "cell_type": "markdown",
   "id": "4c5ca7e8",
   "metadata": {},
   "source": [
    "## 可視化する"
   ]
  },
  {
   "cell_type": "code",
   "execution_count": 3,
   "id": "453760fa",
   "metadata": {},
   "outputs": [],
   "source": [
    "# your code goes here"
   ]
  }
 ],
 "metadata": {
  "kernelspec": {
   "display_name": "Python 3 (ipykernel)",
   "language": "python",
   "name": "python3"
  },
  "language_info": {
   "codemirror_mode": {
    "name": "ipython",
    "version": 3
   },
   "file_extension": ".py",
   "mimetype": "text/x-python",
   "name": "python",
   "nbconvert_exporter": "python",
   "pygments_lexer": "ipython3",
   "version": "3.10.0"
  }
 },
 "nbformat": 4,
 "nbformat_minor": 5
}
