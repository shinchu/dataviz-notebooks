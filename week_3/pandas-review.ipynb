{
 "cells": [
  {
   "cell_type": "markdown",
   "id": "1ce2014f",
   "metadata": {},
   "source": [
    "# pandasの復習\n",
    "\n",
    "[![Open In Colab](https://colab.research.google.com/assets/colab-badge.svg)](https://colab.research.google.com/github/shinchu/dataviz-notebooks/blob/main/week_3/pandas-review.ipynb)"
   ]
  },
  {
   "cell_type": "markdown",
   "id": "b975bbbd",
   "metadata": {},
   "source": [
    "練習問題は、[gotty21/basic_pandas-64-knocks](https://github.com/gotty21/basic_pandas-64-knocks)をから抜粋しました。\n",
    "\n",
    "講義で習っていない部分は、公式ドキュメントを調べてみてください。\n",
    "\n",
    "* [10 minutes to pandas](https://pandas.pydata.org/docs/user_guide/10min.html)\n",
    "* [pandas documentation](https://pandas.pydata.org/docs/index.html)"
   ]
  },
  {
   "cell_type": "markdown",
   "id": "696241aa",
   "metadata": {},
   "source": [
    "## 事前準備\n",
    "\n",
    "データフレームを初期化するための関数`initialize()`を作ります。作業前にこの2つのセルを実行しましょう。\n",
    "\n",
    "`openpyxl`はExcelファイルの読み込みに必要です。必要に応じてインストールしてください。"
   ]
  },
  {
   "cell_type": "code",
   "execution_count": null,
   "id": "c423312a",
   "metadata": {},
   "outputs": [],
   "source": [
    "!pip install openpyxl"
   ]
  },
  {
   "cell_type": "code",
   "execution_count": null,
   "id": "ce977eda",
   "metadata": {},
   "outputs": [],
   "source": [
    "import pandas as pd\n",
    "\n",
    "def initialize(flag=0):\n",
    "    if flag == 0:\n",
    "        return pd.read_csv(\"https://raw.githubusercontent.com/shinchu/dataviz-notebooks/main/data/week_3/main.csv\")\n",
    "    if flag == 1:\n",
    "        return pd.read_csv(\"https://raw.githubusercontent.com/shinchu/dataviz-notebooks/main/data/week_3/add.csv\")\n",
    "    if flag == 2:\n",
    "        return pd.read_excel(\"https://github.com/shinchu/dataviz-notebooks/blob/main/data/week_3/data.xlsx?raw=true\")\n",
    "    else:\n",
    "        print(\"Please specify numbers between 0 to 2.\")\n",
    "        return None"
   ]
  },
  {
   "cell_type": "markdown",
   "id": "22c29118",
   "metadata": {},
   "source": [
    "## データの読み込み・確認"
   ]
  },
  {
   "cell_type": "markdown",
   "id": "1987f54c",
   "metadata": {},
   "source": [
    "### pandasインポート"
   ]
  },
  {
   "cell_type": "markdown",
   "id": "3dfc6363",
   "metadata": {},
   "source": [
    "【演習】pandasライブラリをpdという名前でインポートしてください。"
   ]
  },
  {
   "cell_type": "code",
   "execution_count": null,
   "id": "5e414fbb",
   "metadata": {},
   "outputs": [],
   "source": [
    "# your code goes here\n"
   ]
  },
  {
   "cell_type": "code",
   "execution_count": null,
   "id": "178d85fd-e874-433c-986d-f59601ba5486",
   "metadata": {},
   "outputs": [],
   "source": [
    "# answer\n",
    "\n",
    "import pandas as pd"
   ]
  },
  {
   "cell_type": "markdown",
   "id": "4b6ce1e1",
   "metadata": {},
   "source": [
    "### csvファイルの読み込み"
   ]
  },
  {
   "cell_type": "markdown",
   "id": "bacd9aef",
   "metadata": {},
   "source": [
    "【演習】\n",
    "\n",
    "URL: https://raw.githubusercontent.com/shinchu/dataviz-notebooks/main/data/week_3/main.csv\n",
    "\n",
    "上記URLからmain.csvを読み込んでデータフレームを作成し、dfという変数に格納してください。"
   ]
  },
  {
   "cell_type": "code",
   "execution_count": null,
   "id": "8e68cfa9",
   "metadata": {},
   "outputs": [],
   "source": [
    "# your code goes here\n"
   ]
  },
  {
   "cell_type": "markdown",
   "id": "407f78e3",
   "metadata": {},
   "source": [
    "【演習】\n",
    "\n",
    "URL: https://raw.githubusercontent.com/shinchu/dataviz-notebooks/main/data/week_3/add.csv\n",
    "\n",
    "上記URLからadd.csvを読み込んでデータフレームを作成し、addという変数に格納してください。\n"
   ]
  },
  {
   "cell_type": "code",
   "execution_count": null,
   "id": "e3013970",
   "metadata": {},
   "outputs": [],
   "source": [
    "# your code goes here"
   ]
  },
  {
   "cell_type": "markdown",
   "id": "dfdf9f03",
   "metadata": {},
   "source": [
    "### DataFrameのサイズの確認"
   ]
  },
  {
   "cell_type": "markdown",
   "id": "2654bae6",
   "metadata": {},
   "source": [
    "【演習】dfのサイズを確認してください。"
   ]
  },
  {
   "cell_type": "code",
   "execution_count": null,
   "id": "5f781178",
   "metadata": {},
   "outputs": [],
   "source": [
    "# 次の一行でデータフレームdfを初期化します。演習を行う前に都度実行してください。\n",
    "\n",
    "df = initialize(0)"
   ]
  },
  {
   "cell_type": "code",
   "execution_count": null,
   "id": "c2ab6932",
   "metadata": {},
   "outputs": [],
   "source": [
    "# your code goes here\n"
   ]
  },
  {
   "cell_type": "markdown",
   "id": "11db54d6",
   "metadata": {},
   "source": [
    "### DataFrameのレコード数の確認"
   ]
  },
  {
   "cell_type": "markdown",
   "id": "05bd8397",
   "metadata": {},
   "source": [
    "【演習】dfのレコード数を確認してください。"
   ]
  },
  {
   "cell_type": "code",
   "execution_count": null,
   "id": "61952204",
   "metadata": {},
   "outputs": [],
   "source": [
    "df = initialize(0)"
   ]
  },
  {
   "cell_type": "code",
   "execution_count": null,
   "id": "e4c63d44",
   "metadata": {},
   "outputs": [],
   "source": [
    "# your code goes here\n"
   ]
  },
  {
   "cell_type": "markdown",
   "id": "544f0663",
   "metadata": {},
   "source": [
    "## ラベル"
   ]
  },
  {
   "cell_type": "markdown",
   "id": "b650bb9b",
   "metadata": {},
   "source": [
    "### DataFrameのカラム名の取得"
   ]
  },
  {
   "cell_type": "markdown",
   "id": "85deac68",
   "metadata": {},
   "source": [
    "【演習】dfのcolumn名をリスト形式で取得してください。"
   ]
  },
  {
   "cell_type": "code",
   "execution_count": null,
   "id": "48b9e3aa",
   "metadata": {},
   "outputs": [],
   "source": [
    "df = initialize(0)"
   ]
  },
  {
   "cell_type": "code",
   "execution_count": null,
   "id": "0af01bb9",
   "metadata": {},
   "outputs": [],
   "source": [
    "# your code goes here\n"
   ]
  },
  {
   "cell_type": "markdown",
   "id": "2ac32e5d",
   "metadata": {},
   "source": [
    "### DataFrameのカラム名の一部を変更"
   ]
  },
  {
   "cell_type": "markdown",
   "id": "80902595",
   "metadata": {},
   "source": [
    "【演習】dfのcolumn名CODE_GENDERをGENDERに変更してください。"
   ]
  },
  {
   "cell_type": "code",
   "execution_count": null,
   "id": "10842359",
   "metadata": {},
   "outputs": [],
   "source": [
    "df = initialize(0)"
   ]
  },
  {
   "cell_type": "code",
   "execution_count": null,
   "id": "228b9165",
   "metadata": {},
   "outputs": [],
   "source": [
    "# your code goes here\n"
   ]
  },
  {
   "cell_type": "markdown",
   "id": "e06fa372",
   "metadata": {},
   "source": [
    "### DataFrameのカラム名をすべて変更"
   ]
  },
  {
   "cell_type": "markdown",
   "id": "bee74f7c",
   "metadata": {},
   "source": [
    "【演習】column名をno1～no11というstr型の名前に変更してください。「リスト内包表記」を使用すると簡単です。調べてみてください。"
   ]
  },
  {
   "cell_type": "code",
   "execution_count": null,
   "id": "6a50c84f",
   "metadata": {},
   "outputs": [],
   "source": [
    "df = initialize(0)"
   ]
  },
  {
   "cell_type": "code",
   "execution_count": null,
   "id": "99d836d3",
   "metadata": {},
   "outputs": [],
   "source": [
    "# your code goes here\n"
   ]
  },
  {
   "cell_type": "markdown",
   "id": "6cb0e568",
   "metadata": {},
   "source": [
    "## 各列のデータの確認"
   ]
  },
  {
   "cell_type": "markdown",
   "id": "890f3573",
   "metadata": {},
   "source": [
    "###  任意の列のユニーク（一意）な要素を確認"
   ]
  },
  {
   "cell_type": "code",
   "execution_count": null,
   "id": "88b52b2b",
   "metadata": {},
   "outputs": [],
   "source": [
    "df = initialize(0)"
   ]
  },
  {
   "cell_type": "markdown",
   "id": "e9215b42",
   "metadata": {},
   "source": [
    "【演習】dfのCODE_GENDER列のユニークな要素を確認してください。"
   ]
  },
  {
   "cell_type": "code",
   "execution_count": null,
   "id": "e4f23025",
   "metadata": {},
   "outputs": [],
   "source": [
    "# your code goes here\n"
   ]
  },
  {
   "cell_type": "markdown",
   "id": "9f221198",
   "metadata": {},
   "source": [
    "### 各列のユニークな要素の数を確認"
   ]
  },
  {
   "cell_type": "markdown",
   "id": "d1292901",
   "metadata": {},
   "source": [
    "【演習】dfの各列のユニークな要素の数を出力してください。"
   ]
  },
  {
   "cell_type": "code",
   "execution_count": null,
   "id": "718505f8",
   "metadata": {},
   "outputs": [],
   "source": [
    "df = initialize(0)"
   ]
  },
  {
   "cell_type": "code",
   "execution_count": null,
   "id": "27107b6f",
   "metadata": {},
   "outputs": [],
   "source": [
    "# your code goes here\n"
   ]
  },
  {
   "cell_type": "markdown",
   "id": "310b7305",
   "metadata": {},
   "source": [
    "### 任意の列のユニークな要素の数とその出現回数を確認"
   ]
  },
  {
   "cell_type": "markdown",
   "id": "4af8af1f",
   "metadata": {},
   "source": [
    "【演習】dfのCNT_CHILDREN列の要素とその出現回数を確認してください。"
   ]
  },
  {
   "cell_type": "code",
   "execution_count": null,
   "id": "a81b9e83",
   "metadata": {},
   "outputs": [],
   "source": [
    "df = initialize(0)"
   ]
  },
  {
   "cell_type": "code",
   "execution_count": null,
   "id": "4d748efb",
   "metadata": {},
   "outputs": [],
   "source": [
    "# your code goes here\n"
   ]
  },
  {
   "cell_type": "markdown",
   "id": "1e22284d",
   "metadata": {},
   "source": [
    "## データの取り出し"
   ]
  },
  {
   "cell_type": "markdown",
   "id": "2462e9ab",
   "metadata": {},
   "source": [
    "### 任意の１つの列の取り出し"
   ]
  },
  {
   "cell_type": "markdown",
   "id": "ee2274ad",
   "metadata": {},
   "source": [
    "【演習】dfのTARGETの列のみ表示してください。"
   ]
  },
  {
   "cell_type": "code",
   "execution_count": null,
   "id": "8f2308b3",
   "metadata": {},
   "outputs": [],
   "source": [
    "df = initialize(0)"
   ]
  },
  {
   "cell_type": "code",
   "execution_count": null,
   "id": "cdb17ec5",
   "metadata": {},
   "outputs": [],
   "source": [
    "# your code goes here\n"
   ]
  },
  {
   "cell_type": "markdown",
   "id": "becb08b1",
   "metadata": {},
   "source": [
    "【演習】dfの左から3番目の列のみ表示してください。"
   ]
  },
  {
   "cell_type": "code",
   "execution_count": null,
   "id": "385d3574",
   "metadata": {},
   "outputs": [],
   "source": [
    "df = initialize(0)"
   ]
  },
  {
   "cell_type": "code",
   "execution_count": null,
   "id": "424cc741",
   "metadata": {},
   "outputs": [],
   "source": [
    "# your code goes here\n"
   ]
  },
  {
   "cell_type": "markdown",
   "id": "93952e8b",
   "metadata": {},
   "source": [
    "### 複数の列の取り出し"
   ]
  },
  {
   "cell_type": "markdown",
   "id": "03886ce0",
   "metadata": {},
   "source": [
    "【演習】dfのTARGET列とCODE_GENDER列のみ表示してください。"
   ]
  },
  {
   "cell_type": "code",
   "execution_count": null,
   "id": "5c835a0e",
   "metadata": {},
   "outputs": [],
   "source": [
    "df = initialize(0)"
   ]
  },
  {
   "cell_type": "code",
   "execution_count": null,
   "id": "e1b184ee",
   "metadata": {},
   "outputs": [],
   "source": [
    "# your code goes here\n"
   ]
  },
  {
   "cell_type": "markdown",
   "id": "4eaa34bd",
   "metadata": {},
   "source": [
    "【演習】dfのTARGET列とCODE_GENDER列までの列を表示してください。"
   ]
  },
  {
   "cell_type": "code",
   "execution_count": null,
   "id": "c4ab19c6",
   "metadata": {},
   "outputs": [],
   "source": [
    "df = initialize(0)"
   ]
  },
  {
   "cell_type": "code",
   "execution_count": null,
   "id": "fd9fcb58",
   "metadata": {},
   "outputs": [],
   "source": [
    "# your code goes here\n"
   ]
  },
  {
   "cell_type": "markdown",
   "id": "8431ad57",
   "metadata": {},
   "source": [
    "### 条件検索"
   ]
  },
  {
   "cell_type": "markdown",
   "id": "5b19d4f1",
   "metadata": {},
   "source": [
    "【演習】CODE_GENDER列が'F'かつAMT_INCOME_TOTAL列が500000以上のデータポイントを表示してください。"
   ]
  },
  {
   "cell_type": "code",
   "execution_count": null,
   "id": "e35c4c5d",
   "metadata": {},
   "outputs": [],
   "source": [
    "df = initialize(0)"
   ]
  },
  {
   "cell_type": "code",
   "execution_count": null,
   "id": "ed6253a6",
   "metadata": {},
   "outputs": [],
   "source": [
    "# your code goes here\n"
   ]
  },
  {
   "cell_type": "markdown",
   "id": "ef2545b4",
   "metadata": {},
   "source": [
    "## ソート"
   ]
  },
  {
   "cell_type": "markdown",
   "id": "eaf53352",
   "metadata": {},
   "source": [
    "### 任意の一列で昇順ソート"
   ]
  },
  {
   "cell_type": "markdown",
   "id": "a902d6a7",
   "metadata": {},
   "source": [
    "【演習】dfのAMT_INCOME_TOTALの列で昇順ソートして表示してください。"
   ]
  },
  {
   "cell_type": "code",
   "execution_count": null,
   "id": "1e6e5621",
   "metadata": {},
   "outputs": [],
   "source": [
    "df = initialize(0)"
   ]
  },
  {
   "cell_type": "code",
   "execution_count": null,
   "id": "4e1fb4e6",
   "metadata": {},
   "outputs": [],
   "source": [
    "# your code goes here\n"
   ]
  },
  {
   "cell_type": "markdown",
   "id": "2465d788",
   "metadata": {},
   "source": [
    "### 任意の一列で降順ソート\n"
   ]
  },
  {
   "cell_type": "markdown",
   "id": "54b22885",
   "metadata": {},
   "source": [
    "【演習】dfのAMT_INCOME_TOTALの列で降順ソート表示してください。"
   ]
  },
  {
   "cell_type": "code",
   "execution_count": null,
   "id": "6acedf51",
   "metadata": {},
   "outputs": [],
   "source": [
    "df = initialize(0)"
   ]
  },
  {
   "cell_type": "code",
   "execution_count": null,
   "id": "b8f7f018",
   "metadata": {},
   "outputs": [],
   "source": [
    "# your code goes here\n"
   ]
  },
  {
   "cell_type": "markdown",
   "id": "4cbf3e86",
   "metadata": {},
   "source": [
    "## 統計量"
   ]
  },
  {
   "cell_type": "markdown",
   "id": "cea7b81e",
   "metadata": {},
   "source": [
    "### 基本統計量"
   ]
  },
  {
   "cell_type": "markdown",
   "id": "4bce0453",
   "metadata": {},
   "source": [
    "【演習】dfのAMT_INCOME_TOTAL列の平均、中央値、合計、最大値、最小値、最頻値をそれぞれ出力してください。"
   ]
  },
  {
   "cell_type": "code",
   "execution_count": null,
   "id": "96a8f500",
   "metadata": {},
   "outputs": [],
   "source": [
    "df = initialize(0)"
   ]
  },
  {
   "cell_type": "code",
   "execution_count": null,
   "id": "c6365a0c",
   "metadata": {},
   "outputs": [],
   "source": [
    "# your code goes here\n"
   ]
  },
  {
   "cell_type": "markdown",
   "id": "130a7854",
   "metadata": {},
   "source": [
    "### 要約統計量"
   ]
  },
  {
   "cell_type": "markdown",
   "id": "8548bfce",
   "metadata": {},
   "source": [
    "【演習】dfのAMT_INCOME_TOTAL列の要約統計量を出力してください。"
   ]
  },
  {
   "cell_type": "code",
   "execution_count": null,
   "id": "5d22651b",
   "metadata": {},
   "outputs": [],
   "source": [
    "df = initialize(0)"
   ]
  },
  {
   "cell_type": "code",
   "execution_count": null,
   "id": "799cb899",
   "metadata": {},
   "outputs": [],
   "source": [
    "# your code goes here\n"
   ]
  },
  {
   "cell_type": "markdown",
   "id": "c8e88501",
   "metadata": {},
   "source": [
    "### groupby"
   ]
  },
  {
   "cell_type": "markdown",
   "id": "59ffa127",
   "metadata": {},
   "source": [
    "【演習】dfのCODE_GENDERで集約し、それぞれのAMT_INCOME_TOTALの最大値を出力してください。"
   ]
  },
  {
   "cell_type": "code",
   "execution_count": null,
   "id": "31d1bc74",
   "metadata": {},
   "outputs": [],
   "source": [
    "df = initialize(0)"
   ]
  },
  {
   "cell_type": "code",
   "execution_count": null,
   "id": "cfef4845",
   "metadata": {},
   "outputs": [],
   "source": [
    "# your code goes here\n"
   ]
  },
  {
   "cell_type": "markdown",
   "id": "6b073f43",
   "metadata": {},
   "source": [
    "【演習】dfのCODE_GENDERごとにNAME_CONTRACT_TYPEで集約し、各グループ内の平均と分散を出力してください。また、出力を見やすくするためにindexをリセットしてください。"
   ]
  },
  {
   "cell_type": "code",
   "execution_count": null,
   "id": "7d404f5e",
   "metadata": {},
   "outputs": [],
   "source": [
    "df = initialize(0)"
   ]
  },
  {
   "cell_type": "code",
   "execution_count": null,
   "id": "1b9062a4",
   "metadata": {},
   "outputs": [],
   "source": [
    "# your code goes here\n"
   ]
  },
  {
   "cell_type": "markdown",
   "id": "23799f5a",
   "metadata": {},
   "source": [
    "## ファイル出力"
   ]
  },
  {
   "cell_type": "markdown",
   "id": "4e483b86",
   "metadata": {},
   "source": [
    "### csvファイルに出力"
   ]
  },
  {
   "cell_type": "markdown",
   "id": "efcb675d",
   "metadata": {},
   "source": [
    "【演習】dfを、行番号、列番号なしでoutput.csvという名前で出力し、ファイルを開いて確認してみてください。"
   ]
  },
  {
   "cell_type": "code",
   "execution_count": null,
   "id": "b8591620",
   "metadata": {},
   "outputs": [],
   "source": [
    "df = initialize(0)"
   ]
  },
  {
   "cell_type": "code",
   "execution_count": null,
   "id": "3cf8f2ff",
   "metadata": {},
   "outputs": [],
   "source": [
    "# your code goes here\n"
   ]
  },
  {
   "cell_type": "markdown",
   "id": "716af110-a8d2-4c0e-9a45-a030fb7b52b7",
   "metadata": {},
   "source": [
    "---"
   ]
  },
  {
   "cell_type": "markdown",
   "id": "801f24f3-9639-40d5-95ac-4a5fa728af68",
   "metadata": {},
   "source": [
    "この演習は以上です。お疲れさまでした。"
   ]
  }
 ],
 "metadata": {
  "kernelspec": {
   "display_name": "Python 3 (ipykernel)",
   "language": "python",
   "name": "python3"
  },
  "language_info": {
   "codemirror_mode": {
    "name": "ipython",
    "version": 3
   },
   "file_extension": ".py",
   "mimetype": "text/x-python",
   "name": "python",
   "nbconvert_exporter": "python",
   "pygments_lexer": "ipython3",
   "version": "3.10.0"
  }
 },
 "nbformat": 4,
 "nbformat_minor": 5
}
