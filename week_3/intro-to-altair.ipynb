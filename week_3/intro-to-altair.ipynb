{
 "cells": [
  {
   "cell_type": "markdown",
   "id": "05535abd",
   "metadata": {},
   "source": [
    "# Introduction to Visualizaiton Libraries\n",
    "\n",
    "[![Open In Colab](https://colab.research.google.com/assets/colab-badge.svg)](https://colab.research.google.com/github/shinchu/dataviz-notebooks/blob/main/week_3/intro-to-altair.ipynb)"
   ]
  },
  {
   "cell_type": "markdown",
   "id": "f93c55e8",
   "metadata": {},
   "source": [
    "## Pythonの主要な可視化ライブラリ\n",
    "\n",
    "* [matplotlib](https://matplotlib.org/): 最も広く使われている。かなり細かいところまで調整できるので、論文に載せる図はこれで作ることが多い。\n",
    "* [seaborn](https://seaborn.pydata.org/): matplotlibのラッパー。matplotlibのデザインをデフォルトでいい感じにしてくれる。細かい調整は内部のmatplotlibにアクセスして行う。\n",
    "* [plotly](https://plotly.com/python/): インタラクティブな図を作ることができる。さっと使う分にはとても便利。最近はドキュメントも充実してきて、細かい調整もしやすくなった。\n",
    "* [altair](https://altair-viz.github.io/): 宣言型統計可視化ライブラリ。データと視覚記号の関係を宣言することで図を作ることができる。\n",
    "* ...\n",
    "\n",
    "※ 宣言型（declarative）: 何をするか（what）を書く\n",
    "\n",
    "※ 命令型（imperetive）: どうするか（how）を書く"
   ]
  },
  {
   "cell_type": "markdown",
   "id": "7c349705",
   "metadata": {},
   "source": [
    "本講義では、altairとplotlyを主に扱います。"
   ]
  },
  {
   "cell_type": "markdown",
   "id": "f069bee8",
   "metadata": {},
   "source": [
    "## Altair"
   ]
  },
  {
   "cell_type": "code",
   "execution_count": null,
   "id": "eea4a318",
   "metadata": {},
   "outputs": [],
   "source": [
    "# ライブラリのインストール（最初に実行するときのみ）\n",
    "\n",
    "!pip install altair\n",
    "!pip install vega_datasets"
   ]
  },
  {
   "cell_type": "code",
   "execution_count": null,
   "id": "92ad3db7",
   "metadata": {},
   "outputs": [],
   "source": [
    "import pandas as pd\n",
    "import altair as alt"
   ]
  },
  {
   "cell_type": "code",
   "execution_count": null,
   "id": "96aee108",
   "metadata": {},
   "outputs": [],
   "source": [
    "# pandasデータフレームを最大300行まで表示する設定\n",
    "pd.set_option('display.max_rows', 300)"
   ]
  },
  {
   "cell_type": "markdown",
   "id": "f387fa17",
   "metadata": {},
   "source": [
    "### データの読み込み\n",
    "\n",
    "* AltairではPandasデータフレームを利用してデータの読み込みを行う\n",
    "* データセット、URL、直接入力などでデータを与えることができる\n",
    "* この時、データフレームの形が[tidy data](http://vita.had.co.nz/papers/tidy-data.html)であることが望ましい（Tidy dataになっていない時は事前に形を整える）\n",
    "    * Tidy dataでは、各変数が列、各観測値が行、各観測単位がテーブルとなっている\n",
    "    * このような形を維持することでデータの操作、モデル化、可視化が容易となる"
   ]
  },
  {
   "cell_type": "markdown",
   "id": "8c56ca7b",
   "metadata": {},
   "source": [
    "#### データセットから読み込む"
   ]
  },
  {
   "cell_type": "code",
   "execution_count": null,
   "id": "e09de665",
   "metadata": {},
   "outputs": [],
   "source": [
    "from vega_datasets import data\n",
    "cars = data.cars()\n",
    "cars.head()"
   ]
  },
  {
   "cell_type": "markdown",
   "id": "a293d62d",
   "metadata": {},
   "source": [
    "#### URLから読み込む"
   ]
  },
  {
   "cell_type": "code",
   "execution_count": null,
   "id": "853bb029",
   "metadata": {},
   "outputs": [],
   "source": [
    "data.cars.url"
   ]
  },
  {
   "cell_type": "code",
   "execution_count": null,
   "id": "af91da2a",
   "metadata": {},
   "outputs": [],
   "source": [
    "pd.read_json(data.cars.url).head()"
   ]
  },
  {
   "cell_type": "markdown",
   "id": "61e3a6b2",
   "metadata": {},
   "source": [
    "#### 直接入力"
   ]
  },
  {
   "cell_type": "markdown",
   "id": "ac314a4c",
   "metadata": {},
   "source": [
    "ここでは、都市と月の平均降雨量（`precip`）を含む簡単なデータフレームを扱います。"
   ]
  },
  {
   "cell_type": "code",
   "execution_count": null,
   "id": "2a68536e",
   "metadata": {},
   "outputs": [],
   "source": [
    "df = pd.DataFrame({\n",
    "    'city': ['Seattle', 'Seattle', 'Seattle', 'New York', 'New York', 'New York', 'Chicago', 'Chicago', 'Chicago'],\n",
    "    'month': ['Apr', 'Aug', 'Dec', 'Apr', 'Aug', 'Dec', 'Apr', 'Aug', 'Dec'],\n",
    "    'precip': [2.68, 0.87, 5.31, 3.94, 4.13, 3.58, 3.62, 3.98, 2.56]\n",
    "})\n",
    "\n",
    "df"
   ]
  },
  {
   "cell_type": "markdown",
   "id": "d94818d0",
   "metadata": {},
   "source": [
    "### Chartオブジェクト\n",
    "\n",
    "Altairの基本的なオブジェクトは`Chart`で、引数としてデータフレームを受け取ります。"
   ]
  },
  {
   "cell_type": "code",
   "execution_count": null,
   "id": "3ca52b5d-c8d5-4bd1-953e-14a897a50ee1",
   "metadata": {},
   "outputs": [],
   "source": [
    "# 授業用：PythonのWarning（警告）を非表示にする設定\n",
    "\n",
    "import warnings\n",
    "warnings.filterwarnings(\"ignore\")"
   ]
  },
  {
   "cell_type": "code",
   "execution_count": null,
   "id": "b1f220a1",
   "metadata": {},
   "outputs": [],
   "source": [
    "chart = alt.Chart(df)"
   ]
  },
  {
   "cell_type": "markdown",
   "id": "cbf95f9d",
   "metadata": {},
   "source": [
    "### 視覚記号・視覚変数・エンコーディング\n",
    "\n",
    "Chartオブジェクトに指示を与えることで、どの視覚記号を使うかを指定します。\n",
    "\n",
    "例えば、`mark_point()`で視覚記号として、点を使うことができます。"
   ]
  },
  {
   "cell_type": "code",
   "execution_count": null,
   "id": "04c30c57",
   "metadata": {},
   "outputs": [],
   "source": [
    "chart.mark_point()"
   ]
  },
  {
   "cell_type": "markdown",
   "id": "fddf015c",
   "metadata": {},
   "source": [
    "ここでは、データセット1行につき1つの点が描かれているはずですが、点の位置（視覚変数）がどのデータ変数に対応するかをまだ指定していないため、全ての点が重なっています。\n",
    "\n",
    "点を分離するために、データ変数を視覚変数にマッピングしましょう。\n",
    "\n",
    "例えば、データ変数`city`をY軸を表す視覚変数`y`にマッピングすることができます。これには`encode`メソッドを使います。"
   ]
  },
  {
   "cell_type": "code",
   "execution_count": null,
   "id": "72dad4d3",
   "metadata": {},
   "outputs": [],
   "source": [
    "chart.mark_point().encode(\n",
    "    y='city'\n",
    ")"
   ]
  },
  {
   "cell_type": "markdown",
   "id": "43a029db",
   "metadata": {},
   "source": [
    "`encode()`メソッドは、視覚変数（`x, y, color, shape, size`など）とデータ変数との間にマッピングを構築します。Pandasデータフレームに対して、Altairは自動的に適切なデータタイプを割り当てることができます。上の例では自動的に名義尺度が使われています。\n",
    "\n",
    "上図では、各カテゴリ内ではまだ複数の点が重なっているため、データ変数`precip`を視覚変数`x`にマッピングすることでこれらを分離します。"
   ]
  },
  {
   "cell_type": "code",
   "execution_count": null,
   "id": "2dd722b7",
   "metadata": {},
   "outputs": [],
   "source": [
    "chart.mark_point().encode(\n",
    "    x='precip',\n",
    "    y='city'\n",
    ")"
   ]
  },
  {
   "cell_type": "markdown",
   "id": "421b663e",
   "metadata": {},
   "source": [
    "上図から、降雨量が最も少ない月と最も多い月の両方がシアトルに現れていることが分かります。\n",
    "\n",
    "今回も、`precip`のデータタイプはAltairによって自動的に推論され、量的尺度が使われています。そのため、グリッド線とX軸の数値が自動的に追加されました。\n",
    "\n",
    "以上ではキーワード引数でマッピングを行ったが、Altairでは`alt.X('precip')`という構文を用いることもできます。この方法は、マッピングの際に更にパラメータを追加することができるため、便利です。"
   ]
  },
  {
   "cell_type": "code",
   "execution_count": null,
   "id": "6481e3d3",
   "metadata": {},
   "outputs": [],
   "source": [
    "chart.mark_point().encode(\n",
    "    alt.X('precip'),\n",
    "    alt.Y('city')\n",
    ")"
   ]
  },
  {
   "cell_type": "markdown",
   "id": "0fdeac2f",
   "metadata": {},
   "source": [
    "これまではデータ変数の性質をPandasデータフレームの型に基づいて自動的に推論してきました。これを明示的に指定することもできます。この方が安全なので、データ変数の性質は明示することを心がけましょう。\n",
    "\n",
    "- 'b:N': 名義尺度：順序付けされていないカテゴリデータ\n",
    "- 'b:O': 順序尺度：順序付けされているデータ\n",
    "- 'b:Q': 量的尺度：数値データ\n",
    "\n",
    "例えば、`alt.X('precip:N')`のように指定します。"
   ]
  },
  {
   "cell_type": "code",
   "execution_count": null,
   "id": "aef9dc7c",
   "metadata": {},
   "outputs": [],
   "source": [
    "chart.mark_point().encode(\n",
    "    alt.X('precip:Q'),\n",
    "    alt.Y('city:N')\n",
    ")"
   ]
  },
  {
   "cell_type": "markdown",
   "id": "fb215c2d",
   "metadata": {},
   "source": [
    "【演習】 precipを量的尺度ではなく、名義尺度や順序尺度として扱うと上図はどのようになるでしょうか？試してみましょう。"
   ]
  },
  {
   "cell_type": "code",
   "execution_count": null,
   "id": "f300be9e",
   "metadata": {},
   "outputs": [],
   "source": [
    "# your code goes here\n"
   ]
  },
  {
   "cell_type": "code",
   "execution_count": null,
   "id": "c5819bae-99cd-441d-8b08-374ef2ac4887",
   "metadata": {},
   "outputs": [],
   "source": [
    "# answer\n",
    "\n",
    "chart.mark_point().encode(\n",
    "    alt.X('precip:N'),\n",
    "    alt.Y('city:N')\n",
    ")"
   ]
  },
  {
   "cell_type": "markdown",
   "id": "d6803edd",
   "metadata": {},
   "source": [
    "### データ変換：集約\n",
    "\n",
    "データ探索のためのより柔軟な可視化のために、Altairにはデータを集約するための構文があります。\n",
    "\n",
    "例えば、データ名と一緒に集約関数`average`を指定すると全ての値の平均を算出することができます。"
   ]
  },
  {
   "cell_type": "code",
   "execution_count": null,
   "id": "5a62be36",
   "metadata": {},
   "outputs": [],
   "source": [
    "chart.mark_point().encode(\n",
    "    x='average(precip)',\n",
    "    y='city'\n",
    ")"
   ]
  },
  {
   "cell_type": "markdown",
   "id": "9c4e278f",
   "metadata": {},
   "source": [
    "X軸の各カテゴリには、そのカテゴリ内の値の平均を示す1つのポイントが表示されています。"
   ]
  },
  {
   "cell_type": "markdown",
   "id": "9c7a9717",
   "metadata": {},
   "source": [
    "Altairでは、`count, min, max, average, median, stdev`などの集約関数を使うことができます。また、自分で関数を新たに書くこともできます。"
   ]
  },
  {
   "cell_type": "markdown",
   "id": "94500a5d",
   "metadata": {},
   "source": [
    "### 視覚記号の変更\n",
    "\n",
    "集約された値を点ではなく棒で表現したい場合は、`mark_bar()`を使います。"
   ]
  },
  {
   "cell_type": "code",
   "execution_count": null,
   "id": "6a55201a",
   "metadata": {},
   "outputs": [],
   "source": [
    "chart.mark_bar().encode(\n",
    "    x='average(precip)',\n",
    "    y='city'\n",
    ")"
   ]
  },
  {
   "cell_type": "markdown",
   "id": "b0f83bae",
   "metadata": {},
   "source": [
    "縦の棒グラフにするには、`x`と`y`のキーワードを入れ替えるだけです。"
   ]
  },
  {
   "cell_type": "code",
   "execution_count": null,
   "id": "d2ad8e44",
   "metadata": {},
   "outputs": [],
   "source": [
    "chart.mark_bar().encode(\n",
    "    x='city',\n",
    "    y='average(precip)'\n",
    ")"
   ]
  },
  {
   "cell_type": "markdown",
   "id": "e1e334fb",
   "metadata": {},
   "source": [
    "### 可視化のカスタマイズ"
   ]
  },
  {
   "cell_type": "markdown",
   "id": "14c28132",
   "metadata": {},
   "source": [
    "`Chart.mark_*`メソッドのプロパティを使って軸のタイトルを変更したり、スケールを変更したり、色を変更したりすることができます。"
   ]
  },
  {
   "cell_type": "code",
   "execution_count": null,
   "id": "be1d56f3",
   "metadata": {},
   "outputs": [],
   "source": [
    "chart.mark_point(color='firebrick').encode(\n",
    "  alt.X('precip',\n",
    "        scale=alt.Scale(type='log'),\n",
    "        axis=alt.Axis(title='Log-Scaled Values')),\n",
    "  alt.Y('city',\n",
    "        axis=alt.Axis(title='Category')),\n",
    ")"
   ]
  },
  {
   "cell_type": "markdown",
   "id": "709702fa",
   "metadata": {},
   "source": [
    "### 複数のビュー\n",
    "\n",
    "ビュー合成演算子（view composition operators）を使うことで、複数のチャートを組み合わせてより複雑な図を作成することができます。\n",
    "\n",
    "例として、上で読み込んだ自動車のデータセットを使います。\n",
    "\n"
   ]
  },
  {
   "cell_type": "code",
   "execution_count": null,
   "id": "e34b81d1",
   "metadata": {},
   "outputs": [],
   "source": [
    "cars.shape"
   ]
  },
  {
   "cell_type": "code",
   "execution_count": null,
   "id": "f8ad6409",
   "metadata": {},
   "outputs": [],
   "source": [
    "cars.head()"
   ]
  },
  {
   "cell_type": "code",
   "execution_count": null,
   "id": "f72320e9",
   "metadata": {},
   "outputs": [],
   "source": [
    "cars.info()"
   ]
  },
  {
   "cell_type": "markdown",
   "id": "142891b2",
   "metadata": {},
   "source": [
    "まずは自動車データセットを製造年ごとの平均燃費を示す折線グラフを表示します。"
   ]
  },
  {
   "cell_type": "code",
   "execution_count": null,
   "id": "7dcffab1",
   "metadata": {},
   "outputs": [],
   "source": [
    "alt.Chart(cars).mark_line().encode(\n",
    "    alt.X('Year'),\n",
    "    alt.Y('average(Miles_per_Gallon)')\n",
    ")"
   ]
  },
  {
   "cell_type": "markdown",
   "id": "d52625e0",
   "metadata": {},
   "source": [
    "このプロットの平均化されたデータポイントに丸を表示することができます。\n",
    "\n",
    "折線グラフと散布図の2つのグラフを別々に定義し、`layer`演算子を使って組み合わせます。ここでは`+`演算子を使いましょう。"
   ]
  },
  {
   "cell_type": "code",
   "execution_count": null,
   "id": "d1f4e350",
   "metadata": {},
   "outputs": [],
   "source": [
    "line = alt.Chart(cars).mark_line().encode(\n",
    "    alt.X('Year'),\n",
    "    alt.Y('average(Miles_per_Gallon)')\n",
    ")\n",
    "\n",
    "point = alt.Chart(cars).mark_circle().encode(\n",
    "    alt.X('Year'),\n",
    "    alt.Y('average(Miles_per_Gallon)')\n",
    ")\n",
    "\n",
    "line + point"
   ]
  },
  {
   "cell_type": "markdown",
   "id": "ace528de",
   "metadata": {},
   "source": [
    "チャートの定義を再利用することもできます。ここでは折れ線グラフを定義した上で、`mark_circle`メソッドを呼び出しています。"
   ]
  },
  {
   "cell_type": "code",
   "execution_count": null,
   "id": "77f3ee9c",
   "metadata": {},
   "outputs": [],
   "source": [
    "mpg = alt.Chart(cars).mark_line().encode(\n",
    "    alt.X('Year'),\n",
    "    alt.Y('average(Miles_per_Gallon)')\n",
    ")\n",
    "\n",
    "mpg + mpg.mark_circle()"
   ]
  },
  {
   "cell_type": "markdown",
   "id": "066b09d9",
   "metadata": {},
   "source": [
    "このグラフを他のグラフと並べたい場合は、別の演算子を使うことで実現することができます。\n",
    "\n",
    "例えば、時間経過に伴う平均馬力の変化のグラフと並べたいとすると、`|`演算子を使うことで横に並べることができますし、`&`演算子を使うことで縦に並べることができます。"
   ]
  },
  {
   "cell_type": "code",
   "execution_count": null,
   "id": "92a6af67",
   "metadata": {},
   "outputs": [],
   "source": [
    "hp = alt.Chart(cars).mark_line().encode(\n",
    "    alt.X('Year'),\n",
    "    alt.Y('average(Horsepower)')\n",
    ")\n",
    "\n",
    "(mpg + mpg.mark_circle()) | (hp + hp.mark_circle())"
   ]
  },
  {
   "cell_type": "code",
   "execution_count": null,
   "id": "e1a0fcfb",
   "metadata": {},
   "outputs": [],
   "source": [
    "(mpg + mpg.mark_circle()) & (hp + hp.mark_circle())"
   ]
  },
  {
   "cell_type": "markdown",
   "id": "26d40bdd",
   "metadata": {},
   "source": [
    "このデータセットでは、1970年代から80年代前半にかけて、車の平均燃費が向上する一方で、平均馬力が低下していることが分かります。"
   ]
  },
  {
   "cell_type": "markdown",
   "id": "6469690f",
   "metadata": {},
   "source": [
    "### インタラクション\n",
    "\n",
    "基本的な可視化に加えて、Altairではインタラクティブな図を作ることができます。\n",
    "\n",
    "`interactive`メソッドを呼び出すことで、パン、ズーム、スクロールに対応した図を簡単に作成できます。"
   ]
  },
  {
   "cell_type": "code",
   "execution_count": null,
   "id": "c76766a8",
   "metadata": {},
   "outputs": [],
   "source": [
    "alt.Chart(cars).mark_point().encode(\n",
    "    x='Horsepower',\n",
    "    y='Miles_per_Gallon',\n",
    "    color='Origin'\n",
    ").interactive()"
   ]
  },
  {
   "cell_type": "markdown",
   "id": "76a0057f",
   "metadata": {},
   "source": [
    "`tooltip`という視覚変数を使用することでマウスカーソルがあたった時の情報を指定することができます。"
   ]
  },
  {
   "cell_type": "code",
   "execution_count": null,
   "id": "d9173250",
   "metadata": {},
   "outputs": [],
   "source": [
    "alt.Chart(cars).mark_point().encode(\n",
    "    x='Horsepower',\n",
    "    y='Miles_per_Gallon',\n",
    "    color='Origin',\n",
    "    tooltip=['Name', 'Origin']\n",
    ").interactive()"
   ]
  },
  {
   "cell_type": "markdown",
   "id": "cc2115cc",
   "metadata": {},
   "source": [
    "【演習】 Toolchipに馬力が表示されるように指定してみましょう。"
   ]
  },
  {
   "cell_type": "code",
   "execution_count": null,
   "id": "c3a2399b",
   "metadata": {},
   "outputs": [],
   "source": [
    "# your code goes here\n"
   ]
  },
  {
   "cell_type": "code",
   "execution_count": null,
   "id": "1f8862a1-66ab-4d15-b821-0da411424e72",
   "metadata": {},
   "outputs": [],
   "source": [
    "# answer\n",
    "\n",
    "alt.Chart(cars).mark_point().encode(\n",
    "    x='Horsepower',\n",
    "    y='Miles_per_Gallon',\n",
    "    color='Origin',\n",
    "    tooltip=['Name', 'Origin', 'Horsepower']\n",
    ").interactive()"
   ]
  },
  {
   "cell_type": "markdown",
   "id": "5aac6471",
   "metadata": {},
   "source": [
    "より高度な機能として、リンクされた図やクロスフィルタリングなどの複雑なインタラクションが用意されています。\n",
    "\n",
    "少し複雑ですが、以下の例では、上段のヒストグラムは年間の自動車台数を示しており、年数を選択することで、馬力と走行距離の関係を示す下段の散布図の点の不透明度が変わり、各年の傾向を全体の中に位置づけて確認することができます。"
   ]
  },
  {
   "cell_type": "code",
   "execution_count": null,
   "id": "e4a5b487",
   "metadata": {},
   "outputs": [],
   "source": [
    "# create an interval selection over an x-axis encoding\n",
    "brush = alt.selection_interval(encodings=['x'])\n",
    "\n",
    "# determine opacity based on brush\n",
    "opacity = alt.condition(brush, alt.value(0.9), alt.value(0.1))\n",
    "\n",
    "# an overview histogram of cars per year\n",
    "# add the interval brush to select cars over time\n",
    "overview = alt.Chart(cars).mark_bar().encode(\n",
    "    alt.X('Year:O', timeUnit='year', # extract year unit, treat as ordinal\n",
    "      axis=alt.Axis(title=None, labelAngle=0) # no title, no label angle\n",
    "    ),\n",
    "    alt.Y('count()', title=None), # counts, no axis title\n",
    "    opacity=opacity\n",
    ").add_selection(\n",
    "    brush      # add interval brush selection to the chart\n",
    ").properties(\n",
    "    width=400, # set the chart width to 400 pixels\n",
    "    height=50  # set the chart height to 50 pixels\n",
    ").interactive()\n",
    "\n",
    "# a detail scatterplot of horsepower vs. mileage\n",
    "# modulate point opacity based on the brush selection\n",
    "detail = alt.Chart(cars).mark_point().encode(\n",
    "    alt.X('Horsepower'),\n",
    "    alt.Y('Miles_per_Gallon'),\n",
    "    # set opacity based on brush selection\n",
    "    opacity=opacity\n",
    ").properties(width=400).interactive() # set chart width to match the first chart\n",
    "\n",
    "# vertically concatenate (vconcat) charts using the '&' operator\n",
    "overview & detail"
   ]
  },
  {
   "cell_type": "markdown",
   "id": "4bf489e7",
   "metadata": {},
   "source": [
    "---"
   ]
  },
  {
   "cell_type": "markdown",
   "id": "0ebb47a7",
   "metadata": {},
   "source": [
    "これでAltair入門は完了です。\n",
    "\n",
    "次の演習で、Altairを使ったエンコーディングをより詳しく見ていきましょう。"
   ]
  }
 ],
 "metadata": {
  "kernelspec": {
   "display_name": "Python 3 (ipykernel)",
   "language": "python",
   "name": "python3"
  },
  "language_info": {
   "codemirror_mode": {
    "name": "ipython",
    "version": 3
   },
   "file_extension": ".py",
   "mimetype": "text/x-python",
   "name": "python",
   "nbconvert_exporter": "python",
   "pygments_lexer": "ipython3",
   "version": "3.10.0"
  }
 },
 "nbformat": 4,
 "nbformat_minor": 5
}
