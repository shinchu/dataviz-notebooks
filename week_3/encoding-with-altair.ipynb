{
 "cells": [
  {
   "cell_type": "markdown",
   "id": "21307844",
   "metadata": {},
   "source": [
    "# Encoding with Altair\n",
    "\n",
    "[![Open In Colab](https://colab.research.google.com/assets/colab-badge.svg)](https://colab.research.google.com/github/shinchu/dataviz-notebooks/blob/main/week_3/encoding-with-altair.ipynb)"
   ]
  },
  {
   "cell_type": "markdown",
   "id": "7f75a026",
   "metadata": {},
   "source": [
    "Altairを使って、データから可視化への変換をもう少し練習してみましょう。"
   ]
  },
  {
   "cell_type": "code",
   "execution_count": null,
   "id": "0665280c",
   "metadata": {},
   "outputs": [],
   "source": [
    "# ライブラリのインストール（最初に実行する時のみ）\n",
    "\n",
    "!pip install altair\n",
    "!pip install vega_datasets"
   ]
  },
  {
   "cell_type": "code",
   "execution_count": null,
   "id": "e2a4ecfd",
   "metadata": {},
   "outputs": [],
   "source": [
    "import pandas as pd\n",
    "import altair as alt\n",
    "from vega_datasets import data as vega_data"
   ]
  },
  {
   "cell_type": "markdown",
   "id": "53762155",
   "metadata": {},
   "source": [
    "## Gapminderのデータの読み込み"
   ]
  },
  {
   "cell_type": "markdown",
   "id": "806cc431",
   "metadata": {},
   "source": [
    "1955年から2005年までの期間における、いくつかの国の健康と人口データを可視化してみましょう。このデータはGapminder Foundationによって収集され、ハンス・ロスリングのTEDトークで共有されたものです。\n",
    "\n",
    "まず、vega-datasetsコレクションからデータセットをPandasのデータフレームにロードします。"
   ]
  },
  {
   "cell_type": "code",
   "execution_count": null,
   "id": "b039986d",
   "metadata": {},
   "outputs": [],
   "source": [
    "data = vega_data.gapminder()"
   ]
  },
  {
   "cell_type": "markdown",
   "id": "3ddbf228",
   "metadata": {},
   "source": [
    "データを確認します。"
   ]
  },
  {
   "cell_type": "code",
   "execution_count": null,
   "id": "6545ed0a",
   "metadata": {},
   "outputs": [],
   "source": [
    "data.shape"
   ]
  },
  {
   "cell_type": "code",
   "execution_count": null,
   "id": "e5acf1bb",
   "metadata": {},
   "outputs": [],
   "source": [
    "data.info()"
   ]
  },
  {
   "cell_type": "code",
   "execution_count": null,
   "id": "7c7eae6e",
   "metadata": {},
   "outputs": [],
   "source": [
    "data.head()"
   ]
  },
  {
   "cell_type": "markdown",
   "id": "52928687",
   "metadata": {},
   "source": [
    "各国（`country`）・各年（`year`, 5年間隔）ごとに、女性一人当たりの子供の数（`fertility`）、平均寿命（`life_expect`）、総人口（`pop`）を測定しています。これがデータ変数です。\n",
    "\n",
    "また、クラスタのフィールドには、整数が表示されています。これは何を表しているのでしょうか？データを可視化しながら、これを明らかにしていきましょう。"
   ]
  },
  {
   "cell_type": "markdown",
   "id": "58392aa3",
   "metadata": {},
   "source": [
    "さらに、2000年の値だけに絞り込んで、より小さなデータフレームを作成します。"
   ]
  },
  {
   "cell_type": "code",
   "execution_count": null,
   "id": "b55593a6",
   "metadata": {},
   "outputs": [],
   "source": [
    "data2000 = data[data[\"year\"] == 2000]"
   ]
  },
  {
   "cell_type": "code",
   "execution_count": null,
   "id": "53151a8b",
   "metadata": {},
   "outputs": [],
   "source": [
    "data2000.head()"
   ]
  },
  {
   "cell_type": "markdown",
   "id": "ba71ee6c",
   "metadata": {},
   "source": [
    "## データ変数の性質"
   ]
  },
  {
   "cell_type": "markdown",
   "id": "281be6d1",
   "metadata": {},
   "source": [
    "Altairではテキストを直接扱うことはできません。また、間隔尺度と比例尺度を量的尺度としてまとめて扱っています。\n",
    "\n",
    "そのため、ここではデータ変数の性質のうち、名義尺度、順序尺度、量的尺度（間隔尺度、比例尺度）について見ていきます。"
   ]
  },
  {
   "cell_type": "markdown",
   "id": "a9a41f7a",
   "metadata": {},
   "source": [
    "### 名義尺度（Nominal, N）\n",
    "\n",
    "名義尺度のデータ変数は、はカテゴリー名で構成されます。\n",
    "\n",
    "値Aと値Bは同じか違うか（A = B）というような、値の等質性を比較することができます。上のデータセットでは、`country`は名義尺度です。\n",
    "\n",
    "位置、色相（青、赤、緑など）、形状を見れば、値が同じか異なるかがすぐに分かります。しかし、大きさを使用して名義尺度を変換すると、存在しない値間の順位や大きさの違いを示唆し、誤解を招く恐れがあります。"
   ]
  },
  {
   "cell_type": "markdown",
   "id": "b82152b0",
   "metadata": {},
   "source": [
    "### 順位尺度（Ordinal, O）\n",
    "\n",
    "順序データは、特定の順序を持つ値で構成されます。\n",
    "\n",
    "値Aは値Bの前か後か?（A < B）というような比較をすることができます。上のデータセットでは、5年間隔の`year`を順序尺度として扱うことができます。\n",
    "\n",
    "順序尺度のデータ変数を可視化する場合は、順序の感覚に合わせる必要があります。位置、大きさ、明るさなどが適切で、色相（知覚的に順序がないか直感的には分からない）はあまり適切ではありません。"
   ]
  },
  {
   "cell_type": "markdown",
   "id": "c5d7e4da",
   "metadata": {},
   "source": [
    "### 量的尺度（Quantitative, Q）\n",
    "\n",
    "量的尺度では、数値の違いを測定することができます。量的尺度には、2種類あります。\n",
    "\n",
    "間隔尺度では、点間の距離（区間）を測定することができます。値Bから値Aまでの距離は何メートルk？（A - B）のような計算をすることができます。\n",
    "\n",
    "比例尺度では、ゼロに意味があるので、比率を計算することができます。値Aは値Bの何％か？（A / B）のような計算が可能です。\n",
    "\n",
    "上のデータセットでは、`year`は間隔尺度（yearの値「0」は一つの目安であり、量が存在しないことを意味しない）、`fertility`と`life_expect`は比例尺度です。\n",
    "\n",
    "量的尺度は、位置、サイズ、明るさなどを使用して可視化することができます。ベースラインがゼロの軸は、比例尺度の比較には必須ですが、間隔尺度の比較では省略することが可能です。"
   ]
  },
  {
   "cell_type": "markdown",
   "id": "6402cb22",
   "metadata": {},
   "source": [
    "### 補足"
   ]
  },
  {
   "cell_type": "markdown",
   "id": "aed3b246",
   "metadata": {},
   "source": [
    "これらのデータ型は相互に排他的ではなく、階層を形成しています。量的尺度は順序尺度を含み、順序尺度は名義尺度を含みます。\n",
    "\n",
    "そのため、変数は1つの性質のみを持っているわけではありません。変数が数値で表現されていても、名義尺度や順序尺度として扱うことができます。例えば、年齢（10歳、20歳など）は、名義尺度（未成年、成人）、順序尺度（年ごとにグループ化）、定量尺度として扱うことができます。\n",
    "\n",
    "次に、これらのデータ変数をどのように可視化するかを見てみましょう。"
   ]
  },
  {
   "cell_type": "code",
   "execution_count": null,
   "id": "05d99282-8b9e-45a4-82d7-573bbfe004e4",
   "metadata": {},
   "outputs": [],
   "source": [
    "# 授業用：PythonのWarning（警告）を非表示にする設定\n",
    "import warnings\n",
    "warnings.filterwarnings(\"ignore\")"
   ]
  },
  {
   "cell_type": "markdown",
   "id": "ed5a476a",
   "metadata": {},
   "source": [
    "## 視覚変数"
   ]
  },
  {
   "cell_type": "markdown",
   "id": "3afed51e",
   "metadata": {},
   "source": [
    "Altairでは、視覚記号をmarkといいます。また、視覚変数はencoding channelに含まれます。\n",
    "\n",
    "主な視覚変数は次の通りです。\n",
    "\n",
    "* `x`: x軸の位置\n",
    "* `y`: y軸の位置\n",
    "* `size`: 視覚記号（mark）の大きさ。視覚記号によって、面積または長さに対応する\n",
    "* `color`: 色\n",
    "* `opacity`: 不透明度。0（透明）–1（不透明）の値をとる\n",
    "* `shape`: 視覚記号の形\n",
    "\n",
    "その他、視覚変数ではなく、（次回勉強する）デザイン原則もencoding channelに含まれます。\n",
    "\n",
    "* `tooltip`: 視覚記号の上にマウスを置いたときに表示される内容\n",
    "* `order`: 視覚記号の描画順序\n",
    "* `column`: 複数の可視化を左右に描画\n",
    "* `row`: 複数の可視化を上下に描画"
   ]
  },
  {
   "cell_type": "markdown",
   "id": "15a7c8c7",
   "metadata": {},
   "source": [
    "### X"
   ]
  },
  {
   "cell_type": "markdown",
   "id": "7bf70340",
   "metadata": {},
   "source": [
    "`x`は、視覚記号のx座標を設定します。軸とタイトルはデフォルトで表示されます。量的尺度を選択すると、軸のスケールが連続した直線になります。"
   ]
  },
  {
   "cell_type": "code",
   "execution_count": null,
   "id": "6524464e",
   "metadata": {},
   "outputs": [],
   "source": [
    "alt.Chart(data2000).mark_point().encode(\n",
    "    alt.X('fertility:Q')\n",
    ")"
   ]
  },
  {
   "cell_type": "markdown",
   "id": "31aad9b5",
   "metadata": {},
   "source": [
    "### Y\n",
    "\n",
    "`y`は、視覚記号のy座標を設定します。ここでは、順序尺度のデータ（O）を使用しています。その結果、値ごとの離散軸が得られました。"
   ]
  },
  {
   "cell_type": "code",
   "execution_count": null,
   "id": "3456e53d",
   "metadata": {},
   "outputs": [],
   "source": [
    "alt.Chart(data2000).mark_point().encode(\n",
    "    alt.X('fertility:Q'),\n",
    "    alt.Y('cluster:O')\n",
    ")"
   ]
  },
  {
   "cell_type": "markdown",
   "id": "3ac4eb24",
   "metadata": {},
   "source": [
    "【演習】 OをQにしたらどうなるでしょうか？確認してみましょう。"
   ]
  },
  {
   "cell_type": "code",
   "execution_count": null,
   "id": "caa6225a",
   "metadata": {},
   "outputs": [],
   "source": [
    "# your code goes here\n"
   ]
  },
  {
   "cell_type": "code",
   "execution_count": null,
   "id": "3133dcca-074f-47cd-80c5-48a123fcb660",
   "metadata": {},
   "outputs": [],
   "source": [
    "# answer\n",
    "\n",
    "alt.Chart(data2000).mark_point().encode(\n",
    "    alt.X('fertility:O'),\n",
    "    alt.Y('cluster:O')\n",
    ")"
   ]
  },
  {
   "cell_type": "markdown",
   "id": "2da1d7f1",
   "metadata": {},
   "source": [
    "`cluster`のかわりに`life_expect`を量的尺度として追加すると、両軸が線形スケールの散布図になります。"
   ]
  },
  {
   "cell_type": "code",
   "execution_count": null,
   "id": "be3cc3ca",
   "metadata": {},
   "outputs": [],
   "source": [
    "alt.Chart(data2000).mark_point().encode(\n",
    "    alt.X('fertility:Q'),\n",
    "    alt.Y('life_expect:Q')\n",
    ")"
   ]
  },
  {
   "cell_type": "markdown",
   "id": "afceb39d",
   "metadata": {},
   "source": [
    "デフォルトでは、線形定量尺度の軸は、比例尺度のデータを比較するための適切なベースラインを確保するためにゼロを含んでいます。\n",
    "\n",
    "しかし、場合によっては、ゼロの基準線は無意味であったり、区間比較に焦点を当てたいことがあります。ゼロを自動的に含まないようにするには、`scale`を指定します。"
   ]
  },
  {
   "cell_type": "code",
   "execution_count": null,
   "id": "d011c2bb",
   "metadata": {},
   "outputs": [],
   "source": [
    "alt.Chart(data2000).mark_point().encode(\n",
    "    alt.X('fertility:Q', scale=alt.Scale(zero=False)),\n",
    "    alt.Y('life_expect:Q', scale=alt.Scale(zero=False))\n",
    ")"
   ]
  },
  {
   "cell_type": "markdown",
   "id": "42ebf667",
   "metadata": {},
   "source": [
    "これで、軸にゼロが含まれなくなりました。軸の端は5や10の倍数のようなniceな数字に自動的に調整されるため、いくらかの余白が残っています\n",
    "\n",
    "【演習】 上記のscale属性に`nice=False`を追加するとどうなるでしょうか？試してみましょう。"
   ]
  },
  {
   "cell_type": "code",
   "execution_count": null,
   "id": "0d50e15f",
   "metadata": {},
   "outputs": [],
   "source": [
    "# your code goes here\n"
   ]
  },
  {
   "cell_type": "code",
   "execution_count": null,
   "id": "41eb73d1-87d4-477d-8034-6850a35620d4",
   "metadata": {},
   "outputs": [],
   "source": [
    "# answer\n",
    "\n",
    "alt.Chart(data2000).mark_point().encode(\n",
    "    alt.X('fertility:Q', scale=alt.Scale(zero=False, nice=False)),\n",
    "    alt.Y('life_expect:Q', scale=alt.Scale(zero=False, nice=False))\n",
    ")"
   ]
  },
  {
   "cell_type": "markdown",
   "id": "c779f784",
   "metadata": {},
   "source": [
    "### Size"
   ]
  },
  {
   "cell_type": "markdown",
   "id": "b5615709",
   "metadata": {},
   "source": [
    "`size`は、視覚記号の大きさを設定します。この変数の意味は、視覚記号の種類によって異なります。点（`point`）の場合は、点の面積に対応します。\n",
    "\n",
    "`size`に人口（`pop`）を指定することによって、散布図を拡張してみましょう。その結果、このグラフには点の大きさを解釈するための凡例（legend）も含まれるようになりました。"
   ]
  },
  {
   "cell_type": "code",
   "execution_count": null,
   "id": "e4efc127",
   "metadata": {},
   "outputs": [],
   "source": [
    "alt.Chart(data2000).mark_point().encode(\n",
    "    alt.X('fertility:Q'),\n",
    "    alt.Y('life_expect:Q'),\n",
    "    alt.Size('pop:Q')\n",
    ")"
   ]
  },
  {
   "cell_type": "markdown",
   "id": "a693b3f7",
   "metadata": {},
   "source": [
    "場合によっては、デフォルトのサイズ範囲ではうまくいかないことがあります。サイズの範囲を指定するには、scale属性の`range`パラメータに、最小と最大のサイズを示す配列を渡します。"
   ]
  },
  {
   "cell_type": "code",
   "execution_count": null,
   "id": "4b9cacf7",
   "metadata": {},
   "outputs": [],
   "source": [
    "alt.Chart(data2000).mark_point().encode(\n",
    "    alt.X('fertility:Q'),\n",
    "    alt.Y('life_expect:Q'),\n",
    "    alt.Size('pop:Q', scale=alt.Scale(range=[0, 1000]))\n",
    ")"
   ]
  },
  {
   "cell_type": "markdown",
   "id": "c54d0199",
   "metadata": {},
   "source": [
    "### Color and Opacity\n",
    "\n",
    "`color`は、視覚記号の色を設定します。名義尺度はカテゴリカルな配色になりますが、順序尺度と量的尺度は連続的なカラーグラデーションが使われます。\n",
    "\n",
    "ここでは、`cluster`変数を`color`を使って表現してみます。"
   ]
  },
  {
   "cell_type": "code",
   "execution_count": null,
   "id": "c50d0211",
   "metadata": {},
   "outputs": [],
   "source": [
    "alt.Chart(data2000).mark_point().encode(\n",
    "    alt.X('fertility:Q'),\n",
    "    alt.Y('life_expect:Q'),\n",
    "    alt.Size('pop:Q', scale=alt.Scale(range=[0,1000])),\n",
    "    alt.Color('cluster:N')\n",
    ")"
   ]
  },
  {
   "cell_type": "markdown",
   "id": "8076f5fd",
   "metadata": {},
   "source": [
    "【演習】円を塗りつぶしたいときは、`mark_point`に対して`filled=True`と指定すればOKです。試してみましょう。"
   ]
  },
  {
   "cell_type": "code",
   "execution_count": null,
   "id": "4c4f1813",
   "metadata": {},
   "outputs": [],
   "source": [
    "# your code goes here\n"
   ]
  },
  {
   "cell_type": "code",
   "execution_count": null,
   "id": "e68bfec3-18fa-4d7d-8767-050cbebbb595",
   "metadata": {},
   "outputs": [],
   "source": [
    "# answer\n",
    "\n",
    "alt.Chart(data2000).mark_point(filled=True).encode(\n",
    "    alt.X('fertility:Q'),\n",
    "    alt.Y('life_expect:Q'),\n",
    "    alt.Size('pop:Q', scale=alt.Scale(range=[0,1000])),\n",
    "    alt.Color('cluster:N')\n",
    ")"
   ]
  },
  {
   "cell_type": "markdown",
   "id": "c99c5f96",
   "metadata": {},
   "source": [
    "重ねて表示することに対応するために、塗りつぶしはデフォルトでは半透明になっています。`opacity`を指定することで、透明度を調整できます。"
   ]
  },
  {
   "cell_type": "code",
   "execution_count": null,
   "id": "2e296789",
   "metadata": {},
   "outputs": [],
   "source": [
    "alt.Chart(data2000).mark_point(filled=True).encode(\n",
    "    alt.X('fertility:Q'),\n",
    "    alt.Y('life_expect:Q'),\n",
    "    alt.Size('pop:Q', scale=alt.Scale(range=[0,1000])),\n",
    "    alt.Color('cluster:N'),\n",
    "    alt.OpacityValue(0.9)\n",
    ")"
   ]
  },
  {
   "cell_type": "markdown",
   "id": "00189b67",
   "metadata": {},
   "source": [
    "### Shape\n",
    "\n",
    "`shape`は、視覚記号の形を指定します。この視覚変数は、視覚記号pointに対してのみ有効です。また、名義尺度にのみ使うことができます。\n",
    "\n",
    "`cluster`に対して、色だけではなく形も指定してみます。同じデータ変数に対して複数の視覚変数を使用することは、冗長エンコーディングとして知られています。が、色と形やパターンを併用することは、アクセシビリティを確保する上で重要です（色覚障害などに対応）。"
   ]
  },
  {
   "cell_type": "code",
   "execution_count": null,
   "id": "55617381",
   "metadata": {},
   "outputs": [],
   "source": [
    "alt.Chart(data2000).mark_point(filled=True).encode(\n",
    "    alt.X('fertility:Q'),\n",
    "    alt.Y('life_expect:Q'),\n",
    "    alt.Size('pop:Q', scale=alt.Scale(range=[0,1000])),\n",
    "    alt.Color('cluster:N'),\n",
    "    alt.OpacityValue(0.5),\n",
    "    alt.Shape('cluster:N')\n",
    ")"
   ]
  },
  {
   "cell_type": "markdown",
   "id": "7d9ef79b",
   "metadata": {},
   "source": [
    "### Tooltips and Ordering\n",
    "\n",
    "ここまで図を作ってきましたが、どの国がどの点に対応するのかがまだ分かりません。国名を表示し、データ探索ができるようにしましょう。\n",
    "\n"
   ]
  },
  {
   "cell_type": "code",
   "execution_count": null,
   "id": "d1fa5848",
   "metadata": {},
   "outputs": [],
   "source": [
    "alt.Chart(data2000).mark_point(filled=True).encode(\n",
    "    alt.X('fertility:Q'),\n",
    "    alt.Y('life_expect:Q'),\n",
    "    alt.Size('pop:Q', scale=alt.Scale(range=[0,1000])),\n",
    "    alt.Color('cluster:N'),\n",
    "    alt.OpacityValue(0.5),\n",
    "    alt.Tooltip('country')\n",
    ")"
   ]
  },
  {
   "cell_type": "markdown",
   "id": "2178d29d",
   "metadata": {},
   "source": [
    "これで、マウスカーソルをあてると、国名が表示されるようになりました。しかし、重なっている部分に表示できない国名があることが分かります。\n",
    "\n",
    "描画順序を調整してみましょう。`pop`を降順に並べ、小さい円が大きい円より後に描画されるようにします。"
   ]
  },
  {
   "cell_type": "code",
   "execution_count": null,
   "id": "f33070ca",
   "metadata": {},
   "outputs": [],
   "source": [
    "alt.Chart(data2000).mark_point(filled=True).encode(\n",
    "    alt.X('fertility:Q'),\n",
    "    alt.Y('life_expect:Q'),\n",
    "    alt.Size('pop:Q', scale=alt.Scale(range=[0,1000])),\n",
    "    alt.Color('cluster:N'),\n",
    "    alt.OpacityValue(0.5),\n",
    "    alt.Tooltip('country:N'),\n",
    "    alt.Order('pop:Q', sort='descending')\n",
    ")"
   ]
  },
  {
   "cell_type": "markdown",
   "id": "2cc17dc6",
   "metadata": {},
   "source": [
    "これで、例えばIndiaに隠れていたBangladeshを表示できるようになりました。"
   ]
  },
  {
   "cell_type": "markdown",
   "id": "38a09d61",
   "metadata": {},
   "source": [
    "また、Tooltipには複数の値を表示することもできます。"
   ]
  },
  {
   "cell_type": "code",
   "execution_count": null,
   "id": "3790d73f",
   "metadata": {},
   "outputs": [],
   "source": [
    "alt.Chart(data2000).mark_point(filled=True).encode(\n",
    "    alt.X('fertility:Q'),\n",
    "    alt.Y('life_expect:Q'),\n",
    "    alt.Size('pop:Q', scale=alt.Scale(range=[0,1000])),\n",
    "    alt.Color('cluster:N'),\n",
    "    alt.OpacityValue(0.5),\n",
    "    alt.Order('pop:Q', sort='descending'),\n",
    "    tooltip = [\n",
    "        alt.Tooltip('country:N'),\n",
    "        alt.Tooltip('fertility:Q'),\n",
    "        alt.Tooltip('life_expect:Q')\n",
    "    ]   \n",
    ")"
   ]
  },
  {
   "cell_type": "markdown",
   "id": "10e299f1",
   "metadata": {},
   "source": [
    "### Column and Row Facets\n",
    "\n",
    "複数の可視化を配置する方法として、行や列からなるサブプロットを並べることができます。\n",
    "\n",
    "ここでは、`cluster`ごとに分割して並べてみましょう。"
   ]
  },
  {
   "cell_type": "code",
   "execution_count": null,
   "id": "83b45fef",
   "metadata": {},
   "outputs": [],
   "source": [
    "alt.Chart(data2000).mark_point(filled=True).encode(\n",
    "    alt.X('fertility:Q'),\n",
    "    alt.Y('life_expect:Q'),\n",
    "    alt.Size('pop:Q', scale=alt.Scale(range=[0,1000])),\n",
    "    alt.Color('cluster:N'),\n",
    "    alt.OpacityValue(0.5),\n",
    "    alt.Tooltip('country:N'),\n",
    "    alt.Order('pop:Q', sort='descending'),\n",
    "    alt.Column('cluster:N')\n",
    ")"
   ]
  },
  {
   "cell_type": "markdown",
   "id": "ddb69257",
   "metadata": {},
   "source": [
    "上の可視化は画面に収まらないので、複数の図を一度に比較するのが難しいです。図の大きさを調整してみましょう。\n",
    "\n",
    "また、`cluster`はすでに列ごとに表現されているので、`legend=None`として凡例を削除しましょう。\n",
    "\n",
    "更に、`pop`の凡例を図の下部に持ってきてスペースを節約します。"
   ]
  },
  {
   "cell_type": "code",
   "execution_count": null,
   "id": "c71d9c27",
   "metadata": {},
   "outputs": [],
   "source": [
    "alt.Chart(data2000).mark_point(filled=True).encode(\n",
    "    alt.X('fertility:Q'),\n",
    "    alt.Y('life_expect:Q'),\n",
    "    alt.Size('pop:Q', scale=alt.Scale(range=[0,1000]),\n",
    "             legend=alt.Legend(orient='bottom', titleOrient='left')),\n",
    "    alt.Color('cluster:N', legend=None),\n",
    "    alt.OpacityValue(0.5),\n",
    "    alt.Tooltip('country:N'),\n",
    "    alt.Order('pop:Q', sort='descending'),\n",
    "    alt.Column('cluster:N')\n",
    ").properties(width=135, height=135)"
   ]
  },
  {
   "cell_type": "markdown",
   "id": "8cdaf126",
   "metadata": {},
   "source": [
    "【演習】それでは、上の図を行ごとに表示するよう書き直してみたらどうなるでしょう？試してみましょう。"
   ]
  },
  {
   "cell_type": "code",
   "execution_count": null,
   "id": "319c7707",
   "metadata": {},
   "outputs": [],
   "source": [
    "# your code goes here\n"
   ]
  },
  {
   "cell_type": "code",
   "execution_count": null,
   "id": "9998a3a7-658c-450a-baf4-4fef6cf74451",
   "metadata": {},
   "outputs": [],
   "source": [
    "# answer\n",
    "\n",
    "alt.Chart(data2000).mark_point(filled=True).encode(\n",
    "    alt.X('fertility:Q'),\n",
    "    alt.Y('life_expect:Q'),\n",
    "    alt.Size('pop:Q', scale=alt.Scale(range=[0,1000]),\n",
    "             legend=alt.Legend(orient='bottom', titleOrient='left')),\n",
    "    alt.Color('cluster:N', legend=None),\n",
    "    alt.OpacityValue(0.5),\n",
    "    alt.Tooltip('country:N'),\n",
    "    alt.Order('pop:Q', sort='descending'),\n",
    "    alt.Row('cluster:N')\n",
    ").properties(width=135, height=135)"
   ]
  },
  {
   "cell_type": "markdown",
   "id": "351f4a66",
   "metadata": {},
   "source": [
    "### Interaction"
   ]
  },
  {
   "cell_type": "markdown",
   "id": "20918815",
   "metadata": {},
   "source": [
    "データ探索に便利な機能として、スライダーを追加することができます。\n",
    "\n",
    "全体のデータフレームを使って、`year`をスライダーに割り当ててみましょう。\n",
    "\n",
    "年を経るごとに、`fertility`と`life_expect`はどのように変化しているでしょうか？また、異なる国の相対的な変化はどうでしょうか？"
   ]
  },
  {
   "cell_type": "code",
   "execution_count": null,
   "id": "22c88667",
   "metadata": {},
   "outputs": [],
   "source": [
    "select_year = alt.selection_single(\n",
    "    name='select', fields=['year'], value=[{'year': 1955}],\n",
    "    bind=alt.binding_range(min=1955, max=2005, step=5)\n",
    ")\n",
    "\n",
    "alt.Chart(data).mark_point(filled=True).encode(\n",
    "    alt.X('fertility:Q', scale=alt.Scale(domain=[0,9])),\n",
    "    alt.Y('life_expect:Q', scale=alt.Scale(domain=[0,90])),\n",
    "    alt.Size('pop:Q', scale=alt.Scale(domain=[0, 1200000000], range=[0,1000])),\n",
    "    alt.Color('cluster:N', legend=None),\n",
    "    alt.OpacityValue(0.5),\n",
    "    alt.Tooltip('country:N'),\n",
    "    alt.Order('pop:Q', sort='descending')\n",
    ").add_selection(select_year).transform_filter(select_year)"
   ]
  },
  {
   "cell_type": "markdown",
   "id": "b2a36c0c-cb30-400b-8d33-406b10b7d2cb",
   "metadata": {},
   "source": [
    "**エラーが出たら、下のコードを使ってください。**"
   ]
  },
  {
   "cell_type": "code",
   "execution_count": null,
   "id": "4cf5cb6e-14d0-40b8-9e9e-bd0809284e3e",
   "metadata": {},
   "outputs": [],
   "source": [
    "select_year = alt.selection_single(\n",
    "    name='select', fields=['year'], init={'year': 1955},\n",
    "    bind=alt.binding_range(min=1955, max=2005, step=5)\n",
    ")\n",
    "\n",
    "alt.Chart(data).mark_point(filled=True).encode(\n",
    "    alt.X('fertility:Q', scale=alt.Scale(domain=[0,9])),\n",
    "    alt.Y('life_expect:Q', scale=alt.Scale(domain=[0,90])),\n",
    "    alt.Size('pop:Q', scale=alt.Scale(domain=[0, 1200000000], range=[0,1000])),\n",
    "    alt.Color('cluster:N', legend=None),\n",
    "    alt.OpacityValue(0.5),\n",
    "    alt.Tooltip('country:N'),\n",
    "    alt.Order('pop:Q', sort='descending')\n",
    ").add_selection(select_year).transform_filter(select_year)"
   ]
  },
  {
   "cell_type": "markdown",
   "id": "42864c12",
   "metadata": {},
   "source": [
    "## 視覚記号"
   ]
  },
  {
   "cell_type": "markdown",
   "id": "fe59dddd",
   "metadata": {},
   "source": [
    "ここまで、視覚変数の勉強のため、視覚記号として`mark_point`のみを使ってきました。\n",
    "\n",
    "他に使用できる視覚記号として、下記があります。\n",
    "\n",
    "* `mark_area()`：トップラインとベースラインで定義された塗りつぶし領域\n",
    "* `mark_bar()`：長方形の棒\n",
    "* `mark_circle()`：塗りつぶされた円\n",
    "* `mark_line()`：線分\n",
    "* `mark_point()`：形状を設定できる点\n",
    "* `mark_rect()`：塗りつぶされた矩形\n",
    "* `mark_rule()`：軸にかかる線分\n",
    "* `mark_square()`：塗りつぶされた四角\n",
    "* `mark_text()`：文字\n",
    "* `mark_tick()`：水平か垂直の刻み目"
   ]
  },
  {
   "cell_type": "markdown",
   "id": "a7694fbf",
   "metadata": {},
   "source": [
    "### Point"
   ]
  },
  {
   "cell_type": "code",
   "execution_count": null,
   "id": "4f3de85c",
   "metadata": {},
   "outputs": [],
   "source": [
    "alt.Chart(data2000).mark_point().encode(\n",
    "    alt.X('fertility:Q'),\n",
    "    alt.Y('cluster:N'),\n",
    "    alt.Shape('cluster:N')\n",
    ")"
   ]
  },
  {
   "cell_type": "markdown",
   "id": "e29d0e02",
   "metadata": {},
   "source": [
    "引数を与えることで、見た目を調整できます。"
   ]
  },
  {
   "cell_type": "code",
   "execution_count": null,
   "id": "ad0b4168",
   "metadata": {},
   "outputs": [],
   "source": [
    "alt.Chart(data2000).mark_point(filled=True, size=100).encode(\n",
    "    alt.X('fertility:Q'),\n",
    "    alt.Y('cluster:N'),\n",
    "    alt.Shape('cluster:N')\n",
    ")"
   ]
  },
  {
   "cell_type": "markdown",
   "id": "47bd880a",
   "metadata": {},
   "source": [
    "### Circle"
   ]
  },
  {
   "cell_type": "markdown",
   "id": "e96673d6",
   "metadata": {},
   "source": [
    "`mark_circle()`は、`mark_point(filled=True)`と等価です。"
   ]
  },
  {
   "cell_type": "code",
   "execution_count": null,
   "id": "ad32bb66",
   "metadata": {},
   "outputs": [],
   "source": [
    "alt.Chart(data2000).mark_circle(size=100).encode(\n",
    "    alt.X('fertility:Q'),\n",
    "    alt.Y('cluster:N'),\n",
    "    alt.Shape('cluster:N')\n",
    ")"
   ]
  },
  {
   "cell_type": "markdown",
   "id": "6b75b118",
   "metadata": {},
   "source": [
    "### Square"
   ]
  },
  {
   "cell_type": "code",
   "execution_count": null,
   "id": "0703d7b6",
   "metadata": {},
   "outputs": [],
   "source": [
    "alt.Chart(data2000).mark_square(size=100).encode(\n",
    "    alt.X('fertility:Q'),\n",
    "    alt.Y('cluster:N'),\n",
    "    alt.Shape('cluster:N')\n",
    ")"
   ]
  },
  {
   "cell_type": "markdown",
   "id": "3d4bcffc",
   "metadata": {},
   "source": [
    "【演習】四角の大きさを200に指定してみましょう"
   ]
  },
  {
   "cell_type": "code",
   "execution_count": null,
   "id": "75a116cc",
   "metadata": {},
   "outputs": [],
   "source": [
    "# your code goes here\n"
   ]
  },
  {
   "cell_type": "code",
   "execution_count": null,
   "id": "6bce6801-6868-4006-9ba0-391897c562e9",
   "metadata": {},
   "outputs": [],
   "source": [
    "# answer\n",
    "\n",
    "alt.Chart(data2000).mark_square(size=200).encode(\n",
    "    alt.X('fertility:Q'),\n",
    "    alt.Y('cluster:N'),\n",
    "    alt.Shape('cluster:N')\n",
    ")"
   ]
  },
  {
   "cell_type": "markdown",
   "id": "a8f601cb",
   "metadata": {},
   "source": [
    "### Tick"
   ]
  },
  {
   "cell_type": "markdown",
   "id": "21df305e",
   "metadata": {},
   "source": [
    "`mark_tick()`は、一次元の分布を比較するのに便利です。"
   ]
  },
  {
   "cell_type": "code",
   "execution_count": null,
   "id": "2fca0fdf",
   "metadata": {},
   "outputs": [],
   "source": [
    "alt.Chart(data2000).mark_tick().encode(\n",
    "    alt.X('fertility:Q'),\n",
    "    alt.Y('cluster:N'),\n",
    "    alt.Shape('cluster:N')\n",
    ")"
   ]
  },
  {
   "cell_type": "markdown",
   "id": "510f4e1a",
   "metadata": {},
   "source": [
    "### Bar"
   ]
  },
  {
   "cell_type": "markdown",
   "id": "d9ae69a2",
   "metadata": {},
   "source": [
    "`mark_bar()`は、位置、幅、高さを持つ矩形を描画します。"
   ]
  },
  {
   "cell_type": "code",
   "execution_count": null,
   "id": "2c9c9954",
   "metadata": {},
   "outputs": [],
   "source": [
    "alt.Chart(data2000).mark_bar().encode(\n",
    "    alt.X('country:N'),\n",
    "    alt.Y('pop:Q')\n",
    ")"
   ]
  },
  {
   "cell_type": "markdown",
   "id": "be6bf8e2",
   "metadata": {},
   "source": [
    "棒を積み重ねることもできます。"
   ]
  },
  {
   "cell_type": "code",
   "execution_count": null,
   "id": "85c3a602",
   "metadata": {},
   "outputs": [],
   "source": [
    "alt.Chart(data2000).mark_bar().encode(\n",
    "    alt.X('cluster:N'),\n",
    "    alt.Y('pop:Q'),\n",
    "    alt.Color('country:N', legend=None),\n",
    "    alt.Tooltip('country:N')\n",
    ")"
   ]
  },
  {
   "cell_type": "markdown",
   "id": "95c7d0da",
   "metadata": {},
   "source": [
    "デフォルトでは0から矩形を描画しますが、次の例のように始点（`X`）と終点（`X2`）を指定することもできます。\n",
    "\n",
    "ここでは、`cluster`ごとに、平均寿命の最小値と最大値を始点と終点に指定して、棒グラフを描画してみます。"
   ]
  },
  {
   "cell_type": "code",
   "execution_count": null,
   "id": "2fe03b49",
   "metadata": {},
   "outputs": [],
   "source": [
    "alt.Chart(data2000).mark_bar().encode(\n",
    "    alt.X('min(life_expect):Q'),\n",
    "    alt.X2('max(life_expect):Q'),\n",
    "    alt.Y('cluster:N')\n",
    ")"
   ]
  },
  {
   "cell_type": "markdown",
   "id": "7b7bb2ab",
   "metadata": {},
   "source": [
    "### Line"
   ]
  },
  {
   "cell_type": "markdown",
   "id": "f7e4a11d",
   "metadata": {},
   "source": [
    "`mark_line()`は、点をつなげる線分を描画します。これによって、例えば変化の度合いがわかります。\n",
    "\n",
    "ここでは、国ごとの`fertility`の経年変化を見てみましょう。"
   ]
  },
  {
   "cell_type": "code",
   "execution_count": null,
   "id": "8d20fe98",
   "metadata": {},
   "outputs": [],
   "source": [
    "alt.Chart(data).mark_line().encode(\n",
    "    alt.X('year:O'),\n",
    "    alt.Y('fertility:Q'),\n",
    "    alt.Color('country:N')\n",
    ").properties(\n",
    "    width=400\n",
    ")"
   ]
  },
  {
   "cell_type": "markdown",
   "id": "9a1842bb",
   "metadata": {},
   "source": [
    "国が多すぎて凡例が途中で途切れていることがわかります。\n",
    "\n",
    "【演習】凡例を消して、かわりにTooltipsに国名を表示してみましょう。"
   ]
  },
  {
   "cell_type": "code",
   "execution_count": null,
   "id": "23f46170",
   "metadata": {},
   "outputs": [],
   "source": [
    "# your code goes here\n"
   ]
  },
  {
   "cell_type": "code",
   "execution_count": null,
   "id": "90bc4d69-736f-4812-afc1-30ac06441993",
   "metadata": {},
   "outputs": [],
   "source": [
    "# answer\n",
    "\n",
    "alt.Chart(data).mark_line().encode(\n",
    "    alt.X('year:O'),\n",
    "    alt.Y('fertility:Q'),\n",
    "    alt.Color('country:N', legend=None),\n",
    "    alt.Tooltip('country:N')\n",
    ").properties(\n",
    "    width=400\n",
    ")"
   ]
  },
  {
   "cell_type": "markdown",
   "id": "030ec716",
   "metadata": {},
   "source": [
    "`strokeWidth`で線分の太さを、`opacity`で透明度を指定することができます。\n",
    "\n",
    "また、`interpolate`で線分をなめらかにするための補間方式を指定することができます。"
   ]
  },
  {
   "cell_type": "code",
   "execution_count": null,
   "id": "1cc2dc7f",
   "metadata": {},
   "outputs": [],
   "source": [
    "alt.Chart(data).mark_line(\n",
    "    strokeWidth=3,\n",
    "    opacity=0.5,\n",
    "    interpolate='monotone'\n",
    ").encode(\n",
    "    alt.X('year:O'),\n",
    "    alt.Y('fertility:Q'),\n",
    "    alt.Color('country:N', legend=None),\n",
    "    alt.Tooltip('country:N')\n",
    ").properties(\n",
    "    width=400\n",
    ")"
   ]
  },
  {
   "cell_type": "markdown",
   "id": "306aed12",
   "metadata": {},
   "source": [
    "`mark_line()`は、2つの状態間の比較に使うこともできます（スロープグラフ）。\n",
    "\n",
    "ここでは、国ごとに1955年と2005年の`fertility`を比較してみましょう。"
   ]
  },
  {
   "cell_type": "code",
   "execution_count": null,
   "id": "b6b1b601",
   "metadata": {},
   "outputs": [],
   "source": [
    "dataTime = data.loc[(data['year'] == 1955) | (data['year'] == 2005)]\n",
    "\n",
    "alt.Chart(dataTime).mark_line(opacity=0.5).encode(\n",
    "    alt.X('year:O'),\n",
    "    alt.Y('pop:Q'),\n",
    "    alt.Color('country:N', legend=None),\n",
    "    alt.Tooltip('country:N')\n",
    ").properties(\n",
    "    width={\"step\": 100} # adjust the step parameter\n",
    ")"
   ]
  },
  {
   "cell_type": "markdown",
   "id": "29d3ba38",
   "metadata": {},
   "source": [
    "【演習】引数`step`を調整して、値の変化が可視化とそれが与える印象にどのような変化をもたらすのかを観察してみましょう。"
   ]
  },
  {
   "cell_type": "code",
   "execution_count": null,
   "id": "b88069a8",
   "metadata": {},
   "outputs": [],
   "source": [
    "# your code goes here\n"
   ]
  },
  {
   "cell_type": "code",
   "execution_count": null,
   "id": "28d5143d-b5a4-42bd-9f86-773db881eb3a",
   "metadata": {},
   "outputs": [],
   "source": [
    "# answer\n",
    "\n",
    "dataTime = data.loc[(data['year'] == 1955) | (data['year'] == 2005)]\n",
    "\n",
    "alt.Chart(dataTime).mark_line(opacity=0.5).encode(\n",
    "    alt.X('year:O'),\n",
    "    alt.Y('pop:Q'),\n",
    "    alt.Color('country:N', legend=None),\n",
    "    alt.Tooltip('country:N')\n",
    ").properties(\n",
    "    width={\"step\": 400} # adjust the step parameter\n",
    ")"
   ]
  },
  {
   "cell_type": "markdown",
   "id": "aef48052",
   "metadata": {},
   "source": [
    "### Area"
   ]
  },
  {
   "cell_type": "markdown",
   "id": "a3e9c421",
   "metadata": {},
   "source": [
    "`mark_area()`は、折れ線と棒を組み合わせたようなもので、変化と大きさを同時に表現します。\n",
    "\n",
    "アメリカの人口の経年変化を見てみましょう。"
   ]
  },
  {
   "cell_type": "code",
   "execution_count": null,
   "id": "43879693",
   "metadata": {},
   "outputs": [],
   "source": [
    "dataUS = data.loc[data['country'] == 'United States']\n",
    "\n",
    "alt.Chart(dataUS).mark_area().encode(\n",
    "    alt.X('year:O'),\n",
    "    alt.Y('pop:Q')\n",
    ")"
   ]
  },
  {
   "cell_type": "markdown",
   "id": "303eb7ca",
   "metadata": {},
   "source": [
    "棒と同様に、積み重ねることができます。"
   ]
  },
  {
   "cell_type": "code",
   "execution_count": null,
   "id": "f84792a3",
   "metadata": {},
   "outputs": [],
   "source": [
    "dataNA = data.loc[\n",
    "    (data['country'] == 'United States') |\n",
    "    (data['country'] == 'Canada') |\n",
    "    (data['country'] == 'Mexico')\n",
    "]\n",
    "\n",
    "alt.Chart(dataNA).mark_area().encode(\n",
    "    alt.X('year:O'),\n",
    "    alt.Y('pop:Q'),\n",
    "    alt.Color('country:N')\n",
    ")"
   ]
  },
  {
   "cell_type": "markdown",
   "id": "abf2faa2",
   "metadata": {},
   "source": [
    "デフォルトでは0から積み重ねますが、軸の中心から積み重ねたり、比率によって積み重ねることができます。"
   ]
  },
  {
   "cell_type": "code",
   "execution_count": null,
   "id": "211b38da",
   "metadata": {},
   "outputs": [],
   "source": [
    "alt.Chart(dataNA).mark_area().encode(\n",
    "    alt.X('year:O'),\n",
    "    alt.Y('pop:Q', stack='center'),\n",
    "    alt.Color('country:N')\n",
    ")"
   ]
  },
  {
   "cell_type": "code",
   "execution_count": null,
   "id": "e576686c",
   "metadata": {},
   "outputs": [],
   "source": [
    "alt.Chart(dataNA).mark_area().encode(\n",
    "    alt.X('year:O'),\n",
    "    alt.Y('pop:Q', stack='normalize'),\n",
    "    alt.Color('country:N')\n",
    ")"
   ]
  },
  {
   "cell_type": "markdown",
   "id": "72a5706d",
   "metadata": {},
   "source": [
    "また、積み重ねるのではなく、重ね合わせることもできます。この時、不透明度を指定することで重なった層を確認できます。"
   ]
  },
  {
   "cell_type": "code",
   "execution_count": null,
   "id": "2c9ac379",
   "metadata": {},
   "outputs": [],
   "source": [
    "alt.Chart(dataNA).mark_area(opacity=0.5).encode(\n",
    "    alt.X('year:O'),\n",
    "    alt.Y('pop:Q', stack=None),\n",
    "    alt.Color('country:N')\n",
    ")"
   ]
  },
  {
   "cell_type": "markdown",
   "id": "c068a145",
   "metadata": {},
   "source": [
    "また、棒と同様に、始点と終点を指定することができます。\n",
    "\n",
    "始点と終点にそれぞれ、北米の国の`fertility`の最小値と最大値を指定してみましょう。"
   ]
  },
  {
   "cell_type": "code",
   "execution_count": null,
   "id": "461428df",
   "metadata": {},
   "outputs": [],
   "source": [
    "alt.Chart(dataNA).mark_area().encode(\n",
    "    alt.X('year:O'),\n",
    "    alt.Y('min(fertility):Q'),\n",
    "    alt.Y2('max(fertility):Q')\n",
    ").properties(\n",
    "    width={\"step\": 40}\n",
    ")"
   ]
  },
  {
   "cell_type": "markdown",
   "id": "60478f5f",
   "metadata": {},
   "source": [
    "差が縮まっていることがわかりますね。\n",
    "\n",
    "【演習】上の図のx軸とy軸を入れ替えることで、図を転置できます。試してみましょう。"
   ]
  },
  {
   "cell_type": "code",
   "execution_count": null,
   "id": "db2b5b5e",
   "metadata": {},
   "outputs": [],
   "source": [
    "# your code goes here\n"
   ]
  },
  {
   "cell_type": "code",
   "execution_count": null,
   "id": "fe5f350c-0a31-4890-8c3e-a22409ddd64c",
   "metadata": {},
   "outputs": [],
   "source": [
    "# answer\n",
    "\n",
    "alt.Chart(dataNA).mark_area().encode(\n",
    "    alt.X('min(fertility):Q'),\n",
    "    alt.X2('max(fertility):Q'),\n",
    "    alt.Y('year:O')\n",
    ").properties(\n",
    "    width={\"step\": 40}\n",
    ")"
   ]
  },
  {
   "cell_type": "markdown",
   "id": "9f52cf05",
   "metadata": {},
   "source": [
    "---"
   ]
  },
  {
   "cell_type": "markdown",
   "id": "a7c68e2a",
   "metadata": {},
   "source": [
    "これで、Altairによるエンコーディングの練習はひととおり終了です。\n",
    "\n",
    "もっと高度な使い方については、いつもの通り、公式ドキュメントを見てみましょう。\n",
    "\n",
    "Altair: https://altair-viz.github.io/"
   ]
  }
 ],
 "metadata": {
  "kernelspec": {
   "display_name": "Python 3 (ipykernel)",
   "language": "python",
   "name": "python3"
  },
  "language_info": {
   "codemirror_mode": {
    "name": "ipython",
    "version": 3
   },
   "file_extension": ".py",
   "mimetype": "text/x-python",
   "name": "python",
   "nbconvert_exporter": "python",
   "pygments_lexer": "ipython3",
   "version": "3.10.0"
  }
 },
 "nbformat": 4,
 "nbformat_minor": 5
}
