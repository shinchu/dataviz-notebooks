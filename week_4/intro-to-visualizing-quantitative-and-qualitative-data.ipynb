{
 "cells": [
  {
   "cell_type": "markdown",
   "id": "a92879f3",
   "metadata": {},
   "source": [
    "# 量的データと質的データの可視化\n",
    "\n",
    "[![Open In Colab](https://colab.research.google.com/assets/colab-badge.svg)](https://colab.research.google.com/github/shinchu/dataviz-notebooks/blob/main/week_4/intro-to-visualizing-quantitative-and-qualitative-data.ipynb)"
   ]
  },
  {
   "cell_type": "markdown",
   "id": "44dc45d7",
   "metadata": {},
   "source": [
    "今回は、文化庁の[メディア芸術データベース・ラボ（MADB Lab）](https://mediag.bunka.go.jp/madb_lab/)で公開されている四大少年誌（週刊少年サンデー、週刊少年ジャンプ、週刊少年チャンピオン、週刊少年マガジン）のデータを使って、量的データと質的データの可視化を練習します。\n",
    "\n",
    "まず、「四大少年誌それぞれの掲載作品のジャンルと著者にはどのような特徴があるのか？」という大きな問いを立て、可視化手法を学びながらデータを見て、具体的な問いを決めていきましょう。\n",
    "\n",
    "[マンガと学ぶデータビジュアライゼーション](https://kakeami.github.io/viz-madb/index.html)の内容を全面的に参考にしています。"
   ]
  },
  {
   "cell_type": "markdown",
   "id": "1a7aa910",
   "metadata": {},
   "source": [
    "ここではPlotlyというライブラリを使います。MatplotlibとAltairの中間のような書き方ができるライブラリですが、Altairほど明示的にデータと視覚記号、データ変数と視覚変数の対応関係をとりません。\n",
    "\n",
    "書き方は難しくないので、以下のコードを読んで把握しておきましょう。\n",
    "\n",
    "今日の演習では、以下の中から好きな図を3つ選んで、Altairで再現してもらいます。"
   ]
  },
  {
   "cell_type": "markdown",
   "id": "2f0144b1",
   "metadata": {},
   "source": [
    "## ライブラリの読み込み"
   ]
  },
  {
   "cell_type": "code",
   "execution_count": null,
   "id": "12faae47",
   "metadata": {},
   "outputs": [],
   "source": [
    "# ライブラリのインストール。初回のみ実行。\n",
    "!pip install plotly"
   ]
  },
  {
   "cell_type": "code",
   "execution_count": null,
   "id": "018f7d95",
   "metadata": {},
   "outputs": [],
   "source": [
    "import pandas as pd\n",
    "import numpy as np\n",
    "\n",
    "import plotly.express as px\n",
    "import plotly.figure_factory as ff"
   ]
  },
  {
   "cell_type": "code",
   "execution_count": null,
   "id": "476bdae1",
   "metadata": {},
   "outputs": [],
   "source": [
    "import itertools\n",
    "import warnings\n",
    "warnings.filterwarnings('ignore')"
   ]
  },
  {
   "cell_type": "markdown",
   "id": "80181144",
   "metadata": {},
   "source": [
    "## 準備関数"
   ]
  },
  {
   "cell_type": "code",
   "execution_count": null,
   "id": "467e2472",
   "metadata": {},
   "outputs": [],
   "source": [
    "# weekdayを曜日に変換\n",
    "WD2STR = {\n",
    "    0: 'Mon.',\n",
    "    1: 'Tue.',\n",
    "    2: 'Wed.',\n",
    "    3: 'Thu.',\n",
    "    4: 'Fri.',\n",
    "    5: 'Sat.',\n",
    "    6: 'Sun.',}"
   ]
  },
  {
   "cell_type": "code",
   "execution_count": null,
   "id": "bf7aae51",
   "metadata": {},
   "outputs": [],
   "source": [
    "def show_fig(fig):\n",
    "    \"\"\"Jupyter Bookでも表示可能なようRendererを指定\"\"\"\n",
    "    fig.update_layout(margin=dict(t=50, l=25, r=25, b=25))\n",
    "    fig.show()"
   ]
  },
  {
   "cell_type": "code",
   "execution_count": null,
   "id": "c7ffca46",
   "metadata": {},
   "outputs": [],
   "source": [
    "def add_years_to_df(df, unit_years=10):\n",
    "    \"\"\"unit_years単位で区切ったyears列を追加\"\"\"\n",
    "    df_new = df.copy()\n",
    "    df_new['years'] = \\\n",
    "        pd.to_datetime(df['datePublished']).dt.year \\\n",
    "        // unit_years * unit_years\n",
    "    df_new['years'] = df_new['years'].astype(str)\n",
    "    return df_new"
   ]
  },
  {
   "cell_type": "code",
   "execution_count": null,
   "id": "c7bbb929",
   "metadata": {},
   "outputs": [],
   "source": [
    "def add_weekday_to_df(df):\n",
    "    \"\"\"曜日情報をdfに追加\"\"\"\n",
    "    df_new = df.copy()\n",
    "    df_new['weekday'] = \\\n",
    "        pd.to_datetime(df_new['datePublished']).dt.weekday\n",
    "    df_new['weekday_str'] = df_new['weekday'].apply(\n",
    "        lambda x: WD2STR[x])\n",
    "    return df_new"
   ]
  },
  {
   "cell_type": "code",
   "execution_count": null,
   "id": "96463c85",
   "metadata": {},
   "outputs": [],
   "source": [
    "def add_mcid_to_df(df):\n",
    "    \"\"\"mcnameのindexをdfに追加\"\"\"\n",
    "    df_new = df.copy()\n",
    "    mcname2mcid = {\n",
    "        x: i for i, x in enumerate(df['mcname'].unique())}\n",
    "    df_new['mcid'] = df_new['mcname'].apply(\n",
    "        lambda x: mcname2mcid[x])\n",
    "    return df_new"
   ]
  },
  {
   "cell_type": "code",
   "execution_count": null,
   "id": "fe78c1d1",
   "metadata": {},
   "outputs": [],
   "source": [
    "def resample_df_by_cname_and_years(df):\n",
    "    \"\"\"cnameとyearsのすべての組み合わせが存在するように0埋め\n",
    "    この処理を実施しないと作図時にX軸方向の順序が変わってしまう\"\"\"\n",
    "    df_new = df.copy()\n",
    "    yearss = df['years'].unique()\n",
    "    cnames = df['cname'].unique()\n",
    "    for cname, years in itertools.product(cnames, yearss):\n",
    "        df_tmp = df_new[\n",
    "            (df_new['cname'] == cname)&\\\n",
    "            (df_new['years'] == years)]\n",
    "        if df_tmp.shape[0] == 0:\n",
    "            s = pd.DataFrame(\n",
    "                {'cname': cname,\n",
    "                 'years': years,\n",
    "                 'weeks': 0,},\n",
    "                index=df_tmp.columns)\n",
    "            df_new = pd.concat(\n",
    "                [df_new, s], ignore_index=True)\n",
    "    return df_new"
   ]
  },
  {
   "cell_type": "code",
   "execution_count": null,
   "id": "f708ba0d",
   "metadata": {},
   "outputs": [],
   "source": [
    "def resample_df_by_creator_and_years(df):\n",
    "    \"\"\"creatorとyearsのすべての組み合わせが存在するように0埋め\n",
    "    この処理を実施しないと作図時にX軸方向の順序が変わってしまう\"\"\"\n",
    "    df_new = df.copy()\n",
    "    yearss = df['years'].unique()\n",
    "    creators = df['creator'].unique()\n",
    "    for creator, years in itertools.product(creators, yearss):\n",
    "        df_tmp = df_new[\n",
    "            (df_new['creator'] == creator)&\\\n",
    "            (df_new['years'] == years)]\n",
    "        if df_tmp.shape[0] == 0:\n",
    "            s = pd.DataFrame(\n",
    "                {'creator': creator,\n",
    "                 'years': years,\n",
    "                 'weeks': 0,},\n",
    "                index=df_tmp.columns)\n",
    "            df_new = pd.concat(\n",
    "                [df_new, s], ignore_index=True)\n",
    "    return df_new"
   ]
  },
  {
   "cell_type": "markdown",
   "id": "860c6585",
   "metadata": {},
   "source": [
    "## データの用意\n",
    "\n",
    "四大少年誌の`1970-07-27`から`2017-07-06`までの全ての掲載作品のデータを使います。\n",
    "\n",
    "すでに前処理がされているデータがあるので、それを使います。"
   ]
  },
  {
   "cell_type": "code",
   "execution_count": null,
   "id": "636aad5d",
   "metadata": {},
   "outputs": [],
   "source": [
    "file = \"https://raw.githubusercontent.com/shinchu/dataviz-notebooks/main/data/week_4/episodes.csv\""
   ]
  },
  {
   "cell_type": "code",
   "execution_count": null,
   "id": "e68fa0c8",
   "metadata": {},
   "outputs": [],
   "source": [
    "df = pd.read_csv(file)"
   ]
  },
  {
   "cell_type": "code",
   "execution_count": null,
   "id": "b8a15294",
   "metadata": {},
   "outputs": [],
   "source": [
    "df.shape"
   ]
  },
  {
   "cell_type": "markdown",
   "id": "947c9925",
   "metadata": {},
   "source": [
    "各週の掲載作品を一行ずつ格納しているため、合計で約18万行程度になります。"
   ]
  },
  {
   "cell_type": "code",
   "execution_count": null,
   "id": "377d9456",
   "metadata": {},
   "outputs": [],
   "source": [
    "df.columns"
   ]
  },
  {
   "cell_type": "markdown",
   "id": "1617c9de",
   "metadata": {},
   "source": [
    "- `mcname`: 雑誌名（**M**gazine **C**ollection **NAME**）\n",
    "- `miid`：雑誌巻号ID（**M**agazine **I**tem **ID**）\n",
    "- `miname`: 雑誌巻号名（**M**agazine **I**tem **NAME**）\n",
    "- `cid`: マンガ作品ID（**C**omic **ID**）\n",
    "- `cname`: マンガ作品名（**C**omic **NAME**）\n",
    "- `epname`: 各話タイトル（**EP**isode **NAME**）\n",
    "- `creator`: 作者名\n",
    "- `pageStart`: 開始ページ\n",
    "- `pageEnd`: 終了ページ\n",
    "- `numberOfPages`: 雑誌の合計ページ数\n",
    "- `datePublished`: 雑誌の発行日\n",
    "- `price`: 雑誌の価格\n",
    "- `publisher`: 雑誌の出版社\n",
    "- `editor`: 雑誌の編集者（編集長）\n",
    "- `pages`: 各話のページ数（`pageEnd` - `pageStart` + 1）\n",
    "- `pageEndMax`: 雑誌に掲載されているマンガ作品のうち，`pageEnd`の最大値\n",
    "- `pageStartPosition`: 各話の`pageStart`の相対的な位置（`pageStart` / `pageEndMax`）"
   ]
  },
  {
   "cell_type": "code",
   "execution_count": null,
   "id": "1095370b",
   "metadata": {},
   "outputs": [],
   "source": [
    "df.head()"
   ]
  },
  {
   "cell_type": "code",
   "execution_count": null,
   "id": "5601cb80",
   "metadata": {},
   "outputs": [],
   "source": [
    "df.describe()"
   ]
  },
  {
   "cell_type": "markdown",
   "id": "fecac2e1",
   "metadata": {},
   "source": [
    "欠損値を確認してみます。\n",
    "\n",
    "特に`epname`と`publisher`の欠測が多いことがわかります．"
   ]
  },
  {
   "cell_type": "code",
   "execution_count": null,
   "id": "4e058698",
   "metadata": {},
   "outputs": [],
   "source": [
    "df.isna().sum().reset_index()"
   ]
  },
  {
   "cell_type": "markdown",
   "id": "3d5abc15",
   "metadata": {},
   "source": [
    "## 量を見る"
   ]
  },
  {
   "cell_type": "markdown",
   "id": "b34e8c7d",
   "metadata": {},
   "source": [
    "### 棒グラフ"
   ]
  },
  {
   "cell_type": "markdown",
   "id": "e4035870",
   "metadata": {},
   "source": [
    "#### 作品別の掲載週数（上位20作品）"
   ]
  },
  {
   "cell_type": "code",
   "execution_count": null,
   "id": "504f4b10",
   "metadata": {},
   "outputs": [],
   "source": [
    "# 作品ごとの週数を数える\n",
    "df_plot = df.value_counts(\"cname\").reset_index(name=\"weeks\").head(20)"
   ]
  },
  {
   "cell_type": "code",
   "execution_count": null,
   "id": "d2d7e1f1",
   "metadata": {},
   "outputs": [],
   "source": [
    "fig = px.bar(df_plot, x='cname', y='weeks', \n",
    "             title='作品別の掲載週数')\n",
    "fig.update_xaxes(title='作品名')\n",
    "fig.update_yaxes(title='掲載週数')\n",
    "show_fig(fig)"
   ]
  },
  {
   "cell_type": "markdown",
   "id": "16ae0925",
   "metadata": {},
   "source": [
    "#### 作品別・年代別の掲載週数（上位20作品）"
   ]
  },
  {
   "cell_type": "code",
   "execution_count": null,
   "id": "4f954433",
   "metadata": {},
   "outputs": [],
   "source": [
    "# dfに10年区切りの年代情報を追加\n",
    "df = add_years_to_df(df)"
   ]
  },
  {
   "cell_type": "code",
   "execution_count": null,
   "id": "f0e6ad81",
   "metadata": {},
   "outputs": [],
   "source": [
    "# プロット用に集計\n",
    "df_plot = df.groupby('cname')['years'].value_counts().\\\n",
    "    reset_index(name='weeks')\n",
    "# 連載週数上位10作品を抽出\n",
    "cnames = list(df.value_counts('cname').head(20).index)\n",
    "df_plot = df_plot[df_plot['cname'].isin(cnames)].\\\n",
    "    reset_index(drop=True)\n",
    "# cname，yearsでアップサンプリング\n",
    "df_plot = resample_df_by_cname_and_years(df_plot)"
   ]
  },
  {
   "cell_type": "code",
   "execution_count": null,
   "id": "aef23ae0",
   "metadata": {},
   "outputs": [],
   "source": [
    "# 合計連載週数で降順ソート\n",
    "df_plot['order'] = df_plot['cname'].apply(\n",
    "    lambda x: cnames.index(x))\n",
    "df_plot = df_plot.sort_values(\n",
    "    ['order', 'years'], ignore_index=True)"
   ]
  },
  {
   "cell_type": "code",
   "execution_count": null,
   "id": "8c6fc807",
   "metadata": {},
   "outputs": [],
   "source": [
    "# 作図\n",
    "fig = px.bar(\n",
    "    df_plot, x='cname', y='weeks', color='years',\n",
    "    color_discrete_sequence= px.colors.diverging.Portland,\n",
    "    barmode='group', \n",
    "    title='作品別・年代別の合計掲載週数（集合棒グラフ）')\n",
    "fig.update_xaxes(title='作品名')\n",
    "fig.update_yaxes(title='合計連載週数')\n",
    "show_fig(fig)"
   ]
  },
  {
   "cell_type": "code",
   "execution_count": null,
   "id": "b3e1685c",
   "metadata": {},
   "outputs": [],
   "source": [
    "# 作図\n",
    "fig = px.bar(\n",
    "    df_plot, x='cname', y='weeks', color='years',\n",
    "    color_discrete_sequence= px.colors.diverging.Portland,\n",
    "    barmode='stack', \n",
    "    title='作品別・年代別の合計連載週数（積上げ棒グラフ）')\n",
    "fig.update_xaxes(title='作品名')\n",
    "fig.update_yaxes(title='合計連載週数')\n",
    "show_fig(fig)"
   ]
  },
  {
   "cell_type": "markdown",
   "id": "e84138f8",
   "metadata": {},
   "source": [
    "### ヒートマップ"
   ]
  },
  {
   "cell_type": "markdown",
   "id": "2020871f",
   "metadata": {},
   "source": [
    "#### 作品別・年代別の掲載週数（上位20作品）"
   ]
  },
  {
   "cell_type": "code",
   "execution_count": null,
   "id": "1bf63198",
   "metadata": {},
   "outputs": [],
   "source": [
    "# 1年単位で区切ったyearsを追加\n",
    "df = add_years_to_df(df, 1)"
   ]
  },
  {
   "cell_type": "code",
   "execution_count": null,
   "id": "39c2a2d5",
   "metadata": {},
   "outputs": [],
   "source": [
    "# プロット用に集計\n",
    "df_plot = \\\n",
    "    df.groupby('cname')['years'].value_counts().\\\n",
    "    reset_index(name='weeks')\n",
    "# 連載週刊上位10作品を抽出\n",
    "cnames = list(df.value_counts('cname').head(20).index)\n",
    "df_plot = df_plot[df_plot['cname'].isin(cnames)].\\\n",
    "    reset_index(drop=True)\n",
    "# 作図用に空白期間を0埋め\n",
    "df_plot = \\\n",
    "    resample_df_by_cname_and_years(df_plot)"
   ]
  },
  {
   "cell_type": "code",
   "execution_count": null,
   "id": "d3db8e82",
   "metadata": {},
   "outputs": [],
   "source": [
    "# プロット用に集計\n",
    "df_plot = \\\n",
    "    df.groupby('cname')['years'].value_counts().\\\n",
    "    reset_index(name='weeks')\n",
    "# 連載週刊上位10作品を抽出\n",
    "cnames = list(df.value_counts('cname').head(20).index)\n",
    "df_plot = df_plot[df_plot['cname'].isin(cnames)].\\\n",
    "    reset_index(drop=True)\n",
    "# 作図用に空白期間を0埋め\n",
    "df_plot = \\\n",
    "    resample_df_by_cname_and_years(df_plot)"
   ]
  },
  {
   "cell_type": "code",
   "execution_count": null,
   "id": "3d2d2fad",
   "metadata": {},
   "outputs": [],
   "source": [
    "fig = px.density_heatmap(\n",
    "    df_plot, x='years', y='cname', z='weeks',\n",
    "    title='作品別・年代別の合計掲載週数', height=500)\n",
    "fig.update_xaxes(title='掲載年')\n",
    "fig.update_yaxes(title='作品名')\n",
    "show_fig(fig)"
   ]
  },
  {
   "cell_type": "markdown",
   "id": "9b781aae",
   "metadata": {},
   "source": [
    "#### 作家別・年代別の合計掲載週数（上位20名）"
   ]
  },
  {
   "cell_type": "code",
   "execution_count": null,
   "id": "e08632a8",
   "metadata": {},
   "outputs": [],
   "source": [
    "# 10年単位で区切ったyearsを追加\n",
    "df = add_years_to_df(df, 1)"
   ]
  },
  {
   "cell_type": "code",
   "execution_count": null,
   "id": "a71a5aca",
   "metadata": {},
   "outputs": [],
   "source": [
    "# プロット用に集計\n",
    "df_plot = \\\n",
    "    df.groupby('creator')['years'].value_counts().\\\n",
    "    reset_index(name='weeks')\n",
    "# 連載週刊上位10作品を抽出\n",
    "creators = list(df.value_counts('creator').head(20).index)\n",
    "df_plot = df_plot[df_plot['creator'].isin(creators)].\\\n",
    "    reset_index(drop=True)\n",
    "# 作図用に空白期間を0埋め\n",
    "df_plot = \\\n",
    "    resample_df_by_creator_and_years(df_plot)"
   ]
  },
  {
   "cell_type": "code",
   "execution_count": null,
   "id": "69da5c4a",
   "metadata": {},
   "outputs": [],
   "source": [
    "# 合計連載週数で降順ソート\n",
    "df_plot['order'] = df_plot['creator'].apply(\n",
    "    lambda x: creators.index(x))\n",
    "df_plot = df_plot.sort_values(\n",
    "    ['order', 'years'], ignore_index=True)"
   ]
  },
  {
   "cell_type": "code",
   "execution_count": null,
   "id": "acd6e984",
   "metadata": {},
   "outputs": [],
   "source": [
    "fig = px.density_heatmap(\n",
    "    df_plot, x='years', y='creator', z='weeks',\n",
    "    title='作家別・年代別の合計掲載週数', height=500)\n",
    "fig.update_xaxes(title='掲載年')\n",
    "fig.update_yaxes(title='作家名')\n",
    "show_fig(fig)"
   ]
  },
  {
   "cell_type": "markdown",
   "id": "8af3fd8e",
   "metadata": {},
   "source": [
    "## 分布を見る"
   ]
  },
  {
   "cell_type": "markdown",
   "id": "d6f9e374",
   "metadata": {},
   "source": [
    "### ヒストグラム"
   ]
  },
  {
   "cell_type": "code",
   "execution_count": null,
   "id": "83bd0a99",
   "metadata": {},
   "outputs": [],
   "source": [
    "# 平均掲載位置を算出する際の最小連載数\n",
    "MIN_WEEKS = 5"
   ]
  },
  {
   "cell_type": "markdown",
   "id": "9bd7bfe7",
   "metadata": {},
   "source": [
    "#### 掲載位置の分布\n",
    "\n",
    "`MIN_WEEKS`以上連載したマンガ作品の平均掲載位置の分布を見てみます。"
   ]
  },
  {
   "cell_type": "code",
   "execution_count": null,
   "id": "0792d1d1",
   "metadata": {},
   "outputs": [],
   "source": [
    "df_plot = \\\n",
    "    df.groupby(['mcname', 'cname', 'creator'])['pageStartPosition']\\\n",
    "    .agg(['count', 'mean']).reset_index()\n",
    "df_plot = df_plot[df_plot['count'] >= MIN_WEEKS]\\\n",
    "    .reset_index(drop=True)"
   ]
  },
  {
   "cell_type": "code",
   "execution_count": null,
   "id": "e4cb4c99",
   "metadata": {},
   "outputs": [],
   "source": [
    "fig = px.histogram(\n",
    "    df_plot, x='mean', title='作品ごとの掲載位置')\n",
    "fig.update_xaxes(title='平均掲載位置')\n",
    "fig.update_yaxes(title='作品数')\n",
    "show_fig(fig)"
   ]
  },
  {
   "cell_type": "code",
   "execution_count": null,
   "id": "22e563db",
   "metadata": {},
   "outputs": [],
   "source": [
    "fig = px.histogram(\n",
    "    df_plot, x='mean', cumulative=True,\n",
    "    title='作品ごとの掲載位置')\n",
    "fig.update_xaxes(title='平均掲載位置')\n",
    "fig.update_yaxes(title='累積作品数')\n",
    "show_fig(fig)"
   ]
  },
  {
   "cell_type": "code",
   "execution_count": null,
   "id": "37556e3e",
   "metadata": {},
   "outputs": [],
   "source": [
    "df_plot.sort_values('mean').reset_index(drop=True).head(10)"
   ]
  },
  {
   "cell_type": "markdown",
   "id": "4fc10779",
   "metadata": {},
   "source": [
    "#### 長期連載作品の掲載位置の分布"
   ]
  },
  {
   "cell_type": "code",
   "execution_count": null,
   "id": "2d6e297c",
   "metadata": {},
   "outputs": [],
   "source": [
    "df_tmp = \\\n",
    "    df_plot.sort_values(['count'], ascending=False, ignore_index=True)\\\n",
    "    .head(10)\n",
    "df_tmp"
   ]
  },
  {
   "cell_type": "code",
   "execution_count": null,
   "id": "47c5766a",
   "metadata": {},
   "outputs": [],
   "source": [
    "cnames = df_tmp.sort_values('mean')['cname'].values\n",
    "for cname in cnames:\n",
    "    df_c = df[df['cname']==cname].reset_index(drop=True)\n",
    "    pos = df_c['pageStartPosition'].mean()\n",
    "    n = df_c.shape[0]\n",
    "    fig = px.histogram(\n",
    "        df_c, x='pageStartPosition', nbins=20,\n",
    "        title=f'{cname}の掲載位置（全{n}話，平均{pos:.3f}）')\n",
    "    fig.update_xaxes(title='掲載位置')\n",
    "    fig.update_yaxes(title='話数')\n",
    "    show_fig(fig)"
   ]
  },
  {
   "cell_type": "markdown",
   "id": "f319ef72",
   "metadata": {},
   "source": [
    "### 密度プロット"
   ]
  },
  {
   "cell_type": "markdown",
   "id": "1749f63d",
   "metadata": {},
   "source": [
    "#### 長期連載作品の掲載位置の分布"
   ]
  },
  {
   "cell_type": "code",
   "execution_count": null,
   "id": "480d376a",
   "metadata": {},
   "outputs": [],
   "source": [
    "df_tmp = \\\n",
    "    df.groupby('cname')['pageStartPosition']\\\n",
    "    .agg(['count', 'mean']).reset_index()\n",
    "df_tmp = \\\n",
    "    df_tmp.sort_values('count', ascending=False, ignore_index=True)\\\n",
    "    .head(10)\n",
    "cname2position = df_tmp.groupby('cname')['mean'].first().to_dict()"
   ]
  },
  {
   "cell_type": "code",
   "execution_count": null,
   "id": "b77f0b2a",
   "metadata": {},
   "outputs": [],
   "source": [
    "df_plot = df[df['cname'].isin(list(cname2position.keys()))]\\\n",
    "    .reset_index(drop=True)\n",
    "df_plot['position'] = df_plot['cname'].apply(\n",
    "    lambda x: cname2position[x])\n",
    "df_plot = df_plot.sort_values('position', ignore_index=True)"
   ]
  },
  {
   "cell_type": "code",
   "execution_count": null,
   "id": "d9ac1b21",
   "metadata": {},
   "outputs": [],
   "source": [
    "cnames = df_tmp.sort_values('mean')['cname'].values\n",
    "data = [\n",
    "    df[df['cname']==cname].reset_index(drop=True)\\\n",
    "    ['pageStartPosition'] for cname in cnames]"
   ]
  },
  {
   "cell_type": "code",
   "execution_count": null,
   "id": "f730323c",
   "metadata": {},
   "outputs": [],
   "source": [
    "fig = ff.create_distplot(\n",
    "    data, cnames, show_hist=False,\n",
    "    colors= px.colors.sequential.Plasma_r)\n",
    "fig.update_xaxes(title='掲載位置')\n",
    "fig.update_yaxes(title='確率密度')\n",
    "fig.update_layout(\n",
    "    hovermode='x unified', height=600,\n",
    "    title_text='長期連載作品の掲載位置')\n",
    "show_fig(fig)"
   ]
  },
  {
   "cell_type": "markdown",
   "id": "9f8e62e6",
   "metadata": {},
   "source": [
    "### 箱ひげ図"
   ]
  },
  {
   "cell_type": "markdown",
   "id": "56195e7e",
   "metadata": {},
   "source": [
    "#### 長期連載作品の掲載位置の分布"
   ]
  },
  {
   "cell_type": "code",
   "execution_count": null,
   "id": "addd16d7",
   "metadata": {},
   "outputs": [],
   "source": [
    "df_tmp = \\\n",
    "    df.groupby('cname')['pageStartPosition']\\\n",
    "    .agg(['count', 'mean']).reset_index()\n",
    "df_tmp = \\\n",
    "    df_tmp.sort_values('count', ascending=False, ignore_index=True)\\\n",
    "    .head(10)\n",
    "cname2position = df_tmp.groupby('cname')['mean'].first().to_dict()"
   ]
  },
  {
   "cell_type": "code",
   "execution_count": null,
   "id": "40dac875",
   "metadata": {},
   "outputs": [],
   "source": [
    "df_plot = df[df['cname'].isin(list(cname2position.keys()))]\\\n",
    "    .reset_index(drop=True)\n",
    "df_plot['position'] = df_plot['cname'].apply(\n",
    "    lambda x: cname2position[x])\n",
    "df_plot = df_plot.sort_values('position', ignore_index=True)"
   ]
  },
  {
   "cell_type": "code",
   "execution_count": null,
   "id": "d71623b6",
   "metadata": {},
   "outputs": [],
   "source": [
    "fig = px.box(\n",
    "    df_plot, x='cname', y='pageStartPosition',\n",
    "    title='長期連載作品の掲載位置')\n",
    "fig.update_xaxes(title='作品名')\n",
    "fig.update_yaxes(title='掲載位置')\n",
    "show_fig(fig)"
   ]
  },
  {
   "cell_type": "markdown",
   "id": "3d5102ce",
   "metadata": {},
   "source": [
    "### バイオリンプロット"
   ]
  },
  {
   "cell_type": "markdown",
   "id": "e2ffe664",
   "metadata": {},
   "source": [
    "#### 長期連載作品の掲載位置の分布"
   ]
  },
  {
   "cell_type": "code",
   "execution_count": null,
   "id": "45e91f9e",
   "metadata": {},
   "outputs": [],
   "source": [
    "df_tmp = \\\n",
    "    df.groupby('cname')['pageStartPosition']\\\n",
    "    .agg(['count', 'mean']).reset_index()\n",
    "df_tmp = \\\n",
    "    df_tmp.sort_values('count', ascending=False, ignore_index=True)\\\n",
    "    .head(10)\n",
    "cname2position = df_tmp.groupby('cname')['mean'].first().to_dict()"
   ]
  },
  {
   "cell_type": "code",
   "execution_count": null,
   "id": "dd44f8b3",
   "metadata": {},
   "outputs": [],
   "source": [
    "df_plot = df[df['cname'].isin(list(cname2position.keys()))]\\\n",
    "    .reset_index(drop=True)\n",
    "df_plot['position'] = df_plot['cname'].apply(\n",
    "    lambda x: cname2position[x])\n",
    "df_plot = df_plot.sort_values('position', ignore_index=True)"
   ]
  },
  {
   "cell_type": "code",
   "execution_count": null,
   "id": "13e70d91",
   "metadata": {},
   "outputs": [],
   "source": [
    "fig = px.violin(\n",
    "    df_plot, x='cname', y='pageStartPosition', points=False,\n",
    "    title='長期連載作品の掲載位置')\n",
    "fig.update_traces(scalemode='count', meanline_visible=True, width=1)\n",
    "fig.update_layout(violinmode='overlay', violingap=0)\n",
    "fig.update_xaxes(title='作品名')\n",
    "fig.update_yaxes(title='掲載位置')\n",
    "show_fig(fig)"
   ]
  },
  {
   "cell_type": "markdown",
   "id": "0cd59ba9",
   "metadata": {},
   "source": [
    "### リッジラインプロット"
   ]
  },
  {
   "cell_type": "markdown",
   "id": "961cca4c",
   "metadata": {},
   "source": [
    "Plotlyでは直接リッジラインプロットを描く関数がないため、バイオリンプロットを応用します。Altairではリッジラインプロットを作れます。ぜひ試してみてください。"
   ]
  },
  {
   "cell_type": "markdown",
   "id": "388034ca",
   "metadata": {},
   "source": [
    "#### 長期連載作品の話数毎の掲載位置の分布"
   ]
  },
  {
   "cell_type": "code",
   "execution_count": null,
   "id": "edaf4665",
   "metadata": {},
   "outputs": [],
   "source": [
    "df_tmp = \\\n",
    "    df.groupby('cname')['pageStartPosition']\\\n",
    "    .agg(['count', 'mean']).reset_index()\n",
    "df_tmp = \\\n",
    "    df_tmp.sort_values('count', ascending=False, ignore_index=True)\\\n",
    "    .head(10)\n",
    "cname2position = df_tmp.groupby('cname')['mean'].first().to_dict()"
   ]
  },
  {
   "cell_type": "code",
   "execution_count": null,
   "id": "75b93902",
   "metadata": {},
   "outputs": [],
   "source": [
    "df_plot = df[df['cname'].isin(list(cname2position.keys()))]\\\n",
    "    .reset_index(drop=True)\n",
    "df_plot['position'] = df_plot['cname'].apply(\n",
    "    lambda x: cname2position[x])\n",
    "df_plot = df_plot.sort_values('position', ignore_index=True)"
   ]
  },
  {
   "cell_type": "code",
   "execution_count": null,
   "id": "351a3c4e",
   "metadata": {},
   "outputs": [],
   "source": [
    "# 話数の区切り\n",
    "UNIT_EP = 100"
   ]
  },
  {
   "cell_type": "code",
   "execution_count": null,
   "id": "f3346e55",
   "metadata": {},
   "outputs": [],
   "source": [
    "cnames = df_plot['cname'].unique()\n",
    "for cname in cnames:\n",
    "    df_c = df_plot[df_plot['cname']==cname].reset_index(drop=True)\n",
    "    df_c['eprange'] = (df_c.index + 1) // UNIT_EP * UNIT_EP\n",
    "    df_c = df_c.sort_values('eprange', ascending=False, ignore_index=False)\n",
    "    df_c['eprange'] = df_c['eprange'].apply(\n",
    "        lambda x: f'{x}話以降')\n",
    "    fig = px.violin(\n",
    "        df_c, y='eprange', x='pageStartPosition',\n",
    "        title=f'{cname}の掲載位置', orientation='h',\n",
    "        points=False)\n",
    "    fig.update_traces(\n",
    "        side='positive', scalemode='count', width=4)\n",
    "    fig.update_layout(xaxis_showgrid=False, xaxis_zeroline=False)\n",
    "    fig.update_xaxes(title='掲載位置')\n",
    "    fig.update_yaxes(title='話数')\n",
    "    show_fig(fig)"
   ]
  },
  {
   "cell_type": "markdown",
   "id": "e43330dd",
   "metadata": {},
   "source": [
    "## 比率を見る"
   ]
  },
  {
   "cell_type": "markdown",
   "id": "5747bcdd",
   "metadata": {},
   "source": [
    "### 円グラフ"
   ]
  },
  {
   "cell_type": "markdown",
   "id": "af07d019",
   "metadata": {},
   "source": [
    "#### 雑誌別の合計作品数"
   ]
  },
  {
   "cell_type": "code",
   "execution_count": null,
   "id": "e53207cf",
   "metadata": {},
   "outputs": [],
   "source": [
    "df_plot = \\\n",
    "    df.groupby('mcname')['cname'].nunique().reset_index()\n",
    "df_plot = \\\n",
    "    df_plot.sort_values(\n",
    "    'cname', ascending=False, ignore_index=True)\n",
    "fig = px.pie(\n",
    "    df_plot, values='cname', names='mcname',\n",
    "    color_discrete_sequence= px.colors.diverging.Portland,\n",
    "    title='雑誌別の合計作品数')\n",
    "show_fig(fig)"
   ]
  },
  {
   "cell_type": "markdown",
   "id": "fc62b05d",
   "metadata": {},
   "source": [
    "### 積み上げ棒グラフ"
   ]
  },
  {
   "cell_type": "markdown",
   "id": "afbcf1f0",
   "metadata": {},
   "source": [
    "#### 雑誌別・年代別の合計作品数"
   ]
  },
  {
   "cell_type": "code",
   "execution_count": null,
   "id": "77808f12",
   "metadata": {},
   "outputs": [],
   "source": [
    "col_count = 'cname'"
   ]
  },
  {
   "cell_type": "code",
   "execution_count": null,
   "id": "1eb1ab18",
   "metadata": {},
   "outputs": [],
   "source": [
    "# 10年単位で区切ったyearsを追加\n",
    "df = add_years_to_df(df, 10)\n",
    "# mcname, yearsで集計\n",
    "df_plot = \\\n",
    "    df.groupby(['mcname', 'years'])[col_count].\\\n",
    "    nunique().reset_index()\n",
    "# years単位で集計してdf_plotにカラムを追加\n",
    "df_tmp = df_plot.groupby('years')[col_count].sum().reset_index(\n",
    "    name='years_total')\n",
    "df_plot = pd.merge(df_plot, df_tmp, how='left', on='years')\n",
    "# years合計あたりの比率を計算\n",
    "df_plot['ratio'] = df_plot[col_count] / df_plot['years_total']\n",
    "df_plot['text'] = df_plot['ratio'].apply(\n",
    "    lambda x: f'{x:.2}')"
   ]
  },
  {
   "cell_type": "code",
   "execution_count": null,
   "id": "13e10c41",
   "metadata": {},
   "outputs": [],
   "source": [
    "fig = px.bar(\n",
    "    df_plot, y='years', x='ratio', color='mcname', text='text',\n",
    "    color_discrete_sequence= px.colors.diverging.Portland,\n",
    "    barmode='stack', title='雑誌別・年代別の合計作品数')\n",
    "fig.update_xaxes(title='期間')\n",
    "fig.update_yaxes(title='比率')\n",
    "show_fig(fig)"
   ]
  },
  {
   "cell_type": "code",
   "execution_count": null,
   "id": "a08d4677",
   "metadata": {},
   "outputs": [],
   "source": [
    "fig = px.bar(\n",
    "    df_plot, y='mcname', x='ratio', color='years', text='text',\n",
    "    color_discrete_sequence= px.colors.diverging.Portland,\n",
    "    barmode='group', title='雑誌別・年代別の合計作品数')\n",
    "fig.update_xaxes(title='期間')\n",
    "fig.update_yaxes(title='比率')\n",
    "show_fig(fig)"
   ]
  },
  {
   "cell_type": "markdown",
   "id": "b7a653a5",
   "metadata": {},
   "source": [
    "### パラレルセットグラフ（サンキーチャート）\n",
    "\n",
    "パラレルセットグラフは多変数の内訳を見るのに便利ですが、Altairでは作れないようです。\n",
    "\n",
    "一方で、Plotlyでは簡単に作れます。"
   ]
  },
  {
   "cell_type": "markdown",
   "id": "b3a30a3b",
   "metadata": {},
   "source": [
    "#### 雑誌別・年代別・曜日別の雑誌巻号数"
   ]
  },
  {
   "cell_type": "code",
   "execution_count": null,
   "id": "6f2c59d3",
   "metadata": {},
   "outputs": [],
   "source": [
    "# 10年単位で区切ったyearsを追加\n",
    "df_plot = df[~df['miname'].duplicated()].reset_index(drop=True)\n",
    "df_plot = add_years_to_df(df_plot, 10)\n",
    "df_plot = add_weekday_to_df(df_plot)\n",
    "df_plot = add_mcid_to_df(df_plot)\n",
    "df_plot = df_plot.sort_values(\n",
    "    ['weekday', 'years', 'mcname'], ignore_index=True)"
   ]
  },
  {
   "cell_type": "code",
   "execution_count": null,
   "id": "d5e6fa3c",
   "metadata": {},
   "outputs": [],
   "source": [
    "fig = px.parallel_categories(\n",
    "    df_plot, dimensions=['mcname', 'years', 'weekday_str'],\n",
    "    color='mcid', \n",
    "    labels={\n",
    "        'years': '年代', 'mcname': '雑誌名', \n",
    "        'weekday_str': '発売曜日'},\n",
    "    title='雑誌別・年代別・曜日別の雑誌巻号数')\n",
    "fig.update_coloraxes(showscale=False)\n",
    "show_fig(fig)"
   ]
  },
  {
   "cell_type": "markdown",
   "id": "a76e78ac",
   "metadata": {},
   "source": [
    "## 変数の関係を見る"
   ]
  },
  {
   "cell_type": "markdown",
   "id": "64658f36",
   "metadata": {},
   "source": [
    "### 散布図"
   ]
  },
  {
   "cell_type": "markdown",
   "id": "9923c468",
   "metadata": {},
   "source": [
    "#### 雑誌別・作品別の平均掲載位置と連載週数"
   ]
  },
  {
   "cell_type": "code",
   "execution_count": null,
   "id": "5ac818bd",
   "metadata": {},
   "outputs": [],
   "source": [
    "df_plot = \\\n",
    "    df.groupby(['mcname', 'cname'])['pageStartPosition'].\\\n",
    "    agg(['count', 'mean']).reset_index()\n",
    "df_plot.columns = ['mcname', 'cname', 'weeks', 'position']\n",
    "df_plot = \\\n",
    "    df_plot[df_plot['weeks'] >= MIN_WEEKS].reset_index(drop=True)"
   ]
  },
  {
   "cell_type": "code",
   "execution_count": null,
   "id": "0cd109e9",
   "metadata": {},
   "outputs": [],
   "source": [
    "fig = px.scatter(\n",
    "    df_plot, x='position', y='weeks', color='mcname', \n",
    "    opacity=0.7,\n",
    "    hover_data=['cname'], \n",
    "    color_discrete_sequence= px.colors.diverging.Portland,\n",
    "    title='雑誌別・作品別の平均掲載位置と連載週数')\n",
    "fig.update_traces(\n",
    "    marker={'size': 10, 'line_width':1})\n",
    "fig.update_xaxes(title='平均掲載位置')\n",
    "fig.update_yaxes(title='連載週数')\n",
    "show_fig(fig)"
   ]
  },
  {
   "cell_type": "markdown",
   "id": "08ce4c02",
   "metadata": {},
   "source": [
    "### 二次元ヒストグラム\n",
    "\n",
    "二次元のヒストグラム（ヒートマップの一種）は、散布図のドットが重複して確認しずらい時に使えます。"
   ]
  },
  {
   "cell_type": "markdown",
   "id": "462176da",
   "metadata": {},
   "source": [
    "#### 作品別の平均掲載位置と連載週数"
   ]
  },
  {
   "cell_type": "code",
   "execution_count": null,
   "id": "f2a08311",
   "metadata": {},
   "outputs": [],
   "source": [
    "df_plot = \\\n",
    "    df.groupby('cname')['pageStartPosition'].\\\n",
    "    agg(['count', 'mean']).reset_index()\n",
    "df_plot.columns = ['cname', 'weeks', 'position']\n",
    "df_plot = \\\n",
    "    df_plot[df_plot['weeks'] >= MIN_WEEKS].reset_index(drop=True)"
   ]
  },
  {
   "cell_type": "code",
   "execution_count": null,
   "id": "7bdb777a",
   "metadata": {},
   "outputs": [],
   "source": [
    "fig = px.density_heatmap(\n",
    "    df_plot, x='position', y='weeks',\n",
    "    title='作品別の平均掲載位置と掲載週数')\n",
    "fig.update_xaxes(title='平均掲載位置')\n",
    "fig.update_yaxes(title='掲載週数')\n",
    "show_fig(fig)"
   ]
  },
  {
   "cell_type": "code",
   "execution_count": null,
   "id": "bdcf1b97",
   "metadata": {},
   "outputs": [],
   "source": [
    "# 表示範囲を変更\n",
    "fig.update_yaxes(range=[0, 200])\n",
    "show_fig(fig)"
   ]
  },
  {
   "cell_type": "markdown",
   "id": "d64c85dd",
   "metadata": {},
   "source": [
    "### 並行座標プロット"
   ]
  },
  {
   "cell_type": "markdown",
   "id": "d02e0d9e",
   "metadata": {},
   "source": [
    "並行座標プロットはパラレルセットグラフと似ていますが、量的変数を対象としているところが異なります。\n",
    "\n",
    "パラレルセットグラフと同様、3つ以上の変数を扱う時に強みを発揮します。"
   ]
  },
  {
   "cell_type": "markdown",
   "id": "4a4065a2",
   "metadata": {},
   "source": [
    "#### 作品別の平均掲載位置と連載週数と平均ページ数"
   ]
  },
  {
   "cell_type": "code",
   "execution_count": null,
   "id": "6adadc2a",
   "metadata": {},
   "outputs": [],
   "source": [
    "df_plot = \\\n",
    "    df.groupby(['mcname', 'cname'])\\\n",
    "    [['pages', 'pageStartPosition']].\\\n",
    "    agg(['count', 'mean']).reset_index()\n",
    "df_plot.columns = [\n",
    "    'mcname', 'cname', 'weeks', 'pages',\n",
    "    '_weeks', 'position']\n",
    "df_plot = \\\n",
    "    df_plot[df_plot['weeks'] >= MIN_WEEKS].reset_index(drop=True)"
   ]
  },
  {
   "cell_type": "code",
   "execution_count": null,
   "id": "4f3e36b3",
   "metadata": {},
   "outputs": [],
   "source": [
    "fig = px.parallel_coordinates(\n",
    "    df_plot, dimensions=['position', 'pages', 'weeks'],\n",
    "    color='position',\n",
    "    labels={\n",
    "        'position': '掲載位置', 'weeks': '掲載週数',\n",
    "        'pages': 'ページ数'})\n",
    "show_fig(fig)"
   ]
  },
  {
   "cell_type": "markdown",
   "id": "5d78fa95",
   "metadata": {},
   "source": [
    "### コレログラム"
   ]
  },
  {
   "cell_type": "markdown",
   "id": "2da800d7",
   "metadata": {},
   "source": [
    "コレログラムは、複数の量的変数の相関係数を見るヒートマップです。"
   ]
  },
  {
   "cell_type": "markdown",
   "id": "035e1c64",
   "metadata": {},
   "source": [
    "#### 作品別の平均掲載位置と掲載週数"
   ]
  },
  {
   "cell_type": "code",
   "execution_count": null,
   "id": "3a37c281",
   "metadata": {},
   "outputs": [],
   "source": [
    "df_plot = \\\n",
    "    df.groupby(['cname'])\\\n",
    "    [['pages', 'pageStartPosition']].\\\n",
    "    agg(['count', 'mean']).reset_index()\n",
    "df_plot.columns = [\n",
    "    '作品名', '掲載週数', '平均ページ数',\n",
    "    '_weeks', '平均掲載位置']\n",
    "df_plot = \\\n",
    "    df_plot[df_plot['掲載週数'] >= MIN_WEEKS].\\\n",
    "    reset_index(drop=True)\n",
    "df_plot = df_plot.drop(columns=['_weeks'])\n",
    "df_corr = df_plot.corr().iloc[::-1]"
   ]
  },
  {
   "cell_type": "code",
   "execution_count": null,
   "id": "1e44c41b",
   "metadata": {},
   "outputs": [],
   "source": [
    "# 作図対象の相関係数\n",
    "df_corr"
   ]
  },
  {
   "cell_type": "code",
   "execution_count": null,
   "id": "2f42ef0d",
   "metadata": {},
   "outputs": [],
   "source": [
    "fig = ff.create_annotated_heatmap(\n",
    "    df_corr.values,\n",
    "    x=list(df_corr.index.values),\n",
    "    y=list(df_corr.columns.values),\n",
    "    annotation_text=df_corr.values,\n",
    "    #colorscale='BlueRed_r'\n",
    ")\n",
    "show_fig(fig)"
   ]
  },
  {
   "cell_type": "markdown",
   "id": "ae9d2743",
   "metadata": {},
   "source": [
    "### 折れ線グラフ"
   ]
  },
  {
   "cell_type": "markdown",
   "id": "3226303a",
   "metadata": {},
   "source": [
    "#### 雑誌別の年毎のエピソード数の推移"
   ]
  },
  {
   "cell_type": "code",
   "execution_count": null,
   "id": "6d0333fc",
   "metadata": {},
   "outputs": [],
   "source": [
    "# 1年単位で区切ったyearsを追加\n",
    "df = add_years_to_df(df, 1)"
   ]
  },
  {
   "cell_type": "code",
   "execution_count": null,
   "id": "c047213a",
   "metadata": {},
   "outputs": [],
   "source": [
    "df_plot = df.groupby([\"years\", \"mcname\"])[\"cname\"].count().reset_index(name=\"count\")"
   ]
  },
  {
   "cell_type": "code",
   "execution_count": null,
   "id": "ed3abba9",
   "metadata": {},
   "outputs": [],
   "source": [
    "fig = px.line(df_plot, x=\"years\", y=\"count\", color=\"mcname\",\n",
    "              labels={\n",
    "                  \"years\": \"年\",\n",
    "                  \"count\": \"エピソード数\",\n",
    "                  \"mcname\": \"雑誌名\"\n",
    "              },\n",
    "              title=\"エピソード数の推移\")\n",
    "show_fig(fig)"
   ]
  }
 ],
 "metadata": {
  "kernelspec": {
   "display_name": "Python 3 (ipykernel)",
   "language": "python",
   "name": "python3"
  },
  "language_info": {
   "codemirror_mode": {
    "name": "ipython",
    "version": 3
   },
   "file_extension": ".py",
   "mimetype": "text/x-python",
   "name": "python",
   "nbconvert_exporter": "python",
   "pygments_lexer": "ipython3",
   "version": "3.10.0"
  }
 },
 "nbformat": 4,
 "nbformat_minor": 5
}
