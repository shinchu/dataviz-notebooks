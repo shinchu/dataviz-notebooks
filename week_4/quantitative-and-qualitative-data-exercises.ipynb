{
 "cells": [
  {
   "cell_type": "markdown",
   "id": "57e78529",
   "metadata": {},
   "source": [
    "# 量的データと質的データの可視化の練習\n",
    "\n",
    "[![Open In Colab](https://colab.research.google.com/assets/colab-badge.svg)](https://colab.research.google.com/github/shinchu/dataviz-notebooks/blob/main/week_4/quantitative-and-qualitative-data-exercises.ipynb)"
   ]
  },
  {
   "cell_type": "markdown",
   "id": "fe82b8e9",
   "metadata": {},
   "source": [
    "好きなデータを読み込んで、データ可視化してみましょう。"
   ]
  },
  {
   "cell_type": "code",
   "execution_count": null,
   "id": "df84f4b3",
   "metadata": {},
   "outputs": [],
   "source": [
    "import pandas as pd\n",
    "import altair as alt\n",
    "\n",
    "## If necessary, import other libraries here"
   ]
  },
  {
   "cell_type": "markdown",
   "id": "f002a445",
   "metadata": {},
   "source": [
    "### ノーベル賞受賞データ"
   ]
  },
  {
   "cell_type": "code",
   "execution_count": null,
   "id": "13b49857",
   "metadata": {},
   "outputs": [],
   "source": [
    "# 注意：このデータはタブ区切りです。区切り文字を指定して読み込みましょう\n",
    "nobel_data = \"https://raw.githubusercontent.com/shinchu/dataviz-notebooks/main/data/week_2/nobel_prize_data_cleaned.tsv\"\n",
    "df_nobel = pd.read_csv(nobel_data, sep='\\t')\n",
    "df_nobel"
   ]
  },
  {
   "cell_type": "markdown",
   "id": "d53a8394",
   "metadata": {},
   "source": [
    "### オリンピック選手\n",
    "120 years of Olympic history: athletes and resultsを以下のURLからダウンロードできます．Kaggleのユーザー登録が必要です．\n",
    "https://www.kaggle.com/datasets/heesoo37/120-years-of-olympic-history-athletes-and-results?select=athlete_events.csv\n"
   ]
  },
  {
   "cell_type": "code",
   "execution_count": null,
   "id": "e2c3e5a8",
   "metadata": {},
   "outputs": [],
   "source": [
    "# 以下のコードを実行してファイルを読み込みます。ファイル名は英語にしてください。\n",
    "from google.colab import files\n",
    "uploaded = uploaded = files.upload()"
   ]
  },
  {
   "cell_type": "code",
   "execution_count": null,
   "id": "0f9d8643",
   "metadata": {},
   "outputs": [],
   "source": [
    "# hogehogeをファイルの名前に書き換えて、ファイルを読み込みます。\n",
    "import io\n",
    "df_travel = pd.read_csv(io.BytesIO(uploaded['hogehoge.csv']))\n",
    "df_travel"
   ]
  },
  {
   "cell_type": "markdown",
   "id": "16a36c4b",
   "metadata": {},
   "source": [
    "### 日本の旅行者のデータ\n",
    "以下のURLから日本の旅行者のデータをダウンロードできます．\n",
    "https://dashboard.e-stat.go.jp/graph?screenCode=00480"
   ]
  },
  {
   "cell_type": "code",
   "execution_count": null,
   "id": "fb4f47b9",
   "metadata": {},
   "outputs": [],
   "source": [
    "# 以下のコードを実行してファイルを読み込みます。ファイル名は英語にしてください。\n",
    "from google.colab import files\n",
    "uploaded = uploaded = files.upload()"
   ]
  },
  {
   "cell_type": "code",
   "execution_count": null,
   "id": "aaa47c7d",
   "metadata": {},
   "outputs": [],
   "source": [
    "# hogehogeをファイルの名前に書き換えて、ファイルを読み込みます。\n",
    "import io\n",
    "df_travel = pd.read_csv(io.BytesIO(uploaded['hogehoge.csv']))\n",
    "df_travel"
   ]
  }
 ],
 "metadata": {
  "kernelspec": {
   "display_name": "Python 3 (ipykernel)",
   "language": "python",
   "name": "python3"
  },
  "language_info": {
   "codemirror_mode": {
    "name": "ipython",
    "version": 3
   },
   "file_extension": ".py",
   "mimetype": "text/x-python",
   "name": "python",
   "nbconvert_exporter": "python",
   "pygments_lexer": "ipython3",
   "version": "3.10.0"
  },
  "vscode": {
   "interpreter": {
    "hash": "b1e65045f1ae96e0640580b26940ed94a750a055d879b6076c56c078e11e4ff1"
   }
  }
 },
 "nbformat": 4,
 "nbformat_minor": 5
}
